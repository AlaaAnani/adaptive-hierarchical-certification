{
 "cells": [
  {
   "cell_type": "code",
   "execution_count": 76,
   "metadata": {},
   "outputs": [],
   "source": [
    "import pickle\n",
    "import os\n",
    "from os.path import dirname, abspath\n",
    "import glob\n",
    "import numpy as np\n",
    "from plotly.subplots import make_subplots\n",
    "\n",
    "os.chdir('/BS/mlcysec2/work/adaptive-hierarchical-certification/')\n",
    "\n",
    "experiment_name = 'exp_best_threshold_function'\n",
    "dicts = glob.glob(f'cityscapes_logs/slurm_logs/{experiment_name}/frankfurt_000000_020321.pkl')\n",
    "\n",
    "overall_d = dict()\n",
    "for im_dict in dicts:\n",
    "    d = pickle.load(open(im_dict, 'rb'))\n",
    "    for im_name_k in d.keys():\n",
    "        overall_d[im_name_k] = d[im_name_k]\n",
    "graph_dict = {} # should have (n, n0, th_func, i) as keys, values: sum\n",
    "for name, name_dict in overall_d.items():\n",
    "    for k in name_dict.keys():\n",
    "        if k not in graph_dict:\n",
    "            graph_dict[k] = {'num_pixels':0, \n",
    "                            'certified_pixels':0, \n",
    "                            'c_info_gain':0, \n",
    "                            'certified_pos':0, \n",
    "                            'boundary_pixels':0, \n",
    "                            'nonboundary_pixels':0, \n",
    "                            'pos_certified_boundary_pixels':0, \n",
    "                            'pos_certified_nonboundary_pixels':0,\n",
    "                            'num_h_pixels':{}, 'pos_h_pixels':{},\n",
    "                            'ig_per_class_dict': {i:{'ig': np.zeros(19), 'pixels_count': np.zeros(19)} for i in range(4)}}\n",
    "        graph_dict[k]['num_pixels'] += name_dict[k]['num_pixels']\n",
    "        graph_dict[k]['certified_pixels'] += name_dict[k]['certified_pixels']\n",
    "        graph_dict[k]['certified_pos'] += name_dict[k]['certified_pos']\n",
    "        graph_dict[k]['c_info_gain'] += name_dict[k]['c_info_gain']\n",
    "        for i in name_dict[k]['ig_per_class_dict'].keys():\n",
    "            graph_dict[k]['ig_per_class_dict'][i]['ig'] += name_dict[k]['ig_per_class_dict'][i]['ig']\n",
    "            graph_dict[k]['ig_per_class_dict'][i]['pixels_count'] += name_dict[k]['ig_per_class_dict'][i]['pixels_count']"
   ]
  },
  {
   "cell_type": "code",
   "execution_count": 72,
   "metadata": {},
   "outputs": [
    {
     "name": "stdout",
     "output_type": "stream",
     "text": [
      "0.9000518085061927\n",
      "0.8930993534048355\n"
     ]
    }
   ],
   "source": [
    "k = (300, 20, '(0, 0.2, 0.3)', 4)\n",
    "print(graph_dict[k]['c_info_gain']/graph_dict[k]['num_pixels']/np.log(19))\n",
    "k = (300, 20, None, 0)\n",
    "print(graph_dict[k]['c_info_gain']/graph_dict[k]['num_pixels']/np.log(19))\n",
    "\n",
    "# choose the threshold functions with c_info_gain > SegCertify \n",
    "ns = sorted(list(set(np.array(list(graph_dict.keys()))[:, 0])))\n",
    "n0s = list(set(np.array(list(graph_dict.keys()))[:, 1]))\n",
    "fs_ = list(set(np.array(list(graph_dict.keys()))[:, 2]))\n",
    "fs = fs_\n",
    "n0 = 20\n",
    "\n",
    "\n",
    "compare_dict = dict() # th_func: (adaptive, segcertify)\n",
    "fs_.remove(None)\n",
    "for th in fs_:\n",
    "    c_info_gain_adaptive = 0\n",
    "    num_pixels_adaptive = 0\n",
    "    c_info_gain_segcertify = 0\n",
    "    num_pixels_segcertify = 0\n",
    "    for n in ns:\n",
    "        c_info_gain_adaptive += graph_dict[(n, n0, th, 4)]['c_info_gain']\n",
    "        num_pixels_adaptive += graph_dict[(n, n0, th, 4)]['num_pixels']        \n",
    "        c_info_gain_segcertify += graph_dict[(n, n0, None, 0)]['c_info_gain']\n",
    "        num_pixels_segcertify += graph_dict[(n, n0, None, 0)]['num_pixels']\n",
    "    if th not in compare_dict:\n",
    "        compare_dict[th] = []\n",
    "    compare_dict[th].append((c_info_gain_adaptive/num_pixels_adaptive, c_info_gain_segcertify/num_pixels_segcertify))\n",
    "\n",
    "\n",
    "compare_dict = dict(sorted(compare_dict.items(), key=lambda x:x[1][0], reverse=True))\n"
   ]
  },
  {
   "cell_type": "code",
   "execution_count": 77,
   "metadata": {},
   "outputs": [
    {
     "data": {
      "application/vnd.plotly.v1+json": {
       "config": {
        "plotlyServerURL": "https://plot.ly"
       },
       "data": [
        {
         "line": {
          "color": "#636EFA",
          "width": 2
         },
         "mode": "lines+markers+text",
         "name": "(0, 0, 0.25)",
         "showlegend": true,
         "textposition": "top center",
         "type": "scatter",
         "x": [
          100,
          300,
          500,
          700,
          900
         ],
         "xaxis": "x",
         "y": [
          0.8996867799343055,
          0.942171404914559,
          0.9528464894839768,
          0.9561938587077902,
          0.9595864405671735
         ],
         "yaxis": "y"
        },
        {
         "line": {
          "color": "#EF553B",
          "width": 2
         },
         "mode": "lines+markers+text",
         "name": "(0, 0.05, 0.25)",
         "showlegend": true,
         "textposition": "top center",
         "type": "scatter",
         "x": [
          100,
          300,
          500,
          700,
          900
         ],
         "xaxis": "x",
         "y": [
          0.9023516017801795,
          0.9446417579544278,
          0.9552901507269429,
          0.9586462356395409,
          0.9620301018101396
         ],
         "yaxis": "y"
        },
        {
         "line": {
          "color": "#00CC96",
          "width": 2
         },
         "mode": "lines+markers+text",
         "name": "(0, 0.1, 0.25)",
         "showlegend": true,
         "textposition": "top center",
         "type": "scatter",
         "x": [
          100,
          300,
          500,
          700,
          900
         ],
         "xaxis": "x",
         "y": [
          0.9048284915866367,
          0.9468479166780153,
          0.9574554546593528,
          0.9607973765776758,
          0.9641354853821558
         ],
         "yaxis": "y"
        },
        {
         "line": {
          "color": "#AB63FA",
          "width": 2
         },
         "mode": "lines+markers+text",
         "name": "(0, 0, 0.2)",
         "showlegend": true,
         "textposition": "top center",
         "type": "scatter",
         "x": [
          100,
          300,
          500,
          700,
          900
         ],
         "xaxis": "x",
         "y": [
          0.8951796793715988,
          0.9378936359129957,
          0.9490796777374072,
          0.9528628314004478,
          0.9564934605097588
         ],
         "yaxis": "y"
        },
        {
         "line": {
          "color": "#FFA15A",
          "width": 2
         },
         "mode": "lines+markers+text",
         "name": "(0, 0.05, 0.2)",
         "showlegend": true,
         "textposition": "top center",
         "type": "scatter",
         "x": [
          100,
          300,
          500,
          700,
          900
         ],
         "xaxis": "x",
         "y": [
          0.8978445012174727,
          0.9403639889528644,
          0.9515233389803733,
          0.9553152083321985,
          0.958937121752725
         ],
         "yaxis": "y"
        },
        {
         "line": {
          "color": "#19D3F3",
          "width": 2
         },
         "mode": "lines+markers+text",
         "name": "(0, 0.1, 0.2)",
         "showlegend": true,
         "textposition": "top center",
         "type": "scatter",
         "x": [
          100,
          300,
          500,
          700,
          900
         ],
         "xaxis": "x",
         "y": [
          0.90032139102393,
          0.9425701476764519,
          0.9536886429127832,
          0.9574663492703335,
          0.9610425053247411
         ],
         "yaxis": "y"
        },
        {
         "line": {
          "color": "#FF6692",
          "width": 2
         },
         "mode": "lines+markers+text",
         "name": "(0, 0.15, 0.25)",
         "showlegend": true,
         "textposition": "top center",
         "type": "scatter",
         "x": [
          100,
          300,
          500,
          700,
          900
         ],
         "xaxis": "x",
         "y": [
          0.9071898985166987,
          0.9488149386905768,
          0.9592160237938304,
          0.9625290749930547,
          0.9657990924789053
         ],
         "yaxis": "y"
        },
        {
         "line": {
          "color": "#B6E880",
          "width": 2
         },
         "mode": "lines+markers+text",
         "name": "(0, 0, 0.3)",
         "showlegend": true,
         "textposition": "top center",
         "type": "scatter",
         "x": [
          100,
          300,
          500,
          700,
          900
         ],
         "xaxis": "x",
         "y": [
          0.9044825876880002,
          0.946025918279523,
          0.9559438273857837,
          0.9590259128322175,
          0.9621444952254368
         ],
         "yaxis": "y"
        },
        {
         "line": {
          "color": "#FF97FF",
          "width": 2
         },
         "mode": "lines+markers+text",
         "name": "(0, 0.05, 0.3)",
         "showlegend": true,
         "textposition": "top center",
         "type": "scatter",
         "x": [
          100,
          300,
          500,
          700,
          900
         ],
         "xaxis": "x",
         "y": [
          0.9071474095338741,
          0.9484962713193918,
          0.9583874886287498,
          0.9614782897639682,
          0.9645881564684029
         ],
         "yaxis": "y"
        },
        {
         "line": {
          "color": "#FECB52",
          "width": 2
         },
         "mode": "lines+markers+text",
         "name": "(0, 0.15, 0.2)",
         "showlegend": true,
         "textposition": "top center",
         "type": "scatter",
         "x": [
          100,
          300,
          500,
          700,
          900
         ],
         "xaxis": "x",
         "y": [
          0.9026827979539921,
          0.9445371696890134,
          0.9554492120472609,
          0.9591980476857123,
          0.9627061124214907
         ],
         "yaxis": "y"
        },
        {
         "line": {
          "color": "#636EFA",
          "width": 2
         },
         "mode": "lines+markers+text",
         "name": "(0, 0.1, 0.3)",
         "showlegend": true,
         "textposition": "top center",
         "type": "scatter",
         "x": [
          100,
          300,
          500,
          700,
          900
         ],
         "xaxis": "x",
         "y": [
          0.9096242993403313,
          0.9507024300429793,
          0.9605527925611597,
          0.9636294307021032,
          0.966693540040419
         ],
         "yaxis": "y"
        },
        {
         "line": {
          "color": "#EF553B",
          "width": 2
         },
         "mode": "lines+markers+text",
         "name": "(0, 0.2, 0.25)",
         "showlegend": true,
         "textposition": "top center",
         "type": "scatter",
         "x": [
          100,
          300,
          500,
          700,
          900
         ],
         "xaxis": "x",
         "y": [
          0.9093154371190291,
          0.9505450029143084,
          0.9606927883122613,
          0.9639878634033675,
          0.9671680003486276
         ],
         "yaxis": "y"
        },
        {
         "line": {
          "color": "#00CC96",
          "width": 2
         },
         "mode": "lines+markers+text",
         "name": "(0, 0.15, 0.3)",
         "showlegend": true,
         "textposition": "top center",
         "type": "scatter",
         "x": [
          100,
          300,
          500,
          700,
          900
         ],
         "xaxis": "x",
         "y": [
          0.9119857062703933,
          0.9526694520555408,
          0.9623133616956373,
          0.9653611291174821,
          0.9683571471371686
         ],
         "yaxis": "y"
        },
        {
         "line": {
          "color": "#AB63FA",
          "width": 2
         },
         "mode": "lines+markers+text",
         "name": "(0, 0, 0.15)",
         "showlegend": true,
         "textposition": "top center",
         "type": "scatter",
         "x": [
          100,
          300,
          500,
          700,
          900
         ],
         "xaxis": "x",
         "y": [
          0.8908174771349352,
          0.9333413227147191,
          0.94470821508141,
          0.9487571972523791,
          0.9525986370841664
         ],
         "yaxis": "y"
        },
        {
         "line": {
          "color": "#FFA15A",
          "width": 2
         },
         "mode": "lines+markers+text",
         "name": "(0, 0.05, 0.15)",
         "showlegend": true,
         "textposition": "top center",
         "type": "scatter",
         "x": [
          100,
          300,
          500,
          700,
          900
         ],
         "xaxis": "x",
         "y": [
          0.8934822989808091,
          0.935811675754588,
          0.9471518763243761,
          0.9512095741841298,
          0.9550422983271325
         ],
         "yaxis": "y"
        },
        {
         "line": {
          "color": "#19D3F3",
          "width": 2
         },
         "mode": "lines+markers+text",
         "name": "(0, 0.1, 0.15)",
         "showlegend": true,
         "textposition": "top center",
         "type": "scatter",
         "x": [
          100,
          300,
          500,
          700,
          900
         ],
         "xaxis": "x",
         "y": [
          0.8959591887872663,
          0.9380178344781753,
          0.949317180256786,
          0.9533607151222647,
          0.9571476818991486
         ],
         "yaxis": "y"
        },
        {
         "line": {
          "color": "#FF6692",
          "width": 2
         },
         "mode": "lines+markers+text",
         "name": "(0, 0.2, 0.3)",
         "showlegend": true,
         "textposition": "top center",
         "type": "scatter",
         "x": [
          100,
          300,
          500,
          700,
          900
         ],
         "xaxis": "x",
         "y": [
          0.9141112448727237,
          0.9543995162792724,
          0.9637901262140682,
          0.9668199175277948,
          0.9697260550068908
         ],
         "yaxis": "y"
        },
        {
         "line": {
          "color": "#B6E880",
          "width": 2
         },
         "mode": "lines+markers+text",
         "name": "(0.05, 0.1, 0.25)",
         "showlegend": true,
         "textposition": "top center",
         "type": "scatter",
         "x": [
          100,
          300,
          500,
          700,
          900
         ],
         "xaxis": "x",
         "y": [
          0.9101641273144239,
          0.9519656601861889,
          0.9623945265474433,
          0.9656945042134908,
          0.9689639769687924
         ],
         "yaxis": "y"
        },
        {
         "line": {
          "color": "#FF97FF",
          "width": 2
         },
         "mode": "lines+markers+text",
         "name": "(0, 0.25, 0.3)",
         "showlegend": true,
         "textposition": "top center",
         "type": "scatter",
         "x": [
          100,
          300,
          500,
          700,
          900
         ],
         "xaxis": "x",
         "y": [
          0.9161735947313662,
          0.9560870915201796,
          0.9652222228274784,
          0.9682334933025379,
          0.9710257820968857
         ],
         "yaxis": "y"
        },
        {
         "line": {
          "color": "#FECB52",
          "width": 2
         },
         "mode": "lines+markers+text",
         "name": "(0.05, 0.1, 0.2)",
         "showlegend": true,
         "textposition": "top center",
         "type": "scatter",
         "x": [
          100,
          300,
          500,
          700,
          900
         ],
         "xaxis": "x",
         "y": [
          0.9056570267517172,
          0.9476878911846255,
          0.9586277148008737,
          0.9623634769061483,
          0.9658709969113778
         ],
         "yaxis": "y"
        },
        {
         "line": {
          "color": "#636EFA",
          "width": 2
         },
         "mode": "lines+markers+text",
         "name": "(0.05, 0.15, 0.25)",
         "showlegend": true,
         "textposition": "top center",
         "type": "scatter",
         "x": [
          100,
          300,
          500,
          700,
          900
         ],
         "xaxis": "x",
         "y": [
          0.912525534244486,
          0.9539326821987504,
          0.9641550956819209,
          0.9674262026288696,
          0.970627584065542
         ],
         "yaxis": "y"
        },
        {
         "line": {
          "color": "#EF553B",
          "width": 2
         },
         "mode": "lines+markers+text",
         "name": "(0.05, 0.15, 0.2)",
         "showlegend": true,
         "textposition": "top center",
         "type": "scatter",
         "x": [
          100,
          300,
          500,
          700,
          900
         ],
         "xaxis": "x",
         "y": [
          0.9080184336817793,
          0.949654913197187,
          0.9603882839353514,
          0.9640951753215272,
          0.9675346040081274
         ],
         "yaxis": "y"
        },
        {
         "line": {
          "color": "#00CC96",
          "width": 2
         },
         "mode": "lines+markers+text",
         "name": "(0.05, 0.1, 0.3)",
         "showlegend": true,
         "textposition": "top center",
         "type": "scatter",
         "x": [
          100,
          300,
          500,
          700,
          900
         ],
         "xaxis": "x",
         "y": [
          0.9149599350681186,
          0.9558201735511529,
          0.9654918644492502,
          0.9685265583379181,
          0.9715220316270556
         ],
         "yaxis": "y"
        },
        {
         "line": {
          "color": "#AB63FA",
          "width": 2
         },
         "mode": "lines+markers+text",
         "name": "(0.05, 0.2, 0.25)",
         "showlegend": true,
         "textposition": "top center",
         "type": "scatter",
         "x": [
          100,
          300,
          500,
          700,
          900
         ],
         "xaxis": "x",
         "y": [
          0.9146510728468163,
          0.9556627464224822,
          0.9656318602003519,
          0.9688849910391825,
          0.9719964919352643
         ],
         "yaxis": "y"
        },
        {
         "line": {
          "color": "#FFA15A",
          "width": 2
         },
         "mode": "lines+markers+text",
         "name": "(0.05, 0.15, 0.3)",
         "showlegend": true,
         "textposition": "top center",
         "type": "scatter",
         "x": [
          100,
          300,
          500,
          700,
          900
         ],
         "xaxis": "x",
         "y": [
          0.9173213419981806,
          0.9577871955637144,
          0.9672524335837278,
          0.970258256753297,
          0.9731856387238053
         ],
         "yaxis": "y"
        },
        {
         "line": {
          "color": "#19D3F3",
          "width": 2
         },
         "mode": "lines+markers+text",
         "name": "(0, 0, 0.1)",
         "showlegend": true,
         "textposition": "top center",
         "type": "scatter",
         "x": [
          100,
          300,
          500,
          700,
          900
         ],
         "xaxis": "x",
         "y": [
          0.8863561339383474,
          0.9286038011297711,
          0.9399587094243832,
          0.9441209955495514,
          0.9480708367605963
         ],
         "yaxis": "y"
        },
        {
         "line": {
          "color": "#FF6692",
          "width": 2
         },
         "mode": "lines+markers+text",
         "name": "(0, 0.05, 0.1)",
         "showlegend": true,
         "textposition": "top center",
         "type": "scatter",
         "x": [
          100,
          300,
          500,
          700,
          900
         ],
         "xaxis": "x",
         "y": [
          0.8890209557842214,
          0.93107415416964,
          0.9424023706673494,
          0.9465733724813021,
          0.9505144980035626
         ],
         "yaxis": "y"
        },
        {
         "line": {
          "color": "#B6E880",
          "width": 2
         },
         "mode": "lines+markers+text",
         "name": "(0.05, 0.1, 0.15)",
         "showlegend": true,
         "textposition": "top center",
         "type": "scatter",
         "x": [
          100,
          300,
          500,
          700,
          900
         ],
         "xaxis": "x",
         "y": [
          0.9012948245150536,
          0.9431355779863491,
          0.9542562521448765,
          0.9582578427580797,
          0.9619761734857852
         ],
         "yaxis": "y"
        },
        {
         "line": {
          "color": "#FF97FF",
          "width": 2
         },
         "mode": "lines+markers+text",
         "name": "(0.05, 0.2, 0.3)",
         "showlegend": true,
         "textposition": "top center",
         "type": "scatter",
         "x": [
          100,
          300,
          500,
          700,
          900
         ],
         "xaxis": "x",
         "y": [
          0.9194468806005109,
          0.9595172597874462,
          0.9687291981021587,
          0.9717170451636098,
          0.9745545465935275
         ],
         "yaxis": "y"
        },
        {
         "line": {
          "color": "#FECB52",
          "width": 2
         },
         "mode": "lines+markers+text",
         "name": "(0.05, 0.25, 0.3)",
         "showlegend": true,
         "textposition": "top center",
         "type": "scatter",
         "x": [
          100,
          300,
          500,
          700,
          900
         ],
         "xaxis": "x",
         "y": [
          0.9215092304591533,
          0.9612048350283532,
          0.9701612947155689,
          0.9731306209383529,
          0.9758542736835224
         ],
         "yaxis": "y"
        },
        {
         "line": {
          "color": "#636EFA",
          "width": 2
         },
         "mode": "lines+markers+text",
         "name": "(0.1, 0.15, 0.25)",
         "showlegend": true,
         "textposition": "top center",
         "type": "scatter",
         "x": [
          100,
          300,
          500,
          700,
          900
         ],
         "xaxis": "x",
         "y": [
          0.9170032193575448,
          0.958165238564744,
          0.9682454773746166,
          0.9714544850389755,
          0.9745523676713314
         ],
         "yaxis": "y"
        },
        {
         "line": {
          "color": "#EF553B",
          "width": 2
         },
         "mode": "lines+markers+text",
         "name": "(0.1, 0.15, 0.2)",
         "showlegend": true,
         "textposition": "top center",
         "type": "scatter",
         "x": [
          100,
          300,
          500,
          700,
          900
         ],
         "xaxis": "x",
         "y": [
          0.9124961187948382,
          0.9538874695631806,
          0.9644786656280471,
          0.968123457731633,
          0.9714593876139168
         ],
         "yaxis": "y"
        },
        {
         "line": {
          "color": "#00CC96",
          "width": 2
         },
         "mode": "lines+markers+text",
         "name": "(0.1, 0.2, 0.25)",
         "showlegend": true,
         "textposition": "top center",
         "type": "scatter",
         "x": [
          100,
          300,
          500,
          700,
          900
         ],
         "xaxis": "x",
         "y": [
          0.9191287579598751,
          0.9598953027884757,
          0.9697222418930476,
          0.9729132734492884,
          0.9759212755410536
         ],
         "yaxis": "y"
        },
        {
         "line": {
          "color": "#AB63FA",
          "width": 2
         },
         "mode": "lines+markers+text",
         "name": "(0.1, 0.15, 0.3)",
         "showlegend": true,
         "textposition": "top center",
         "type": "scatter",
         "x": [
          100,
          300,
          500,
          700,
          900
         ],
         "xaxis": "x",
         "y": [
          0.9217990271112394,
          0.962019751929708,
          0.9713428152764235,
          0.9742865391634028,
          0.9771104223295947
         ],
         "yaxis": "y"
        },
        {
         "line": {
          "color": "#FFA15A",
          "width": 2
         },
         "mode": "lines+markers+text",
         "name": "(0, 0, 0.05)",
         "showlegend": true,
         "textposition": "top center",
         "type": "scatter",
         "x": [
          100,
          300,
          500,
          700,
          900
         ],
         "xaxis": "x",
         "y": [
          0.8821121382308241,
          0.9239114921803929,
          0.9352244562227294,
          0.9393943685755841,
          0.9433137048758832
         ],
         "yaxis": "y"
        },
        {
         "line": {
          "color": "#19D3F3",
          "width": 2
         },
         "mode": "lines+markers+text",
         "name": "(0.1, 0.2, 0.3)",
         "showlegend": true,
         "textposition": "top center",
         "type": "scatter",
         "x": [
          100,
          300,
          500,
          700,
          900
         ],
         "xaxis": "x",
         "y": [
          0.9239245657135697,
          0.9637498161534397,
          0.9728195797948544,
          0.9757453275737157,
          0.9784793301993169
         ],
         "yaxis": "y"
        },
        {
         "line": {
          "color": "#FF6692",
          "width": 2
         },
         "mode": "lines+markers+text",
         "name": "(0.1, 0.25, 0.3)",
         "showlegend": true,
         "textposition": "top center",
         "type": "scatter",
         "x": [
          100,
          300,
          500,
          700,
          900
         ],
         "xaxis": "x",
         "y": [
          0.9259869155722122,
          0.9654373913943468,
          0.9742516764082646,
          0.9771589033484587,
          0.9797790572893118
         ],
         "yaxis": "y"
        },
        {
         "line": {
          "color": "#B6E880",
          "width": 2
         },
         "mode": "lines+markers+text",
         "name": "(0.15, 0.2, 0.25)",
         "showlegend": true,
         "textposition": "top center",
         "type": "scatter",
         "x": [
          100,
          300,
          500,
          700,
          900
         ],
         "xaxis": "x",
         "y": [
          0.9233433382177506,
          0.9637345636980668,
          0.9732678930367094,
          0.9763499784831433,
          0.9791858457214139
         ],
         "yaxis": "y"
        },
        {
         "line": {
          "color": "#FF97FF",
          "width": 2
         },
         "mode": "lines+markers+text",
         "name": "(0.15, 0.2, 0.3)",
         "showlegend": true,
         "textposition": "top center",
         "type": "scatter",
         "x": [
          100,
          300,
          500,
          700,
          900
         ],
         "xaxis": "x",
         "y": [
          0.9281391459714452,
          0.9675890770630308,
          0.9763652309385162,
          0.9791820326075706,
          0.9817439003796772
         ],
         "yaxis": "y"
        },
        {
         "line": {
          "color": "#FECB52",
          "width": 2
         },
         "mode": "lines+markers+text",
         "name": "(0.15, 0.25, 0.3)",
         "showlegend": true,
         "textposition": "top center",
         "type": "scatter",
         "x": [
          100,
          300,
          500,
          700,
          900
         ],
         "xaxis": "x",
         "y": [
          0.9302014958300876,
          0.9692766523039379,
          0.9777973275519264,
          0.9805956083823137,
          0.9830436274696721
         ],
         "yaxis": "y"
        },
        {
         "line": {
          "color": "#636EFA",
          "width": 2
         },
         "mode": "lines+markers+text",
         "name": "(0.2, 0.25, 0.3)",
         "showlegend": true,
         "textposition": "top center",
         "type": "scatter",
         "x": [
          100,
          300,
          500,
          700,
          900
         ],
         "xaxis": "x",
         "y": [
          0.9343125772836467,
          0.9724475288298643,
          0.9804921095779973,
          0.9830665061527315,
          0.9852857384094957
         ],
         "yaxis": "y"
        },
        {
         "line": {
          "color": "black",
          "width": 2
         },
         "mode": "lines+markers+text",
         "name": "SegCertify",
         "showlegend": true,
         "textposition": "top center",
         "type": "scatter",
         "x": [
          100,
          300,
          500,
          700,
          900
         ],
         "xaxis": "x",
         "y": [
          0.8777804409049064,
          0.9191238553849338,
          0.9302690424181679,
          0.9344084498602766,
          0.9382722236445742
         ],
         "yaxis": "y"
        },
        {
         "line": {
          "color": "#636EFA",
          "width": 2
         },
         "mode": "lines+markers+text",
         "name": "(0, 0, 0.25)",
         "showlegend": false,
         "textposition": "top center",
         "type": "scatter",
         "x": [
          100,
          300,
          500,
          700,
          900
         ],
         "xaxis": "x2",
         "y": [
          0.8820004684682722,
          0.9161915708394842,
          0.9243320241642472,
          0.9268900788225104,
          0.9292966983881423
         ],
         "yaxis": "y2"
        },
        {
         "line": {
          "color": "#EF553B",
          "width": 2
         },
         "mode": "lines+markers+text",
         "name": "(0, 0.05, 0.25)",
         "showlegend": false,
         "textposition": "top center",
         "type": "scatter",
         "x": [
          100,
          300,
          500,
          700,
          900
         ],
         "xaxis": "x2",
         "y": [
          0.8846603877392049,
          0.9186641028015492,
          0.9267980193597237,
          0.9293658791678696,
          0.9317752223862467
         ],
         "yaxis": "y2"
        },
        {
         "line": {
          "color": "#00CC96",
          "width": 2
         },
         "mode": "lines+markers+text",
         "name": "(0, 0.1, 0.25)",
         "showlegend": false,
         "textposition": "top center",
         "type": "scatter",
         "x": [
          100,
          300,
          500,
          700,
          900
         ],
         "xaxis": "x2",
         "y": [
          0.8871258382041324,
          0.9208708062556856,
          0.9289709495198201,
          0.9315437119029072,
          0.9339263633243816
         ],
         "yaxis": "y2"
        },
        {
         "line": {
          "color": "#AB63FA",
          "width": 2
         },
         "mode": "lines+markers+text",
         "name": "(0, 0, 0.2)",
         "showlegend": false,
         "textposition": "top center",
         "type": "scatter",
         "x": [
          100,
          300,
          500,
          700,
          900
         ],
         "xaxis": "x2",
         "y": [
          0.8774416185034073,
          0.9116398023717568,
          0.920186624686099,
          0.9231140066566073,
          0.9256802322731061
         ],
         "yaxis": "y2"
        },
        {
         "line": {
          "color": "#FFA15A",
          "width": 2
         },
         "mode": "lines+markers+text",
         "name": "(0, 0.05, 0.2)",
         "showlegend": false,
         "textposition": "top center",
         "type": "scatter",
         "x": [
          100,
          300,
          500,
          700,
          900
         ],
         "xaxis": "x2",
         "y": [
          0.88010153777434,
          0.9141123343338218,
          0.9226526198815755,
          0.9255898070019665,
          0.9281587562712105
         ],
         "yaxis": "y2"
        },
        {
         "line": {
          "color": "#19D3F3",
          "width": 2
         },
         "mode": "lines+markers+text",
         "name": "(0, 0.1, 0.2)",
         "showlegend": false,
         "textposition": "top center",
         "type": "scatter",
         "x": [
          100,
          300,
          500,
          700,
          900
         ],
         "xaxis": "x2",
         "y": [
          0.8825669882392675,
          0.9163190377879582,
          0.9248255500416719,
          0.927767639737004,
          0.9303098972093454
         ],
         "yaxis": "y2"
        },
        {
         "line": {
          "color": "#FF6692",
          "width": 2
         },
         "mode": "lines+markers+text",
         "name": "(0, 0.15, 0.25)",
         "showlegend": false,
         "textposition": "top center",
         "type": "scatter",
         "x": [
          100,
          300,
          500,
          700,
          900
         ],
         "xaxis": "x2",
         "y": [
          0.8894790741759588,
          0.9228351046155019,
          0.9307625682955926,
          0.9333429569063663,
          0.9356825746144669
         ],
         "yaxis": "y2"
        },
        {
         "line": {
          "color": "#B6E880",
          "width": 2
         },
         "mode": "lines+markers+text",
         "name": "(0, 0, 0.3)",
         "showlegend": false,
         "textposition": "top center",
         "type": "scatter",
         "x": [
          100,
          300,
          500,
          700,
          900
         ],
         "xaxis": "x2",
         "y": [
          0.886896506642989,
          0.9204568110384198,
          0.9279691900401467,
          0.9303044499038551,
          0.9325476503047767
         ],
         "yaxis": "y2"
        },
        {
         "line": {
          "color": "#FF97FF",
          "width": 2
         },
         "mode": "lines+markers+text",
         "name": "(0, 0.05, 0.3)",
         "showlegend": false,
         "textposition": "top center",
         "type": "scatter",
         "x": [
          100,
          300,
          500,
          700,
          900
         ],
         "xaxis": "x2",
         "y": [
          0.8895564259139217,
          0.9229293430004848,
          0.9304351852356232,
          0.9327802502492142,
          0.935026174302881
         ],
         "yaxis": "y2"
        },
        {
         "line": {
          "color": "#FECB52",
          "width": 2
         },
         "mode": "lines+markers+text",
         "name": "(0, 0.15, 0.2)",
         "showlegend": false,
         "textposition": "top center",
         "type": "scatter",
         "x": [
          100,
          300,
          500,
          700,
          900
         ],
         "xaxis": "x2",
         "y": [
          0.884920224211094,
          0.9182833361477745,
          0.9266171688174445,
          0.9295668847404631,
          0.9320661084994307
         ],
         "yaxis": "y2"
        },
        {
         "line": {
          "color": "#636EFA",
          "width": 2
         },
         "mode": "lines+markers+text",
         "name": "(0, 0.1, 0.3)",
         "showlegend": false,
         "textposition": "top center",
         "type": "scatter",
         "x": [
          100,
          300,
          500,
          700,
          900
         ],
         "xaxis": "x2",
         "y": [
          0.8920218763788492,
          0.9251360464546212,
          0.9326081153957195,
          0.9349580829842519,
          0.937177315241016
         ],
         "yaxis": "y2"
        },
        {
         "line": {
          "color": "#EF553B",
          "width": 2
         },
         "mode": "lines+markers+text",
         "name": "(0, 0.2, 0.25)",
         "showlegend": false,
         "textposition": "top center",
         "type": "scatter",
         "x": [
          100,
          300,
          500,
          700,
          900
         ],
         "xaxis": "x2",
         "y": [
          0.8916400202639764,
          0.9246555941103733,
          0.9323842311400665,
          0.9349809616673113,
          0.9372497644040375
         ],
         "yaxis": "y2"
        },
        {
         "line": {
          "color": "#00CC96",
          "width": 2
         },
         "mode": "lines+markers+text",
         "name": "(0, 0.15, 0.3)",
         "showlegend": false,
         "textposition": "top center",
         "type": "scatter",
         "x": [
          100,
          300,
          500,
          700,
          900
         ],
         "xaxis": "x2",
         "y": [
          0.8943751123506757,
          0.9271003448144376,
          0.934399734171492,
          0.9367573279877108,
          0.9389335265311014
         ],
         "yaxis": "y2"
        },
        {
         "line": {
          "color": "#AB63FA",
          "width": 2
         },
         "mode": "lines+markers+text",
         "name": "(0, 0, 0.15)",
         "showlegend": false,
         "textposition": "top center",
         "type": "scatter",
         "x": [
          100,
          300,
          500,
          700,
          900
         ],
         "xaxis": "x2",
         "y": [
          0.8731110106385876,
          0.9070297477352828,
          0.9156659058596666,
          0.918822619391318,
          0.9215146777646437
         ],
         "yaxis": "y2"
        },
        {
         "line": {
          "color": "#FFA15A",
          "width": 2
         },
         "mode": "lines+markers+text",
         "name": "(0, 0.05, 0.15)",
         "showlegend": false,
         "textposition": "top center",
         "type": "scatter",
         "x": [
          100,
          300,
          500,
          700,
          900
         ],
         "xaxis": "x2",
         "y": [
          0.8757709299095202,
          0.9095022796973478,
          0.9181319010551431,
          0.9212984197366773,
          0.923993201762748
         ],
         "yaxis": "y2"
        },
        {
         "line": {
          "color": "#19D3F3",
          "width": 2
         },
         "mode": "lines+markers+text",
         "name": "(0, 0.1, 0.15)",
         "showlegend": false,
         "textposition": "top center",
         "type": "scatter",
         "x": [
          100,
          300,
          500,
          700,
          900
         ],
         "xaxis": "x2",
         "y": [
          0.8782363803744477,
          0.9117089831514841,
          0.9203048312152394,
          0.9234762524717148,
          0.926144342700883
         ],
         "yaxis": "y2"
        },
        {
         "line": {
          "color": "#FF6692",
          "width": 2
         },
         "mode": "lines+markers+text",
         "name": "(0, 0.2, 0.3)",
         "showlegend": false,
         "textposition": "top center",
         "type": "scatter",
         "x": [
          100,
          300,
          500,
          700,
          900
         ],
         "xaxis": "x2",
         "y": [
          0.8965360584386933,
          0.9289208343093089,
          0.9360213970159661,
          0.9383953327486558,
          0.940500716320672
         ],
         "yaxis": "y2"
        },
        {
         "line": {
          "color": "#B6E880",
          "width": 2
         },
         "mode": "lines+markers+text",
         "name": "(0.05, 0.1, 0.25)",
         "showlegend": false,
         "textposition": "top center",
         "type": "scatter",
         "x": [
          100,
          300,
          500,
          700,
          900
         ],
         "xaxis": "x2",
         "y": [
          0.892499605070352,
          0.9260904143765286,
          0.9340440251229729,
          0.9365917299008045,
          0.9389280792256111
         ],
         "yaxis": "y2"
        },
        {
         "line": {
          "color": "#FF97FF",
          "width": 2
         },
         "mode": "lines+markers+text",
         "name": "(0, 0.25, 0.3)",
         "showlegend": false,
         "textposition": "top center",
         "type": "scatter",
         "x": [
          100,
          300,
          500,
          700,
          900
         ],
         "xaxis": "x2",
         "y": [
          0.8986463445856507,
          0.9307674708705339,
          0.9376828251905195,
          0.9400785501451707,
          0.9420984110209885
         ],
         "yaxis": "y2"
        },
        {
         "line": {
          "color": "#FECB52",
          "width": 2
         },
         "mode": "lines+markers+text",
         "name": "(0.05, 0.1, 0.2)",
         "showlegend": false,
         "textposition": "top center",
         "type": "scatter",
         "x": [
          100,
          300,
          500,
          700,
          900
         ],
         "xaxis": "x2",
         "y": [
          0.8879407551054871,
          0.9215386459088012,
          0.9298986256448248,
          0.9328156577349014,
          0.9353116131105749
         ],
         "yaxis": "y2"
        },
        {
         "line": {
          "color": "#636EFA",
          "width": 2
         },
         "mode": "lines+markers+text",
         "name": "(0.05, 0.15, 0.25)",
         "showlegend": false,
         "textposition": "top center",
         "type": "scatter",
         "x": [
          100,
          300,
          500,
          700,
          900
         ],
         "xaxis": "x2",
         "y": [
          0.8948528410421784,
          0.928054712736345,
          0.9358356438987455,
          0.9383909749042636,
          0.9406842905156965
         ],
         "yaxis": "y2"
        },
        {
         "line": {
          "color": "#EF553B",
          "width": 2
         },
         "mode": "lines+markers+text",
         "name": "(0.05, 0.15, 0.2)",
         "showlegend": false,
         "textposition": "top center",
         "type": "scatter",
         "x": [
          100,
          300,
          500,
          700,
          900
         ],
         "xaxis": "x2",
         "y": [
          0.8902939910773137,
          0.9235029442686176,
          0.9316902444205973,
          0.9346149027383605,
          0.9370678244006602
         ],
         "yaxis": "y2"
        },
        {
         "line": {
          "color": "#00CC96",
          "width": 2
         },
         "mode": "lines+markers+text",
         "name": "(0.05, 0.1, 0.3)",
         "showlegend": false,
         "textposition": "top center",
         "type": "scatter",
         "x": [
          100,
          300,
          500,
          700,
          900
         ],
         "xaxis": "x2",
         "y": [
          0.8973956432450688,
          0.9303556545754642,
          0.9376811909988724,
          0.9400061009821492,
          0.9421790311422454
         ],
         "yaxis": "y2"
        },
        {
         "line": {
          "color": "#AB63FA",
          "width": 2
         },
         "mode": "lines+markers+text",
         "name": "(0.05, 0.2, 0.25)",
         "showlegend": false,
         "textposition": "top center",
         "type": "scatter",
         "x": [
          100,
          300,
          500,
          700,
          900
         ],
         "xaxis": "x2",
         "y": [
          0.8970137871301961,
          0.9298752022312163,
          0.9374573067432195,
          0.9400289796652086,
          0.942251480305267
         ],
         "yaxis": "y2"
        },
        {
         "line": {
          "color": "#FFA15A",
          "width": 2
         },
         "mode": "lines+markers+text",
         "name": "(0.05, 0.15, 0.3)",
         "showlegend": false,
         "textposition": "top center",
         "type": "scatter",
         "x": [
          100,
          300,
          500,
          700,
          900
         ],
         "xaxis": "x2",
         "y": [
          0.8997488792168954,
          0.9323199529352806,
          0.939472809774645,
          0.9418053459856082,
          0.9439352424323308
         ],
         "yaxis": "y2"
        },
        {
         "line": {
          "color": "#19D3F3",
          "width": 2
         },
         "mode": "lines+markers+text",
         "name": "(0, 0, 0.1)",
         "showlegend": false,
         "textposition": "top center",
         "type": "scatter",
         "x": [
          100,
          300,
          500,
          700,
          900
         ],
         "xaxis": "x2",
         "y": [
          0.868701416844158,
          0.9023249099832767,
          0.9108929767890314,
          0.9141461076278619,
          0.9169269570806801
         ],
         "yaxis": "y2"
        },
        {
         "line": {
          "color": "#FF6692",
          "width": 2
         },
         "mode": "lines+markers+text",
         "name": "(0, 0.05, 0.1)",
         "showlegend": false,
         "textposition": "top center",
         "type": "scatter",
         "x": [
          100,
          300,
          500,
          700,
          900
         ],
         "xaxis": "x2",
         "y": [
          0.8713613361150907,
          0.9047974419453417,
          0.9133589719845079,
          0.9166219079732211,
          0.9194054810787844
         ],
         "yaxis": "y2"
        },
        {
         "line": {
          "color": "#B6E880",
          "width": 2
         },
         "mode": "lines+markers+text",
         "name": "(0.05, 0.1, 0.15)",
         "showlegend": false,
         "textposition": "top center",
         "type": "scatter",
         "x": [
          100,
          300,
          500,
          700,
          900
         ],
         "xaxis": "x2",
         "y": [
          0.8836101472406674,
          0.9169285912723272,
          0.9253779068183923,
          0.9285242704696122,
          0.9311460586021124
         ],
         "yaxis": "y2"
        },
        {
         "line": {
          "color": "#FF97FF",
          "width": 2
         },
         "mode": "lines+markers+text",
         "name": "(0.05, 0.2, 0.3)",
         "showlegend": false,
         "textposition": "top center",
         "type": "scatter",
         "x": [
          100,
          300,
          500,
          700,
          900
         ],
         "xaxis": "x2",
         "y": [
          0.9019098253049129,
          0.9341404424301519,
          0.9410944726191189,
          0.9434433507465532,
          0.9455024322219014
         ],
         "yaxis": "y2"
        },
        {
         "line": {
          "color": "#FECB52",
          "width": 2
         },
         "mode": "lines+markers+text",
         "name": "(0.05, 0.25, 0.3)",
         "showlegend": false,
         "textposition": "top center",
         "type": "scatter",
         "x": [
          100,
          300,
          500,
          700,
          900
         ],
         "xaxis": "x2",
         "y": [
          0.9040201114518703,
          0.9359870789913769,
          0.9427559007936724,
          0.9451265681430681,
          0.9471001269222179
         ],
         "yaxis": "y2"
        },
        {
         "line": {
          "color": "#636EFA",
          "width": 2
         },
         "mode": "lines+markers+text",
         "name": "(0.1, 0.15, 0.25)",
         "showlegend": false,
         "textposition": "top center",
         "type": "scatter",
         "x": [
          100,
          300,
          500,
          700,
          900
         ],
         "xaxis": "x2",
         "y": [
          0.8993915359767292,
          0.9324436067699112,
          0.9401504545776431,
          0.9426622071392385,
          0.9448906998153364
         ],
         "yaxis": "y2"
        },
        {
         "line": {
          "color": "#EF553B",
          "width": 2
         },
         "mode": "lines+markers+text",
         "name": "(0.1, 0.15, 0.2)",
         "showlegend": false,
         "textposition": "top center",
         "type": "scatter",
         "x": [
          100,
          300,
          500,
          700,
          900
         ],
         "xaxis": "x2",
         "y": [
          0.8948326860118643,
          0.9278918383021838,
          0.936005055099495,
          0.9388861349733354,
          0.9412742337003002
         ],
         "yaxis": "y2"
        },
        {
         "line": {
          "color": "#00CC96",
          "width": 2
         },
         "mode": "lines+markers+text",
         "name": "(0.1, 0.2, 0.25)",
         "showlegend": false,
         "textposition": "top center",
         "type": "scatter",
         "x": [
          100,
          300,
          500,
          700,
          900
         ],
         "xaxis": "x2",
         "y": [
          0.9015524820647467,
          0.9342640962647826,
          0.9417721174221172,
          0.9443002119001835,
          0.946457889604907
         ],
         "yaxis": "y2"
        },
        {
         "line": {
          "color": "#AB63FA",
          "width": 2
         },
         "mode": "lines+markers+text",
         "name": "(0.1, 0.15, 0.3)",
         "showlegend": false,
         "textposition": "top center",
         "type": "scatter",
         "x": [
          100,
          300,
          500,
          700,
          900
         ],
         "xaxis": "x2",
         "y": [
          0.904287574151446,
          0.9367088469688468,
          0.9437876204535427,
          0.9460765782205832,
          0.9481416517319707
         ],
         "yaxis": "y2"
        },
        {
         "line": {
          "color": "#FFA15A",
          "width": 2
         },
         "mode": "lines+markers+text",
         "name": "(0, 0, 0.05)",
         "showlegend": false,
         "textposition": "top center",
         "type": "scatter",
         "x": [
          100,
          300,
          500,
          700,
          900
         ],
         "xaxis": "x2",
         "y": [
          0.8645206098803226,
          0.8977546206768822,
          0.9062758406554198,
          0.9095365977219368,
          0.9123000157971859
         ],
         "yaxis": "y2"
        },
        {
         "line": {
          "color": "#19D3F3",
          "width": 2
         },
         "mode": "lines+markers+text",
         "name": "(0.1, 0.2, 0.3)",
         "showlegend": false,
         "textposition": "top center",
         "type": "scatter",
         "x": [
          100,
          300,
          500,
          700,
          900
         ],
         "xaxis": "x2",
         "y": [
          0.9064485202394635,
          0.9385293364637182,
          0.9454092832980167,
          0.9477145829815282,
          0.9497088415215413
         ],
         "yaxis": "y2"
        },
        {
         "line": {
          "color": "#FF6692",
          "width": 2
         },
         "mode": "lines+markers+text",
         "name": "(0.1, 0.25, 0.3)",
         "showlegend": false,
         "textposition": "top center",
         "type": "scatter",
         "x": [
          100,
          300,
          500,
          700,
          900
         ],
         "xaxis": "x2",
         "y": [
          0.908558806386421,
          0.9403759730249432,
          0.94707071147257,
          0.949397800378043,
          0.9513065362218579
         ],
         "yaxis": "y2"
        },
        {
         "line": {
          "color": "#B6E880",
          "width": 2
         },
         "mode": "lines+markers+text",
         "name": "(0.15, 0.2, 0.25)",
         "showlegend": false,
         "textposition": "top center",
         "type": "scatter",
         "x": [
          100,
          300,
          500,
          700,
          900
         ],
         "xaxis": "x2",
         "y": [
          0.9058694716658405,
          0.9384236587372057,
          0.9457219586331621,
          0.9482015720923646,
          0.9502513931483791
         ],
         "yaxis": "y2"
        },
        {
         "line": {
          "color": "#FF97FF",
          "width": 2
         },
         "mode": "lines+markers+text",
         "name": "(0.15, 0.2, 0.3)",
         "showlegend": false,
         "textposition": "top center",
         "type": "scatter",
         "x": [
          100,
          300,
          500,
          700,
          900
         ],
         "xaxis": "x2",
         "y": [
          0.9107655098405574,
          0.9426888989361413,
          0.9493591245090616,
          0.9516159431737091,
          0.9535023450650136
         ],
         "yaxis": "y2"
        },
        {
         "line": {
          "color": "#FECB52",
          "width": 2
         },
         "mode": "lines+markers+text",
         "name": "(0.15, 0.25, 0.3)",
         "showlegend": false,
         "textposition": "top center",
         "type": "scatter",
         "x": [
          100,
          300,
          500,
          700,
          900
         ],
         "xaxis": "x2",
         "y": [
          0.9128757959875148,
          0.9445355354973662,
          0.9510205526836151,
          0.9532991605702239,
          0.9551000397653301
         ],
         "yaxis": "y2"
        },
        {
         "line": {
          "color": "#636EFA",
          "width": 2
         },
         "mode": "lines+markers+text",
         "name": "(0.2, 0.25, 0.3)",
         "showlegend": false,
         "textposition": "top center",
         "type": "scatter",
         "x": [
          100,
          300,
          500,
          700,
          900
         ],
         "xaxis": "x2",
         "y": [
          0.917149751875235,
          0.9482037510145607,
          0.9543319696911923,
          0.956448247874189,
          0.9580748132936043
         ],
         "yaxis": "y2"
        },
        {
         "line": {
          "color": "black",
          "width": 2
         },
         "mode": "lines+markers+text",
         "name": "SegCertify",
         "showlegend": false,
         "textposition": "top center",
         "type": "scatter",
         "x": [
          100,
          300,
          500,
          700,
          900
         ],
         "xaxis": "x2",
         "y": [
          0.8602515565675438,
          0.8930993534048383,
          0.901493106434902,
          0.9047309848183596,
          0.9074617190606666
         ],
         "yaxis": "y2"
        },
        {
         "line": {
          "color": "#636EFA",
          "width": 2
         },
         "mode": "lines+markers+text",
         "name": "(0, 0, 0.25)",
         "showlegend": false,
         "textposition": "top center",
         "type": "scatter",
         "x": [
          100,
          300,
          500,
          700,
          900
         ],
         "xaxis": "x3",
         "y": [
          0.8693648319181997,
          0.9010970483172396,
          0.9083405274845561,
          0.9106891322180962,
          0.9127262514126423
         ],
         "yaxis": "y3"
        },
        {
         "line": {
          "color": "#EF553B",
          "width": 2
         },
         "mode": "lines+markers+text",
         "name": "(0, 0.05, 0.25)",
         "showlegend": false,
         "textposition": "top center",
         "type": "scatter",
         "x": [
          100,
          300,
          500,
          700,
          900
         ],
         "xaxis": "x3",
         "y": [
          0.8694643504573997,
          0.9010767051543653,
          0.9082936794371237,
          0.9106379176270314,
          0.9126671184833818
         ],
         "yaxis": "y3"
        },
        {
         "line": {
          "color": "#00CC96",
          "width": 2
         },
         "mode": "lines+markers+text",
         "name": "(0, 0.1, 0.25)",
         "showlegend": false,
         "textposition": "top center",
         "type": "scatter",
         "x": [
          100,
          300,
          500,
          700,
          900
         ],
         "xaxis": "x3",
         "y": [
          0.869517479894382,
          0.9009753856410592,
          0.9081533222850121,
          0.9104878750174462,
          0.9124921773090818
         ],
         "yaxis": "y3"
        },
        {
         "line": {
          "color": "#AB63FA",
          "width": 2
         },
         "mode": "lines+markers+text",
         "name": "(0, 0, 0.2)",
         "showlegend": false,
         "textposition": "top center",
         "type": "scatter",
         "x": [
          100,
          300,
          500,
          700,
          900
         ],
         "xaxis": "x3",
         "y": [
          0.8676964117368932,
          0.9004406053394264,
          0.9083652763045187,
          0.9111319006332633,
          0.9134157433640034
         ],
         "yaxis": "y3"
        },
        {
         "line": {
          "color": "#FFA15A",
          "width": 2
         },
         "mode": "lines+markers+text",
         "name": "(0, 0.05, 0.2)",
         "showlegend": false,
         "textposition": "top center",
         "type": "scatter",
         "x": [
          100,
          300,
          500,
          700,
          900
         ],
         "xaxis": "x3",
         "y": [
          0.8677959302760928,
          0.9004202621765521,
          0.9083184282570861,
          0.9110806860421985,
          0.9133566104347427
         ],
         "yaxis": "y3"
        },
        {
         "line": {
          "color": "#19D3F3",
          "width": 2
         },
         "mode": "lines+markers+text",
         "name": "(0, 0.1, 0.2)",
         "showlegend": false,
         "textposition": "top center",
         "type": "scatter",
         "x": [
          100,
          300,
          500,
          700,
          900
         ],
         "xaxis": "x3",
         "y": [
          0.8678490597130755,
          0.900318942663246,
          0.9081780711049746,
          0.9109306434326132,
          0.9131816692604428
         ],
         "yaxis": "y3"
        },
        {
         "line": {
          "color": "#FF6692",
          "width": 2
         },
         "mode": "lines+markers+text",
         "name": "(0, 0.15, 0.25)",
         "showlegend": false,
         "textposition": "top center",
         "type": "scatter",
         "x": [
          100,
          300,
          500,
          700,
          900
         ],
         "xaxis": "x3",
         "y": [
          0.8694759667713108,
          0.9007021473589494,
          0.9077413627599713,
          0.9100606882691347,
          0.9120224690851051
         ],
         "yaxis": "y3"
        },
        {
         "line": {
          "color": "#B6E880",
          "width": 2
         },
         "mode": "lines+markers+text",
         "name": "(0, 0, 0.3)",
         "showlegend": false,
         "textposition": "top center",
         "type": "scatter",
         "x": [
          100,
          300,
          500,
          700,
          900
         ],
         "xaxis": "x3",
         "y": [
          0.8707768570135946,
          0.9008678826039515,
          0.9072292889934791,
          0.9092724670217425,
          0.9110922397266451
         ],
         "yaxis": "y3"
        },
        {
         "line": {
          "color": "#FF97FF",
          "width": 2
         },
         "mode": "lines+markers+text",
         "name": "(0, 0.05, 0.3)",
         "showlegend": false,
         "textposition": "top center",
         "type": "scatter",
         "x": [
          100,
          300,
          500,
          700,
          900
         ],
         "xaxis": "x3",
         "y": [
          0.8708763755527943,
          0.9008475394410773,
          0.9071824409460468,
          0.9092212524306776,
          0.9110331067973844
         ],
         "yaxis": "y3"
        },
        {
         "line": {
          "color": "#FECB52",
          "width": 2
         },
         "mode": "lines+markers+text",
         "name": "(0, 0.15, 0.2)",
         "showlegend": false,
         "textposition": "top center",
         "type": "scatter",
         "x": [
          100,
          300,
          500,
          700,
          900
         ],
         "xaxis": "x3",
         "y": [
          0.8678075465900041,
          0.9000457043811362,
          0.9077661115799337,
          0.9105034566843017,
          0.9127119610364662
         ],
         "yaxis": "y3"
        },
        {
         "line": {
          "color": "#636EFA",
          "width": 2
         },
         "mode": "lines+markers+text",
         "name": "(0, 0.1, 0.3)",
         "showlegend": false,
         "textposition": "top center",
         "type": "scatter",
         "x": [
          100,
          300,
          500,
          700,
          900
         ],
         "xaxis": "x3",
         "y": [
          0.8709295049897767,
          0.900746219927771,
          0.9070420837939351,
          0.9090712098210925,
          0.9108581656230844
         ],
         "yaxis": "y3"
        },
        {
         "line": {
          "color": "#EF553B",
          "width": 2
         },
         "mode": "lines+markers+text",
         "name": "(0, 0.2, 0.25)",
         "showlegend": false,
         "textposition": "top center",
         "type": "scatter",
         "x": [
          100,
          300,
          500,
          700,
          900
         ],
         "xaxis": "x3",
         "y": [
          0.86934502880899,
          0.9002809742194806,
          0.9071418324522604,
          0.9094257077776966,
          0.9113236102429733
         ],
         "yaxis": "y3"
        },
        {
         "line": {
          "color": "#00CC96",
          "width": 2
         },
         "mode": "lines+markers+text",
         "name": "(0, 0.15, 0.3)",
         "showlegend": false,
         "textposition": "top center",
         "type": "scatter",
         "x": [
          100,
          300,
          500,
          700,
          900
         ],
         "xaxis": "x3",
         "y": [
          0.8708879918667056,
          0.9004729816456613,
          0.9066301242688941,
          0.9086440230727808,
          0.9103884573991076
         ],
         "yaxis": "y3"
        },
        {
         "line": {
          "color": "#AB63FA",
          "width": 2
         },
         "mode": "lines+markers+text",
         "name": "(0, 0, 0.15)",
         "showlegend": false,
         "textposition": "top center",
         "type": "scatter",
         "x": [
          100,
          300,
          500,
          700,
          900
         ],
         "xaxis": "x3",
         "y": [
          0.8659691408237441,
          0.8990351324018319,
          0.9073337715779698,
          0.9104050156844453,
          0.9129419116848679
         ],
         "yaxis": "y3"
        },
        {
         "line": {
          "color": "#FFA15A",
          "width": 2
         },
         "mode": "lines+markers+text",
         "name": "(0, 0.05, 0.15)",
         "showlegend": false,
         "textposition": "top center",
         "type": "scatter",
         "x": [
          100,
          300,
          500,
          700,
          900
         ],
         "xaxis": "x3",
         "y": [
          0.866068659362944,
          0.8990147892389576,
          0.9072869235305375,
          0.9103538010933808,
          0.9128827787556073
         ],
         "yaxis": "y3"
        },
        {
         "line": {
          "color": "#19D3F3",
          "width": 2
         },
         "mode": "lines+markers+text",
         "name": "(0, 0.1, 0.15)",
         "showlegend": false,
         "textposition": "top center",
         "type": "scatter",
         "x": [
          100,
          300,
          500,
          700,
          900
         ],
         "xaxis": "x3",
         "y": [
          0.8661217887999264,
          0.8989134697256514,
          0.9071465663784258,
          0.9102037584837954,
          0.9127078375813072
         ],
         "yaxis": "y3"
        },
        {
         "line": {
          "color": "#FF6692",
          "width": 2
         },
         "mode": "lines+markers+text",
         "name": "(0, 0.2, 0.3)",
         "showlegend": false,
         "textposition": "top center",
         "type": "scatter",
         "x": [
          100,
          300,
          500,
          700,
          900
         ],
         "xaxis": "x3",
         "y": [
          0.8707570539043848,
          0.9000518085061927,
          0.9060305939611835,
          0.9080090425813429,
          0.9096895985569758
         ],
         "yaxis": "y3"
        },
        {
         "line": {
          "color": "#B6E880",
          "width": 2
         },
         "mode": "lines+markers+text",
         "name": "(0.05, 0.1, 0.25)",
         "showlegend": false,
         "textposition": "top center",
         "type": "scatter",
         "x": [
          100,
          300,
          500,
          700,
          900
         ],
         "xaxis": "x3",
         "y": [
          0.8677061916475981,
          0.8991023505447812,
          0.9062340893354341,
          0.9085542103711335,
          0.9105376513113734
         ],
         "yaxis": "y3"
        },
        {
         "line": {
          "color": "#FF97FF",
          "width": 2
         },
         "mode": "lines+markers+text",
         "name": "(0, 0.25, 0.3)",
         "showlegend": false,
         "textposition": "top center",
         "type": "scatter",
         "x": [
          100,
          300,
          500,
          700,
          900
         ],
         "xaxis": "x3",
         "y": [
          0.8705267028695588,
          0.8994089784556389,
          0.9052078295673871,
          0.9071612250446315,
          0.908767717497684
         ],
         "yaxis": "y3"
        },
        {
         "line": {
          "color": "#FECB52",
          "width": 2
         },
         "mode": "lines+markers+text",
         "name": "(0.05, 0.1, 0.2)",
         "showlegend": false,
         "textposition": "top center",
         "type": "scatter",
         "x": [
          100,
          300,
          500,
          700,
          900
         ],
         "xaxis": "x3",
         "y": [
          0.8660377714662915,
          0.898445907566968,
          0.9062588381553967,
          0.9089969787863005,
          0.9112271432627346
         ],
         "yaxis": "y3"
        },
        {
         "line": {
          "color": "#636EFA",
          "width": 2
         },
         "mode": "lines+markers+text",
         "name": "(0.05, 0.15, 0.25)",
         "showlegend": false,
         "textposition": "top center",
         "type": "scatter",
         "x": [
          100,
          300,
          500,
          700,
          900
         ],
         "xaxis": "x3",
         "y": [
          0.8676646785245269,
          0.8988291122626715,
          0.9058221298103933,
          0.9081270236228219,
          0.9100679430873967
         ],
         "yaxis": "y3"
        },
        {
         "line": {
          "color": "#EF553B",
          "width": 2
         },
         "mode": "lines+markers+text",
         "name": "(0.05, 0.15, 0.2)",
         "showlegend": false,
         "textposition": "top center",
         "type": "scatter",
         "x": [
          100,
          300,
          500,
          700,
          900
         ],
         "xaxis": "x3",
         "y": [
          0.8659962583432202,
          0.8981726692848583,
          0.9058468786303557,
          0.9085697920379889,
          0.9107574350387578
         ],
         "yaxis": "y3"
        },
        {
         "line": {
          "color": "#00CC96",
          "width": 2
         },
         "mode": "lines+markers+text",
         "name": "(0.05, 0.1, 0.3)",
         "showlegend": false,
         "textposition": "top center",
         "type": "scatter",
         "x": [
          100,
          300,
          500,
          700,
          900
         ],
         "xaxis": "x3",
         "y": [
          0.8691182167429929,
          0.898873184831493,
          0.9051228508443571,
          0.9071375451747797,
          0.9089036396253761
         ],
         "yaxis": "y3"
        },
        {
         "line": {
          "color": "#AB63FA",
          "width": 2
         },
         "mode": "lines+markers+text",
         "name": "(0.05, 0.2, 0.25)",
         "showlegend": false,
         "textposition": "top center",
         "type": "scatter",
         "x": [
          100,
          300,
          500,
          700,
          900
         ],
         "xaxis": "x3",
         "y": [
          0.8675337405622061,
          0.8984079391232028,
          0.9052225995026824,
          0.9074920431313838,
          0.9093690842452649
         ],
         "yaxis": "y3"
        },
        {
         "line": {
          "color": "#FFA15A",
          "width": 2
         },
         "mode": "lines+markers+text",
         "name": "(0.05, 0.15, 0.3)",
         "showlegend": false,
         "textposition": "top center",
         "type": "scatter",
         "x": [
          100,
          300,
          500,
          700,
          900
         ],
         "xaxis": "x3",
         "y": [
          0.8690767036199216,
          0.8985999465493834,
          0.9047108913193161,
          0.9067103584264682,
          0.9084339314013993
         ],
         "yaxis": "y3"
        },
        {
         "line": {
          "color": "#19D3F3",
          "width": 2
         },
         "mode": "lines+markers+text",
         "name": "(0, 0, 0.1)",
         "showlegend": false,
         "textposition": "top center",
         "type": "scatter",
         "x": [
          100,
          300,
          500,
          700,
          900
         ],
         "xaxis": "x3",
         "y": [
          0.8640650200790643,
          0.8972076445827186,
          0.9056226979981986,
          0.90882816084469,
          0.9115289925986096
         ],
         "yaxis": "y3"
        },
        {
         "line": {
          "color": "#FF6692",
          "width": 2
         },
         "mode": "lines+markers+text",
         "name": "(0, 0.05, 0.1)",
         "showlegend": false,
         "textposition": "top center",
         "type": "scatter",
         "x": [
          100,
          300,
          500,
          700,
          900
         ],
         "xaxis": "x3",
         "y": [
          0.8641645386182639,
          0.8971873014198445,
          0.9055758499507662,
          0.9087769462536254,
          0.911469859669349
         ],
         "yaxis": "y3"
        },
        {
         "line": {
          "color": "#B6E880",
          "width": 2
         },
         "mode": "lines+markers+text",
         "name": "(0.05, 0.1, 0.15)",
         "showlegend": false,
         "textposition": "top center",
         "type": "scatter",
         "x": [
          100,
          300,
          500,
          700,
          900
         ],
         "xaxis": "x3",
         "y": [
          0.8643105005531426,
          0.8970404346293734,
          0.9052273334288479,
          0.9082700938374827,
          0.910753311583599
         ],
         "yaxis": "y3"
        },
        {
         "line": {
          "color": "#FF97FF",
          "width": 2
         },
         "mode": "lines+markers+text",
         "name": "(0.05, 0.2, 0.3)",
         "showlegend": false,
         "textposition": "top center",
         "type": "scatter",
         "x": [
          100,
          300,
          500,
          700,
          900
         ],
         "xaxis": "x3",
         "y": [
          0.868945765657601,
          0.8981787734099147,
          0.9041113610116052,
          0.9060753779350301,
          0.9077350725592676
         ],
         "yaxis": "y3"
        },
        {
         "line": {
          "color": "#FECB52",
          "width": 2
         },
         "mode": "lines+markers+text",
         "name": "(0.05, 0.25, 0.3)",
         "showlegend": false,
         "textposition": "top center",
         "type": "scatter",
         "x": [
          100,
          300,
          500,
          700,
          900
         ],
         "xaxis": "x3",
         "y": [
          0.8687154146227748,
          0.8975359433593609,
          0.903288596617809,
          0.9052275603983188,
          0.9068131914999757
         ],
         "yaxis": "y3"
        },
        {
         "line": {
          "color": "#636EFA",
          "width": 2
         },
         "mode": "lines+markers+text",
         "name": "(0.1, 0.15, 0.25)",
         "showlegend": false,
         "textposition": "top center",
         "type": "scatter",
         "x": [
          100,
          300,
          500,
          700,
          900
         ],
         "xaxis": "x3",
         "y": [
          0.8659031820257026,
          0.8969932797585574,
          0.9039521594563744,
          0.906233290031648,
          0.9081444716923606
         ],
         "yaxis": "y3"
        },
        {
         "line": {
          "color": "#EF553B",
          "width": 2
         },
         "mode": "lines+markers+text",
         "name": "(0.1, 0.15, 0.2)",
         "showlegend": false,
         "textposition": "top center",
         "type": "scatter",
         "x": [
          100,
          300,
          500,
          700,
          900
         ],
         "xaxis": "x3",
         "y": [
          0.8642347618443961,
          0.8963368367807444,
          0.9039769082763368,
          0.9066760584468149,
          0.9088339636437217
         ],
         "yaxis": "y3"
        },
        {
         "line": {
          "color": "#00CC96",
          "width": 2
         },
         "mode": "lines+markers+text",
         "name": "(0.1, 0.2, 0.25)",
         "showlegend": false,
         "textposition": "top center",
         "type": "scatter",
         "x": [
          100,
          300,
          500,
          700,
          900
         ],
         "xaxis": "x3",
         "y": [
          0.8657722440633818,
          0.8965721066190887,
          0.9033526291486634,
          0.9055983095402098,
          0.9074456128502287
         ],
         "yaxis": "y3"
        },
        {
         "line": {
          "color": "#AB63FA",
          "width": 2
         },
         "mode": "lines+markers+text",
         "name": "(0.1, 0.15, 0.3)",
         "showlegend": false,
         "textposition": "top center",
         "type": "scatter",
         "x": [
          100,
          300,
          500,
          700,
          900
         ],
         "xaxis": "x3",
         "y": [
          0.8673152071210976,
          0.8967641140452695,
          0.9028409209652972,
          0.9048166248352941,
          0.906510460006363
         ],
         "yaxis": "y3"
        },
        {
         "line": {
          "color": "#FFA15A",
          "width": 2
         },
         "mode": "lines+markers+text",
         "name": "(0, 0, 0.05)",
         "showlegend": false,
         "textposition": "top center",
         "type": "scatter",
         "x": [
          100,
          300,
          500,
          700,
          900
         ],
         "xaxis": "x3",
         "y": [
          0.8621833531559382,
          0.8951996758321249,
          0.9036292999774681,
          0.9068711442554306,
          0.9096021175542744
         ],
         "yaxis": "y3"
        },
        {
         "line": {
          "color": "#19D3F3",
          "width": 2
         },
         "mode": "lines+markers+text",
         "name": "(0.1, 0.2, 0.3)",
         "showlegend": false,
         "textposition": "top center",
         "type": "scatter",
         "x": [
          100,
          300,
          500,
          700,
          900
         ],
         "xaxis": "x3",
         "y": [
          0.8671842691587768,
          0.8963429409058006,
          0.9022413906575864,
          0.9041816443438562,
          0.9058116011642313
         ],
         "yaxis": "y3"
        },
        {
         "line": {
          "color": "#FF6692",
          "width": 2
         },
         "mode": "lines+markers+text",
         "name": "(0.1, 0.25, 0.3)",
         "showlegend": false,
         "textposition": "top center",
         "type": "scatter",
         "x": [
          100,
          300,
          500,
          700,
          900
         ],
         "xaxis": "x3",
         "y": [
          0.8669539181239506,
          0.8957001108552469,
          0.9014186262637902,
          0.9033338268071446,
          0.9048897201049395
         ],
         "yaxis": "y3"
        },
        {
         "line": {
          "color": "#B6E880",
          "width": 2
         },
         "mode": "lines+markers+text",
         "name": "(0.15, 0.2, 0.25)",
         "showlegend": false,
         "textposition": "top center",
         "type": "scatter",
         "x": [
          100,
          300,
          500,
          700,
          900
         ],
         "xaxis": "x3",
         "y": [
          0.8639205874173391,
          0.8945290387816875,
          0.9012113521270039,
          0.9034317754275659,
          0.9052340905104561
         ],
         "yaxis": "y3"
        },
        {
         "line": {
          "color": "#FF97FF",
          "width": 2
         },
         "mode": "lines+markers+text",
         "name": "(0.15, 0.2, 0.3)",
         "showlegend": false,
         "textposition": "top center",
         "type": "scatter",
         "x": [
          100,
          300,
          500,
          700,
          900
         ],
         "xaxis": "x3",
         "y": [
          0.8653326125127341,
          0.8942998730683994,
          0.9001001136359268,
          0.9020151102312123,
          0.9036000788244589
         ],
         "yaxis": "y3"
        },
        {
         "line": {
          "color": "#FECB52",
          "width": 2
         },
         "mode": "lines+markers+text",
         "name": "(0.15, 0.25, 0.3)",
         "showlegend": false,
         "textposition": "top center",
         "type": "scatter",
         "x": [
          100,
          300,
          500,
          700,
          900
         ],
         "xaxis": "x3",
         "y": [
          0.8651022614779079,
          0.8936570430178458,
          0.8992773492421307,
          0.9011672926945009,
          0.9026781977651672
         ],
         "yaxis": "y3"
        },
        {
         "line": {
          "color": "#636EFA",
          "width": 2
         },
         "mode": "lines+markers+text",
         "name": "(0.2, 0.25, 0.3)",
         "showlegend": false,
         "textposition": "top center",
         "type": "scatter",
         "x": [
          100,
          300,
          500,
          700,
          900
         ],
         "xaxis": "x3",
         "y": [
          0.8631790419464214,
          0.8913652211453063,
          0.896832467521418,
          0.8986566820942893,
          0.9000900292520079
         ],
         "yaxis": "y3"
        },
        {
         "line": {
          "color": "black",
          "width": 2
         },
         "mode": "lines+markers+text",
         "name": "SegCertify",
         "showlegend": false,
         "textposition": "top center",
         "type": "scatter",
         "x": [
          100,
          300,
          500,
          700,
          900
         ],
         "xaxis": "x3",
         "y": [
          0.8602515565675413,
          0.8930993534048355,
          0.9014931064348991,
          0.9047309848183567,
          0.9074617190606638
         ],
         "yaxis": "y3"
        }
       ],
       "layout": {
        "annotations": [
         {
          "font": {
           "size": 16
          },
          "showarrow": false,
          "text": "Mean Percentage of Certified Pixels",
          "x": 0.14444444444444446,
          "xanchor": "center",
          "xref": "paper",
          "y": 1,
          "yanchor": "bottom",
          "yref": "paper"
         },
         {
          "font": {
           "size": 16
          },
          "showarrow": false,
          "text": "Mean Certified Accuracy",
          "x": 0.5,
          "xanchor": "center",
          "xref": "paper",
          "y": 1,
          "yanchor": "bottom",
          "yref": "paper"
         },
         {
          "font": {
           "size": 16
          },
          "showarrow": false,
          "text": "Mean Certified Info. Gain",
          "x": 0.8555555555555556,
          "xanchor": "center",
          "xref": "paper",
          "y": 1,
          "yanchor": "bottom",
          "yref": "paper"
         }
        ],
        "font": {
         "family": "Serif",
         "size": 14
        },
        "margin": {
         "b": 20,
         "l": 20,
         "r": 20,
         "t": 20
        },
        "template": {
         "data": {
          "bar": [
           {
            "error_x": {
             "color": "#2a3f5f"
            },
            "error_y": {
             "color": "#2a3f5f"
            },
            "marker": {
             "line": {
              "color": "#E5ECF6",
              "width": 0.5
             },
             "pattern": {
              "fillmode": "overlay",
              "size": 10,
              "solidity": 0.2
             }
            },
            "type": "bar"
           }
          ],
          "barpolar": [
           {
            "marker": {
             "line": {
              "color": "#E5ECF6",
              "width": 0.5
             },
             "pattern": {
              "fillmode": "overlay",
              "size": 10,
              "solidity": 0.2
             }
            },
            "type": "barpolar"
           }
          ],
          "carpet": [
           {
            "aaxis": {
             "endlinecolor": "#2a3f5f",
             "gridcolor": "white",
             "linecolor": "white",
             "minorgridcolor": "white",
             "startlinecolor": "#2a3f5f"
            },
            "baxis": {
             "endlinecolor": "#2a3f5f",
             "gridcolor": "white",
             "linecolor": "white",
             "minorgridcolor": "white",
             "startlinecolor": "#2a3f5f"
            },
            "type": "carpet"
           }
          ],
          "choropleth": [
           {
            "colorbar": {
             "outlinewidth": 0,
             "ticks": ""
            },
            "type": "choropleth"
           }
          ],
          "contour": [
           {
            "colorbar": {
             "outlinewidth": 0,
             "ticks": ""
            },
            "colorscale": [
             [
              0,
              "#0d0887"
             ],
             [
              0.1111111111111111,
              "#46039f"
             ],
             [
              0.2222222222222222,
              "#7201a8"
             ],
             [
              0.3333333333333333,
              "#9c179e"
             ],
             [
              0.4444444444444444,
              "#bd3786"
             ],
             [
              0.5555555555555556,
              "#d8576b"
             ],
             [
              0.6666666666666666,
              "#ed7953"
             ],
             [
              0.7777777777777778,
              "#fb9f3a"
             ],
             [
              0.8888888888888888,
              "#fdca26"
             ],
             [
              1,
              "#f0f921"
             ]
            ],
            "type": "contour"
           }
          ],
          "contourcarpet": [
           {
            "colorbar": {
             "outlinewidth": 0,
             "ticks": ""
            },
            "type": "contourcarpet"
           }
          ],
          "heatmap": [
           {
            "colorbar": {
             "outlinewidth": 0,
             "ticks": ""
            },
            "colorscale": [
             [
              0,
              "#0d0887"
             ],
             [
              0.1111111111111111,
              "#46039f"
             ],
             [
              0.2222222222222222,
              "#7201a8"
             ],
             [
              0.3333333333333333,
              "#9c179e"
             ],
             [
              0.4444444444444444,
              "#bd3786"
             ],
             [
              0.5555555555555556,
              "#d8576b"
             ],
             [
              0.6666666666666666,
              "#ed7953"
             ],
             [
              0.7777777777777778,
              "#fb9f3a"
             ],
             [
              0.8888888888888888,
              "#fdca26"
             ],
             [
              1,
              "#f0f921"
             ]
            ],
            "type": "heatmap"
           }
          ],
          "heatmapgl": [
           {
            "colorbar": {
             "outlinewidth": 0,
             "ticks": ""
            },
            "colorscale": [
             [
              0,
              "#0d0887"
             ],
             [
              0.1111111111111111,
              "#46039f"
             ],
             [
              0.2222222222222222,
              "#7201a8"
             ],
             [
              0.3333333333333333,
              "#9c179e"
             ],
             [
              0.4444444444444444,
              "#bd3786"
             ],
             [
              0.5555555555555556,
              "#d8576b"
             ],
             [
              0.6666666666666666,
              "#ed7953"
             ],
             [
              0.7777777777777778,
              "#fb9f3a"
             ],
             [
              0.8888888888888888,
              "#fdca26"
             ],
             [
              1,
              "#f0f921"
             ]
            ],
            "type": "heatmapgl"
           }
          ],
          "histogram": [
           {
            "marker": {
             "pattern": {
              "fillmode": "overlay",
              "size": 10,
              "solidity": 0.2
             }
            },
            "type": "histogram"
           }
          ],
          "histogram2d": [
           {
            "colorbar": {
             "outlinewidth": 0,
             "ticks": ""
            },
            "colorscale": [
             [
              0,
              "#0d0887"
             ],
             [
              0.1111111111111111,
              "#46039f"
             ],
             [
              0.2222222222222222,
              "#7201a8"
             ],
             [
              0.3333333333333333,
              "#9c179e"
             ],
             [
              0.4444444444444444,
              "#bd3786"
             ],
             [
              0.5555555555555556,
              "#d8576b"
             ],
             [
              0.6666666666666666,
              "#ed7953"
             ],
             [
              0.7777777777777778,
              "#fb9f3a"
             ],
             [
              0.8888888888888888,
              "#fdca26"
             ],
             [
              1,
              "#f0f921"
             ]
            ],
            "type": "histogram2d"
           }
          ],
          "histogram2dcontour": [
           {
            "colorbar": {
             "outlinewidth": 0,
             "ticks": ""
            },
            "colorscale": [
             [
              0,
              "#0d0887"
             ],
             [
              0.1111111111111111,
              "#46039f"
             ],
             [
              0.2222222222222222,
              "#7201a8"
             ],
             [
              0.3333333333333333,
              "#9c179e"
             ],
             [
              0.4444444444444444,
              "#bd3786"
             ],
             [
              0.5555555555555556,
              "#d8576b"
             ],
             [
              0.6666666666666666,
              "#ed7953"
             ],
             [
              0.7777777777777778,
              "#fb9f3a"
             ],
             [
              0.8888888888888888,
              "#fdca26"
             ],
             [
              1,
              "#f0f921"
             ]
            ],
            "type": "histogram2dcontour"
           }
          ],
          "mesh3d": [
           {
            "colorbar": {
             "outlinewidth": 0,
             "ticks": ""
            },
            "type": "mesh3d"
           }
          ],
          "parcoords": [
           {
            "line": {
             "colorbar": {
              "outlinewidth": 0,
              "ticks": ""
             }
            },
            "type": "parcoords"
           }
          ],
          "pie": [
           {
            "automargin": true,
            "type": "pie"
           }
          ],
          "scatter": [
           {
            "fillpattern": {
             "fillmode": "overlay",
             "size": 10,
             "solidity": 0.2
            },
            "type": "scatter"
           }
          ],
          "scatter3d": [
           {
            "line": {
             "colorbar": {
              "outlinewidth": 0,
              "ticks": ""
             }
            },
            "marker": {
             "colorbar": {
              "outlinewidth": 0,
              "ticks": ""
             }
            },
            "type": "scatter3d"
           }
          ],
          "scattercarpet": [
           {
            "marker": {
             "colorbar": {
              "outlinewidth": 0,
              "ticks": ""
             }
            },
            "type": "scattercarpet"
           }
          ],
          "scattergeo": [
           {
            "marker": {
             "colorbar": {
              "outlinewidth": 0,
              "ticks": ""
             }
            },
            "type": "scattergeo"
           }
          ],
          "scattergl": [
           {
            "marker": {
             "colorbar": {
              "outlinewidth": 0,
              "ticks": ""
             }
            },
            "type": "scattergl"
           }
          ],
          "scattermapbox": [
           {
            "marker": {
             "colorbar": {
              "outlinewidth": 0,
              "ticks": ""
             }
            },
            "type": "scattermapbox"
           }
          ],
          "scatterpolar": [
           {
            "marker": {
             "colorbar": {
              "outlinewidth": 0,
              "ticks": ""
             }
            },
            "type": "scatterpolar"
           }
          ],
          "scatterpolargl": [
           {
            "marker": {
             "colorbar": {
              "outlinewidth": 0,
              "ticks": ""
             }
            },
            "type": "scatterpolargl"
           }
          ],
          "scatterternary": [
           {
            "marker": {
             "colorbar": {
              "outlinewidth": 0,
              "ticks": ""
             }
            },
            "type": "scatterternary"
           }
          ],
          "surface": [
           {
            "colorbar": {
             "outlinewidth": 0,
             "ticks": ""
            },
            "colorscale": [
             [
              0,
              "#0d0887"
             ],
             [
              0.1111111111111111,
              "#46039f"
             ],
             [
              0.2222222222222222,
              "#7201a8"
             ],
             [
              0.3333333333333333,
              "#9c179e"
             ],
             [
              0.4444444444444444,
              "#bd3786"
             ],
             [
              0.5555555555555556,
              "#d8576b"
             ],
             [
              0.6666666666666666,
              "#ed7953"
             ],
             [
              0.7777777777777778,
              "#fb9f3a"
             ],
             [
              0.8888888888888888,
              "#fdca26"
             ],
             [
              1,
              "#f0f921"
             ]
            ],
            "type": "surface"
           }
          ],
          "table": [
           {
            "cells": {
             "fill": {
              "color": "#EBF0F8"
             },
             "line": {
              "color": "white"
             }
            },
            "header": {
             "fill": {
              "color": "#C8D4E3"
             },
             "line": {
              "color": "white"
             }
            },
            "type": "table"
           }
          ]
         },
         "layout": {
          "annotationdefaults": {
           "arrowcolor": "#2a3f5f",
           "arrowhead": 0,
           "arrowwidth": 1
          },
          "autotypenumbers": "strict",
          "coloraxis": {
           "colorbar": {
            "outlinewidth": 0,
            "ticks": ""
           }
          },
          "colorscale": {
           "diverging": [
            [
             0,
             "#8e0152"
            ],
            [
             0.1,
             "#c51b7d"
            ],
            [
             0.2,
             "#de77ae"
            ],
            [
             0.3,
             "#f1b6da"
            ],
            [
             0.4,
             "#fde0ef"
            ],
            [
             0.5,
             "#f7f7f7"
            ],
            [
             0.6,
             "#e6f5d0"
            ],
            [
             0.7,
             "#b8e186"
            ],
            [
             0.8,
             "#7fbc41"
            ],
            [
             0.9,
             "#4d9221"
            ],
            [
             1,
             "#276419"
            ]
           ],
           "sequential": [
            [
             0,
             "#0d0887"
            ],
            [
             0.1111111111111111,
             "#46039f"
            ],
            [
             0.2222222222222222,
             "#7201a8"
            ],
            [
             0.3333333333333333,
             "#9c179e"
            ],
            [
             0.4444444444444444,
             "#bd3786"
            ],
            [
             0.5555555555555556,
             "#d8576b"
            ],
            [
             0.6666666666666666,
             "#ed7953"
            ],
            [
             0.7777777777777778,
             "#fb9f3a"
            ],
            [
             0.8888888888888888,
             "#fdca26"
            ],
            [
             1,
             "#f0f921"
            ]
           ],
           "sequentialminus": [
            [
             0,
             "#0d0887"
            ],
            [
             0.1111111111111111,
             "#46039f"
            ],
            [
             0.2222222222222222,
             "#7201a8"
            ],
            [
             0.3333333333333333,
             "#9c179e"
            ],
            [
             0.4444444444444444,
             "#bd3786"
            ],
            [
             0.5555555555555556,
             "#d8576b"
            ],
            [
             0.6666666666666666,
             "#ed7953"
            ],
            [
             0.7777777777777778,
             "#fb9f3a"
            ],
            [
             0.8888888888888888,
             "#fdca26"
            ],
            [
             1,
             "#f0f921"
            ]
           ]
          },
          "colorway": [
           "#636efa",
           "#EF553B",
           "#00cc96",
           "#ab63fa",
           "#FFA15A",
           "#19d3f3",
           "#FF6692",
           "#B6E880",
           "#FF97FF",
           "#FECB52"
          ],
          "font": {
           "color": "#2a3f5f"
          },
          "geo": {
           "bgcolor": "white",
           "lakecolor": "white",
           "landcolor": "#E5ECF6",
           "showlakes": true,
           "showland": true,
           "subunitcolor": "white"
          },
          "hoverlabel": {
           "align": "left"
          },
          "hovermode": "closest",
          "mapbox": {
           "style": "light"
          },
          "paper_bgcolor": "white",
          "plot_bgcolor": "#E5ECF6",
          "polar": {
           "angularaxis": {
            "gridcolor": "white",
            "linecolor": "white",
            "ticks": ""
           },
           "bgcolor": "#E5ECF6",
           "radialaxis": {
            "gridcolor": "white",
            "linecolor": "white",
            "ticks": ""
           }
          },
          "scene": {
           "xaxis": {
            "backgroundcolor": "#E5ECF6",
            "gridcolor": "white",
            "gridwidth": 2,
            "linecolor": "white",
            "showbackground": true,
            "ticks": "",
            "zerolinecolor": "white"
           },
           "yaxis": {
            "backgroundcolor": "#E5ECF6",
            "gridcolor": "white",
            "gridwidth": 2,
            "linecolor": "white",
            "showbackground": true,
            "ticks": "",
            "zerolinecolor": "white"
           },
           "zaxis": {
            "backgroundcolor": "#E5ECF6",
            "gridcolor": "white",
            "gridwidth": 2,
            "linecolor": "white",
            "showbackground": true,
            "ticks": "",
            "zerolinecolor": "white"
           }
          },
          "shapedefaults": {
           "line": {
            "color": "#2a3f5f"
           }
          },
          "ternary": {
           "aaxis": {
            "gridcolor": "white",
            "linecolor": "white",
            "ticks": ""
           },
           "baxis": {
            "gridcolor": "white",
            "linecolor": "white",
            "ticks": ""
           },
           "bgcolor": "#E5ECF6",
           "caxis": {
            "gridcolor": "white",
            "linecolor": "white",
            "ticks": ""
           }
          },
          "title": {
           "x": 0.05
          },
          "xaxis": {
           "automargin": true,
           "gridcolor": "white",
           "linecolor": "white",
           "ticks": "",
           "title": {
            "standoff": 15
           },
           "zerolinecolor": "white",
           "zerolinewidth": 2
          },
          "yaxis": {
           "automargin": true,
           "gridcolor": "white",
           "linecolor": "white",
           "ticks": "",
           "title": {
            "standoff": 15
           },
           "zerolinecolor": "white",
           "zerolinewidth": 2
          }
         }
        },
        "xaxis": {
         "anchor": "y",
         "domain": [
          0,
          0.2888888888888889
         ],
         "title": {
          "text": "Samples budget (N)"
         },
         "type": "category"
        },
        "xaxis2": {
         "anchor": "y2",
         "domain": [
          0.35555555555555557,
          0.6444444444444445
         ],
         "title": {
          "text": "Samples budget (N)"
         },
         "type": "category"
        },
        "xaxis3": {
         "anchor": "y3",
         "domain": [
          0.7111111111111111,
          1
         ],
         "title": {
          "text": "Samples budget (N)"
         },
         "type": "category"
        },
        "yaxis": {
         "anchor": "x",
         "domain": [
          0,
          1
         ],
         "title": {
          "text": "certified_pixels"
         }
        },
        "yaxis2": {
         "anchor": "x2",
         "domain": [
          0,
          1
         ],
         "matches": "y",
         "showticklabels": false,
         "title": {
          "text": "certified_pos"
         }
        },
        "yaxis3": {
         "anchor": "x3",
         "domain": [
          0,
          1
         ],
         "matches": "y",
         "showticklabels": false,
         "title": {
          "text": "c_info_gain"
         }
        }
       }
      },
      "text/html": [
       "<div>                            <div id=\"bea97742-cc9e-4667-be24-0b10fb6dd48d\" class=\"plotly-graph-div\" style=\"height:525px; width:100%;\"></div>            <script type=\"text/javascript\">                require([\"plotly\"], function(Plotly) {                    window.PLOTLYENV=window.PLOTLYENV || {};                                    if (document.getElementById(\"bea97742-cc9e-4667-be24-0b10fb6dd48d\")) {                    Plotly.newPlot(                        \"bea97742-cc9e-4667-be24-0b10fb6dd48d\",                        [{\"line\":{\"color\":\"#636EFA\",\"width\":2},\"mode\":\"lines+markers+text\",\"name\":\"(0, 0, 0.25)\",\"showlegend\":true,\"textposition\":\"top center\",\"x\":[100,300,500,700,900],\"y\":[0.8996867799343055,0.942171404914559,0.9528464894839768,0.9561938587077902,0.9595864405671735],\"type\":\"scatter\",\"xaxis\":\"x\",\"yaxis\":\"y\"},{\"line\":{\"color\":\"#EF553B\",\"width\":2},\"mode\":\"lines+markers+text\",\"name\":\"(0, 0.05, 0.25)\",\"showlegend\":true,\"textposition\":\"top center\",\"x\":[100,300,500,700,900],\"y\":[0.9023516017801795,0.9446417579544278,0.9552901507269429,0.9586462356395409,0.9620301018101396],\"type\":\"scatter\",\"xaxis\":\"x\",\"yaxis\":\"y\"},{\"line\":{\"color\":\"#00CC96\",\"width\":2},\"mode\":\"lines+markers+text\",\"name\":\"(0, 0.1, 0.25)\",\"showlegend\":true,\"textposition\":\"top center\",\"x\":[100,300,500,700,900],\"y\":[0.9048284915866367,0.9468479166780153,0.9574554546593528,0.9607973765776758,0.9641354853821558],\"type\":\"scatter\",\"xaxis\":\"x\",\"yaxis\":\"y\"},{\"line\":{\"color\":\"#AB63FA\",\"width\":2},\"mode\":\"lines+markers+text\",\"name\":\"(0, 0, 0.2)\",\"showlegend\":true,\"textposition\":\"top center\",\"x\":[100,300,500,700,900],\"y\":[0.8951796793715988,0.9378936359129957,0.9490796777374072,0.9528628314004478,0.9564934605097588],\"type\":\"scatter\",\"xaxis\":\"x\",\"yaxis\":\"y\"},{\"line\":{\"color\":\"#FFA15A\",\"width\":2},\"mode\":\"lines+markers+text\",\"name\":\"(0, 0.05, 0.2)\",\"showlegend\":true,\"textposition\":\"top center\",\"x\":[100,300,500,700,900],\"y\":[0.8978445012174727,0.9403639889528644,0.9515233389803733,0.9553152083321985,0.958937121752725],\"type\":\"scatter\",\"xaxis\":\"x\",\"yaxis\":\"y\"},{\"line\":{\"color\":\"#19D3F3\",\"width\":2},\"mode\":\"lines+markers+text\",\"name\":\"(0, 0.1, 0.2)\",\"showlegend\":true,\"textposition\":\"top center\",\"x\":[100,300,500,700,900],\"y\":[0.90032139102393,0.9425701476764519,0.9536886429127832,0.9574663492703335,0.9610425053247411],\"type\":\"scatter\",\"xaxis\":\"x\",\"yaxis\":\"y\"},{\"line\":{\"color\":\"#FF6692\",\"width\":2},\"mode\":\"lines+markers+text\",\"name\":\"(0, 0.15, 0.25)\",\"showlegend\":true,\"textposition\":\"top center\",\"x\":[100,300,500,700,900],\"y\":[0.9071898985166987,0.9488149386905768,0.9592160237938304,0.9625290749930547,0.9657990924789053],\"type\":\"scatter\",\"xaxis\":\"x\",\"yaxis\":\"y\"},{\"line\":{\"color\":\"#B6E880\",\"width\":2},\"mode\":\"lines+markers+text\",\"name\":\"(0, 0, 0.3)\",\"showlegend\":true,\"textposition\":\"top center\",\"x\":[100,300,500,700,900],\"y\":[0.9044825876880002,0.946025918279523,0.9559438273857837,0.9590259128322175,0.9621444952254368],\"type\":\"scatter\",\"xaxis\":\"x\",\"yaxis\":\"y\"},{\"line\":{\"color\":\"#FF97FF\",\"width\":2},\"mode\":\"lines+markers+text\",\"name\":\"(0, 0.05, 0.3)\",\"showlegend\":true,\"textposition\":\"top center\",\"x\":[100,300,500,700,900],\"y\":[0.9071474095338741,0.9484962713193918,0.9583874886287498,0.9614782897639682,0.9645881564684029],\"type\":\"scatter\",\"xaxis\":\"x\",\"yaxis\":\"y\"},{\"line\":{\"color\":\"#FECB52\",\"width\":2},\"mode\":\"lines+markers+text\",\"name\":\"(0, 0.15, 0.2)\",\"showlegend\":true,\"textposition\":\"top center\",\"x\":[100,300,500,700,900],\"y\":[0.9026827979539921,0.9445371696890134,0.9554492120472609,0.9591980476857123,0.9627061124214907],\"type\":\"scatter\",\"xaxis\":\"x\",\"yaxis\":\"y\"},{\"line\":{\"color\":\"#636EFA\",\"width\":2},\"mode\":\"lines+markers+text\",\"name\":\"(0, 0.1, 0.3)\",\"showlegend\":true,\"textposition\":\"top center\",\"x\":[100,300,500,700,900],\"y\":[0.9096242993403313,0.9507024300429793,0.9605527925611597,0.9636294307021032,0.966693540040419],\"type\":\"scatter\",\"xaxis\":\"x\",\"yaxis\":\"y\"},{\"line\":{\"color\":\"#EF553B\",\"width\":2},\"mode\":\"lines+markers+text\",\"name\":\"(0, 0.2, 0.25)\",\"showlegend\":true,\"textposition\":\"top center\",\"x\":[100,300,500,700,900],\"y\":[0.9093154371190291,0.9505450029143084,0.9606927883122613,0.9639878634033675,0.9671680003486276],\"type\":\"scatter\",\"xaxis\":\"x\",\"yaxis\":\"y\"},{\"line\":{\"color\":\"#00CC96\",\"width\":2},\"mode\":\"lines+markers+text\",\"name\":\"(0, 0.15, 0.3)\",\"showlegend\":true,\"textposition\":\"top center\",\"x\":[100,300,500,700,900],\"y\":[0.9119857062703933,0.9526694520555408,0.9623133616956373,0.9653611291174821,0.9683571471371686],\"type\":\"scatter\",\"xaxis\":\"x\",\"yaxis\":\"y\"},{\"line\":{\"color\":\"#AB63FA\",\"width\":2},\"mode\":\"lines+markers+text\",\"name\":\"(0, 0, 0.15)\",\"showlegend\":true,\"textposition\":\"top center\",\"x\":[100,300,500,700,900],\"y\":[0.8908174771349352,0.9333413227147191,0.94470821508141,0.9487571972523791,0.9525986370841664],\"type\":\"scatter\",\"xaxis\":\"x\",\"yaxis\":\"y\"},{\"line\":{\"color\":\"#FFA15A\",\"width\":2},\"mode\":\"lines+markers+text\",\"name\":\"(0, 0.05, 0.15)\",\"showlegend\":true,\"textposition\":\"top center\",\"x\":[100,300,500,700,900],\"y\":[0.8934822989808091,0.935811675754588,0.9471518763243761,0.9512095741841298,0.9550422983271325],\"type\":\"scatter\",\"xaxis\":\"x\",\"yaxis\":\"y\"},{\"line\":{\"color\":\"#19D3F3\",\"width\":2},\"mode\":\"lines+markers+text\",\"name\":\"(0, 0.1, 0.15)\",\"showlegend\":true,\"textposition\":\"top center\",\"x\":[100,300,500,700,900],\"y\":[0.8959591887872663,0.9380178344781753,0.949317180256786,0.9533607151222647,0.9571476818991486],\"type\":\"scatter\",\"xaxis\":\"x\",\"yaxis\":\"y\"},{\"line\":{\"color\":\"#FF6692\",\"width\":2},\"mode\":\"lines+markers+text\",\"name\":\"(0, 0.2, 0.3)\",\"showlegend\":true,\"textposition\":\"top center\",\"x\":[100,300,500,700,900],\"y\":[0.9141112448727237,0.9543995162792724,0.9637901262140682,0.9668199175277948,0.9697260550068908],\"type\":\"scatter\",\"xaxis\":\"x\",\"yaxis\":\"y\"},{\"line\":{\"color\":\"#B6E880\",\"width\":2},\"mode\":\"lines+markers+text\",\"name\":\"(0.05, 0.1, 0.25)\",\"showlegend\":true,\"textposition\":\"top center\",\"x\":[100,300,500,700,900],\"y\":[0.9101641273144239,0.9519656601861889,0.9623945265474433,0.9656945042134908,0.9689639769687924],\"type\":\"scatter\",\"xaxis\":\"x\",\"yaxis\":\"y\"},{\"line\":{\"color\":\"#FF97FF\",\"width\":2},\"mode\":\"lines+markers+text\",\"name\":\"(0, 0.25, 0.3)\",\"showlegend\":true,\"textposition\":\"top center\",\"x\":[100,300,500,700,900],\"y\":[0.9161735947313662,0.9560870915201796,0.9652222228274784,0.9682334933025379,0.9710257820968857],\"type\":\"scatter\",\"xaxis\":\"x\",\"yaxis\":\"y\"},{\"line\":{\"color\":\"#FECB52\",\"width\":2},\"mode\":\"lines+markers+text\",\"name\":\"(0.05, 0.1, 0.2)\",\"showlegend\":true,\"textposition\":\"top center\",\"x\":[100,300,500,700,900],\"y\":[0.9056570267517172,0.9476878911846255,0.9586277148008737,0.9623634769061483,0.9658709969113778],\"type\":\"scatter\",\"xaxis\":\"x\",\"yaxis\":\"y\"},{\"line\":{\"color\":\"#636EFA\",\"width\":2},\"mode\":\"lines+markers+text\",\"name\":\"(0.05, 0.15, 0.25)\",\"showlegend\":true,\"textposition\":\"top center\",\"x\":[100,300,500,700,900],\"y\":[0.912525534244486,0.9539326821987504,0.9641550956819209,0.9674262026288696,0.970627584065542],\"type\":\"scatter\",\"xaxis\":\"x\",\"yaxis\":\"y\"},{\"line\":{\"color\":\"#EF553B\",\"width\":2},\"mode\":\"lines+markers+text\",\"name\":\"(0.05, 0.15, 0.2)\",\"showlegend\":true,\"textposition\":\"top center\",\"x\":[100,300,500,700,900],\"y\":[0.9080184336817793,0.949654913197187,0.9603882839353514,0.9640951753215272,0.9675346040081274],\"type\":\"scatter\",\"xaxis\":\"x\",\"yaxis\":\"y\"},{\"line\":{\"color\":\"#00CC96\",\"width\":2},\"mode\":\"lines+markers+text\",\"name\":\"(0.05, 0.1, 0.3)\",\"showlegend\":true,\"textposition\":\"top center\",\"x\":[100,300,500,700,900],\"y\":[0.9149599350681186,0.9558201735511529,0.9654918644492502,0.9685265583379181,0.9715220316270556],\"type\":\"scatter\",\"xaxis\":\"x\",\"yaxis\":\"y\"},{\"line\":{\"color\":\"#AB63FA\",\"width\":2},\"mode\":\"lines+markers+text\",\"name\":\"(0.05, 0.2, 0.25)\",\"showlegend\":true,\"textposition\":\"top center\",\"x\":[100,300,500,700,900],\"y\":[0.9146510728468163,0.9556627464224822,0.9656318602003519,0.9688849910391825,0.9719964919352643],\"type\":\"scatter\",\"xaxis\":\"x\",\"yaxis\":\"y\"},{\"line\":{\"color\":\"#FFA15A\",\"width\":2},\"mode\":\"lines+markers+text\",\"name\":\"(0.05, 0.15, 0.3)\",\"showlegend\":true,\"textposition\":\"top center\",\"x\":[100,300,500,700,900],\"y\":[0.9173213419981806,0.9577871955637144,0.9672524335837278,0.970258256753297,0.9731856387238053],\"type\":\"scatter\",\"xaxis\":\"x\",\"yaxis\":\"y\"},{\"line\":{\"color\":\"#19D3F3\",\"width\":2},\"mode\":\"lines+markers+text\",\"name\":\"(0, 0, 0.1)\",\"showlegend\":true,\"textposition\":\"top center\",\"x\":[100,300,500,700,900],\"y\":[0.8863561339383474,0.9286038011297711,0.9399587094243832,0.9441209955495514,0.9480708367605963],\"type\":\"scatter\",\"xaxis\":\"x\",\"yaxis\":\"y\"},{\"line\":{\"color\":\"#FF6692\",\"width\":2},\"mode\":\"lines+markers+text\",\"name\":\"(0, 0.05, 0.1)\",\"showlegend\":true,\"textposition\":\"top center\",\"x\":[100,300,500,700,900],\"y\":[0.8890209557842214,0.93107415416964,0.9424023706673494,0.9465733724813021,0.9505144980035626],\"type\":\"scatter\",\"xaxis\":\"x\",\"yaxis\":\"y\"},{\"line\":{\"color\":\"#B6E880\",\"width\":2},\"mode\":\"lines+markers+text\",\"name\":\"(0.05, 0.1, 0.15)\",\"showlegend\":true,\"textposition\":\"top center\",\"x\":[100,300,500,700,900],\"y\":[0.9012948245150536,0.9431355779863491,0.9542562521448765,0.9582578427580797,0.9619761734857852],\"type\":\"scatter\",\"xaxis\":\"x\",\"yaxis\":\"y\"},{\"line\":{\"color\":\"#FF97FF\",\"width\":2},\"mode\":\"lines+markers+text\",\"name\":\"(0.05, 0.2, 0.3)\",\"showlegend\":true,\"textposition\":\"top center\",\"x\":[100,300,500,700,900],\"y\":[0.9194468806005109,0.9595172597874462,0.9687291981021587,0.9717170451636098,0.9745545465935275],\"type\":\"scatter\",\"xaxis\":\"x\",\"yaxis\":\"y\"},{\"line\":{\"color\":\"#FECB52\",\"width\":2},\"mode\":\"lines+markers+text\",\"name\":\"(0.05, 0.25, 0.3)\",\"showlegend\":true,\"textposition\":\"top center\",\"x\":[100,300,500,700,900],\"y\":[0.9215092304591533,0.9612048350283532,0.9701612947155689,0.9731306209383529,0.9758542736835224],\"type\":\"scatter\",\"xaxis\":\"x\",\"yaxis\":\"y\"},{\"line\":{\"color\":\"#636EFA\",\"width\":2},\"mode\":\"lines+markers+text\",\"name\":\"(0.1, 0.15, 0.25)\",\"showlegend\":true,\"textposition\":\"top center\",\"x\":[100,300,500,700,900],\"y\":[0.9170032193575448,0.958165238564744,0.9682454773746166,0.9714544850389755,0.9745523676713314],\"type\":\"scatter\",\"xaxis\":\"x\",\"yaxis\":\"y\"},{\"line\":{\"color\":\"#EF553B\",\"width\":2},\"mode\":\"lines+markers+text\",\"name\":\"(0.1, 0.15, 0.2)\",\"showlegend\":true,\"textposition\":\"top center\",\"x\":[100,300,500,700,900],\"y\":[0.9124961187948382,0.9538874695631806,0.9644786656280471,0.968123457731633,0.9714593876139168],\"type\":\"scatter\",\"xaxis\":\"x\",\"yaxis\":\"y\"},{\"line\":{\"color\":\"#00CC96\",\"width\":2},\"mode\":\"lines+markers+text\",\"name\":\"(0.1, 0.2, 0.25)\",\"showlegend\":true,\"textposition\":\"top center\",\"x\":[100,300,500,700,900],\"y\":[0.9191287579598751,0.9598953027884757,0.9697222418930476,0.9729132734492884,0.9759212755410536],\"type\":\"scatter\",\"xaxis\":\"x\",\"yaxis\":\"y\"},{\"line\":{\"color\":\"#AB63FA\",\"width\":2},\"mode\":\"lines+markers+text\",\"name\":\"(0.1, 0.15, 0.3)\",\"showlegend\":true,\"textposition\":\"top center\",\"x\":[100,300,500,700,900],\"y\":[0.9217990271112394,0.962019751929708,0.9713428152764235,0.9742865391634028,0.9771104223295947],\"type\":\"scatter\",\"xaxis\":\"x\",\"yaxis\":\"y\"},{\"line\":{\"color\":\"#FFA15A\",\"width\":2},\"mode\":\"lines+markers+text\",\"name\":\"(0, 0, 0.05)\",\"showlegend\":true,\"textposition\":\"top center\",\"x\":[100,300,500,700,900],\"y\":[0.8821121382308241,0.9239114921803929,0.9352244562227294,0.9393943685755841,0.9433137048758832],\"type\":\"scatter\",\"xaxis\":\"x\",\"yaxis\":\"y\"},{\"line\":{\"color\":\"#19D3F3\",\"width\":2},\"mode\":\"lines+markers+text\",\"name\":\"(0.1, 0.2, 0.3)\",\"showlegend\":true,\"textposition\":\"top center\",\"x\":[100,300,500,700,900],\"y\":[0.9239245657135697,0.9637498161534397,0.9728195797948544,0.9757453275737157,0.9784793301993169],\"type\":\"scatter\",\"xaxis\":\"x\",\"yaxis\":\"y\"},{\"line\":{\"color\":\"#FF6692\",\"width\":2},\"mode\":\"lines+markers+text\",\"name\":\"(0.1, 0.25, 0.3)\",\"showlegend\":true,\"textposition\":\"top center\",\"x\":[100,300,500,700,900],\"y\":[0.9259869155722122,0.9654373913943468,0.9742516764082646,0.9771589033484587,0.9797790572893118],\"type\":\"scatter\",\"xaxis\":\"x\",\"yaxis\":\"y\"},{\"line\":{\"color\":\"#B6E880\",\"width\":2},\"mode\":\"lines+markers+text\",\"name\":\"(0.15, 0.2, 0.25)\",\"showlegend\":true,\"textposition\":\"top center\",\"x\":[100,300,500,700,900],\"y\":[0.9233433382177506,0.9637345636980668,0.9732678930367094,0.9763499784831433,0.9791858457214139],\"type\":\"scatter\",\"xaxis\":\"x\",\"yaxis\":\"y\"},{\"line\":{\"color\":\"#FF97FF\",\"width\":2},\"mode\":\"lines+markers+text\",\"name\":\"(0.15, 0.2, 0.3)\",\"showlegend\":true,\"textposition\":\"top center\",\"x\":[100,300,500,700,900],\"y\":[0.9281391459714452,0.9675890770630308,0.9763652309385162,0.9791820326075706,0.9817439003796772],\"type\":\"scatter\",\"xaxis\":\"x\",\"yaxis\":\"y\"},{\"line\":{\"color\":\"#FECB52\",\"width\":2},\"mode\":\"lines+markers+text\",\"name\":\"(0.15, 0.25, 0.3)\",\"showlegend\":true,\"textposition\":\"top center\",\"x\":[100,300,500,700,900],\"y\":[0.9302014958300876,0.9692766523039379,0.9777973275519264,0.9805956083823137,0.9830436274696721],\"type\":\"scatter\",\"xaxis\":\"x\",\"yaxis\":\"y\"},{\"line\":{\"color\":\"#636EFA\",\"width\":2},\"mode\":\"lines+markers+text\",\"name\":\"(0.2, 0.25, 0.3)\",\"showlegend\":true,\"textposition\":\"top center\",\"x\":[100,300,500,700,900],\"y\":[0.9343125772836467,0.9724475288298643,0.9804921095779973,0.9830665061527315,0.9852857384094957],\"type\":\"scatter\",\"xaxis\":\"x\",\"yaxis\":\"y\"},{\"line\":{\"color\":\"black\",\"width\":2},\"mode\":\"lines+markers+text\",\"name\":\"SegCertify\",\"showlegend\":true,\"textposition\":\"top center\",\"x\":[100,300,500,700,900],\"y\":[0.8777804409049064,0.9191238553849338,0.9302690424181679,0.9344084498602766,0.9382722236445742],\"type\":\"scatter\",\"xaxis\":\"x\",\"yaxis\":\"y\"},{\"line\":{\"color\":\"#636EFA\",\"width\":2},\"mode\":\"lines+markers+text\",\"name\":\"(0, 0, 0.25)\",\"showlegend\":false,\"textposition\":\"top center\",\"x\":[100,300,500,700,900],\"y\":[0.8820004684682722,0.9161915708394842,0.9243320241642472,0.9268900788225104,0.9292966983881423],\"type\":\"scatter\",\"xaxis\":\"x2\",\"yaxis\":\"y2\"},{\"line\":{\"color\":\"#EF553B\",\"width\":2},\"mode\":\"lines+markers+text\",\"name\":\"(0, 0.05, 0.25)\",\"showlegend\":false,\"textposition\":\"top center\",\"x\":[100,300,500,700,900],\"y\":[0.8846603877392049,0.9186641028015492,0.9267980193597237,0.9293658791678696,0.9317752223862467],\"type\":\"scatter\",\"xaxis\":\"x2\",\"yaxis\":\"y2\"},{\"line\":{\"color\":\"#00CC96\",\"width\":2},\"mode\":\"lines+markers+text\",\"name\":\"(0, 0.1, 0.25)\",\"showlegend\":false,\"textposition\":\"top center\",\"x\":[100,300,500,700,900],\"y\":[0.8871258382041324,0.9208708062556856,0.9289709495198201,0.9315437119029072,0.9339263633243816],\"type\":\"scatter\",\"xaxis\":\"x2\",\"yaxis\":\"y2\"},{\"line\":{\"color\":\"#AB63FA\",\"width\":2},\"mode\":\"lines+markers+text\",\"name\":\"(0, 0, 0.2)\",\"showlegend\":false,\"textposition\":\"top center\",\"x\":[100,300,500,700,900],\"y\":[0.8774416185034073,0.9116398023717568,0.920186624686099,0.9231140066566073,0.9256802322731061],\"type\":\"scatter\",\"xaxis\":\"x2\",\"yaxis\":\"y2\"},{\"line\":{\"color\":\"#FFA15A\",\"width\":2},\"mode\":\"lines+markers+text\",\"name\":\"(0, 0.05, 0.2)\",\"showlegend\":false,\"textposition\":\"top center\",\"x\":[100,300,500,700,900],\"y\":[0.88010153777434,0.9141123343338218,0.9226526198815755,0.9255898070019665,0.9281587562712105],\"type\":\"scatter\",\"xaxis\":\"x2\",\"yaxis\":\"y2\"},{\"line\":{\"color\":\"#19D3F3\",\"width\":2},\"mode\":\"lines+markers+text\",\"name\":\"(0, 0.1, 0.2)\",\"showlegend\":false,\"textposition\":\"top center\",\"x\":[100,300,500,700,900],\"y\":[0.8825669882392675,0.9163190377879582,0.9248255500416719,0.927767639737004,0.9303098972093454],\"type\":\"scatter\",\"xaxis\":\"x2\",\"yaxis\":\"y2\"},{\"line\":{\"color\":\"#FF6692\",\"width\":2},\"mode\":\"lines+markers+text\",\"name\":\"(0, 0.15, 0.25)\",\"showlegend\":false,\"textposition\":\"top center\",\"x\":[100,300,500,700,900],\"y\":[0.8894790741759588,0.9228351046155019,0.9307625682955926,0.9333429569063663,0.9356825746144669],\"type\":\"scatter\",\"xaxis\":\"x2\",\"yaxis\":\"y2\"},{\"line\":{\"color\":\"#B6E880\",\"width\":2},\"mode\":\"lines+markers+text\",\"name\":\"(0, 0, 0.3)\",\"showlegend\":false,\"textposition\":\"top center\",\"x\":[100,300,500,700,900],\"y\":[0.886896506642989,0.9204568110384198,0.9279691900401467,0.9303044499038551,0.9325476503047767],\"type\":\"scatter\",\"xaxis\":\"x2\",\"yaxis\":\"y2\"},{\"line\":{\"color\":\"#FF97FF\",\"width\":2},\"mode\":\"lines+markers+text\",\"name\":\"(0, 0.05, 0.3)\",\"showlegend\":false,\"textposition\":\"top center\",\"x\":[100,300,500,700,900],\"y\":[0.8895564259139217,0.9229293430004848,0.9304351852356232,0.9327802502492142,0.935026174302881],\"type\":\"scatter\",\"xaxis\":\"x2\",\"yaxis\":\"y2\"},{\"line\":{\"color\":\"#FECB52\",\"width\":2},\"mode\":\"lines+markers+text\",\"name\":\"(0, 0.15, 0.2)\",\"showlegend\":false,\"textposition\":\"top center\",\"x\":[100,300,500,700,900],\"y\":[0.884920224211094,0.9182833361477745,0.9266171688174445,0.9295668847404631,0.9320661084994307],\"type\":\"scatter\",\"xaxis\":\"x2\",\"yaxis\":\"y2\"},{\"line\":{\"color\":\"#636EFA\",\"width\":2},\"mode\":\"lines+markers+text\",\"name\":\"(0, 0.1, 0.3)\",\"showlegend\":false,\"textposition\":\"top center\",\"x\":[100,300,500,700,900],\"y\":[0.8920218763788492,0.9251360464546212,0.9326081153957195,0.9349580829842519,0.937177315241016],\"type\":\"scatter\",\"xaxis\":\"x2\",\"yaxis\":\"y2\"},{\"line\":{\"color\":\"#EF553B\",\"width\":2},\"mode\":\"lines+markers+text\",\"name\":\"(0, 0.2, 0.25)\",\"showlegend\":false,\"textposition\":\"top center\",\"x\":[100,300,500,700,900],\"y\":[0.8916400202639764,0.9246555941103733,0.9323842311400665,0.9349809616673113,0.9372497644040375],\"type\":\"scatter\",\"xaxis\":\"x2\",\"yaxis\":\"y2\"},{\"line\":{\"color\":\"#00CC96\",\"width\":2},\"mode\":\"lines+markers+text\",\"name\":\"(0, 0.15, 0.3)\",\"showlegend\":false,\"textposition\":\"top center\",\"x\":[100,300,500,700,900],\"y\":[0.8943751123506757,0.9271003448144376,0.934399734171492,0.9367573279877108,0.9389335265311014],\"type\":\"scatter\",\"xaxis\":\"x2\",\"yaxis\":\"y2\"},{\"line\":{\"color\":\"#AB63FA\",\"width\":2},\"mode\":\"lines+markers+text\",\"name\":\"(0, 0, 0.15)\",\"showlegend\":false,\"textposition\":\"top center\",\"x\":[100,300,500,700,900],\"y\":[0.8731110106385876,0.9070297477352828,0.9156659058596666,0.918822619391318,0.9215146777646437],\"type\":\"scatter\",\"xaxis\":\"x2\",\"yaxis\":\"y2\"},{\"line\":{\"color\":\"#FFA15A\",\"width\":2},\"mode\":\"lines+markers+text\",\"name\":\"(0, 0.05, 0.15)\",\"showlegend\":false,\"textposition\":\"top center\",\"x\":[100,300,500,700,900],\"y\":[0.8757709299095202,0.9095022796973478,0.9181319010551431,0.9212984197366773,0.923993201762748],\"type\":\"scatter\",\"xaxis\":\"x2\",\"yaxis\":\"y2\"},{\"line\":{\"color\":\"#19D3F3\",\"width\":2},\"mode\":\"lines+markers+text\",\"name\":\"(0, 0.1, 0.15)\",\"showlegend\":false,\"textposition\":\"top center\",\"x\":[100,300,500,700,900],\"y\":[0.8782363803744477,0.9117089831514841,0.9203048312152394,0.9234762524717148,0.926144342700883],\"type\":\"scatter\",\"xaxis\":\"x2\",\"yaxis\":\"y2\"},{\"line\":{\"color\":\"#FF6692\",\"width\":2},\"mode\":\"lines+markers+text\",\"name\":\"(0, 0.2, 0.3)\",\"showlegend\":false,\"textposition\":\"top center\",\"x\":[100,300,500,700,900],\"y\":[0.8965360584386933,0.9289208343093089,0.9360213970159661,0.9383953327486558,0.940500716320672],\"type\":\"scatter\",\"xaxis\":\"x2\",\"yaxis\":\"y2\"},{\"line\":{\"color\":\"#B6E880\",\"width\":2},\"mode\":\"lines+markers+text\",\"name\":\"(0.05, 0.1, 0.25)\",\"showlegend\":false,\"textposition\":\"top center\",\"x\":[100,300,500,700,900],\"y\":[0.892499605070352,0.9260904143765286,0.9340440251229729,0.9365917299008045,0.9389280792256111],\"type\":\"scatter\",\"xaxis\":\"x2\",\"yaxis\":\"y2\"},{\"line\":{\"color\":\"#FF97FF\",\"width\":2},\"mode\":\"lines+markers+text\",\"name\":\"(0, 0.25, 0.3)\",\"showlegend\":false,\"textposition\":\"top center\",\"x\":[100,300,500,700,900],\"y\":[0.8986463445856507,0.9307674708705339,0.9376828251905195,0.9400785501451707,0.9420984110209885],\"type\":\"scatter\",\"xaxis\":\"x2\",\"yaxis\":\"y2\"},{\"line\":{\"color\":\"#FECB52\",\"width\":2},\"mode\":\"lines+markers+text\",\"name\":\"(0.05, 0.1, 0.2)\",\"showlegend\":false,\"textposition\":\"top center\",\"x\":[100,300,500,700,900],\"y\":[0.8879407551054871,0.9215386459088012,0.9298986256448248,0.9328156577349014,0.9353116131105749],\"type\":\"scatter\",\"xaxis\":\"x2\",\"yaxis\":\"y2\"},{\"line\":{\"color\":\"#636EFA\",\"width\":2},\"mode\":\"lines+markers+text\",\"name\":\"(0.05, 0.15, 0.25)\",\"showlegend\":false,\"textposition\":\"top center\",\"x\":[100,300,500,700,900],\"y\":[0.8948528410421784,0.928054712736345,0.9358356438987455,0.9383909749042636,0.9406842905156965],\"type\":\"scatter\",\"xaxis\":\"x2\",\"yaxis\":\"y2\"},{\"line\":{\"color\":\"#EF553B\",\"width\":2},\"mode\":\"lines+markers+text\",\"name\":\"(0.05, 0.15, 0.2)\",\"showlegend\":false,\"textposition\":\"top center\",\"x\":[100,300,500,700,900],\"y\":[0.8902939910773137,0.9235029442686176,0.9316902444205973,0.9346149027383605,0.9370678244006602],\"type\":\"scatter\",\"xaxis\":\"x2\",\"yaxis\":\"y2\"},{\"line\":{\"color\":\"#00CC96\",\"width\":2},\"mode\":\"lines+markers+text\",\"name\":\"(0.05, 0.1, 0.3)\",\"showlegend\":false,\"textposition\":\"top center\",\"x\":[100,300,500,700,900],\"y\":[0.8973956432450688,0.9303556545754642,0.9376811909988724,0.9400061009821492,0.9421790311422454],\"type\":\"scatter\",\"xaxis\":\"x2\",\"yaxis\":\"y2\"},{\"line\":{\"color\":\"#AB63FA\",\"width\":2},\"mode\":\"lines+markers+text\",\"name\":\"(0.05, 0.2, 0.25)\",\"showlegend\":false,\"textposition\":\"top center\",\"x\":[100,300,500,700,900],\"y\":[0.8970137871301961,0.9298752022312163,0.9374573067432195,0.9400289796652086,0.942251480305267],\"type\":\"scatter\",\"xaxis\":\"x2\",\"yaxis\":\"y2\"},{\"line\":{\"color\":\"#FFA15A\",\"width\":2},\"mode\":\"lines+markers+text\",\"name\":\"(0.05, 0.15, 0.3)\",\"showlegend\":false,\"textposition\":\"top center\",\"x\":[100,300,500,700,900],\"y\":[0.8997488792168954,0.9323199529352806,0.939472809774645,0.9418053459856082,0.9439352424323308],\"type\":\"scatter\",\"xaxis\":\"x2\",\"yaxis\":\"y2\"},{\"line\":{\"color\":\"#19D3F3\",\"width\":2},\"mode\":\"lines+markers+text\",\"name\":\"(0, 0, 0.1)\",\"showlegend\":false,\"textposition\":\"top center\",\"x\":[100,300,500,700,900],\"y\":[0.868701416844158,0.9023249099832767,0.9108929767890314,0.9141461076278619,0.9169269570806801],\"type\":\"scatter\",\"xaxis\":\"x2\",\"yaxis\":\"y2\"},{\"line\":{\"color\":\"#FF6692\",\"width\":2},\"mode\":\"lines+markers+text\",\"name\":\"(0, 0.05, 0.1)\",\"showlegend\":false,\"textposition\":\"top center\",\"x\":[100,300,500,700,900],\"y\":[0.8713613361150907,0.9047974419453417,0.9133589719845079,0.9166219079732211,0.9194054810787844],\"type\":\"scatter\",\"xaxis\":\"x2\",\"yaxis\":\"y2\"},{\"line\":{\"color\":\"#B6E880\",\"width\":2},\"mode\":\"lines+markers+text\",\"name\":\"(0.05, 0.1, 0.15)\",\"showlegend\":false,\"textposition\":\"top center\",\"x\":[100,300,500,700,900],\"y\":[0.8836101472406674,0.9169285912723272,0.9253779068183923,0.9285242704696122,0.9311460586021124],\"type\":\"scatter\",\"xaxis\":\"x2\",\"yaxis\":\"y2\"},{\"line\":{\"color\":\"#FF97FF\",\"width\":2},\"mode\":\"lines+markers+text\",\"name\":\"(0.05, 0.2, 0.3)\",\"showlegend\":false,\"textposition\":\"top center\",\"x\":[100,300,500,700,900],\"y\":[0.9019098253049129,0.9341404424301519,0.9410944726191189,0.9434433507465532,0.9455024322219014],\"type\":\"scatter\",\"xaxis\":\"x2\",\"yaxis\":\"y2\"},{\"line\":{\"color\":\"#FECB52\",\"width\":2},\"mode\":\"lines+markers+text\",\"name\":\"(0.05, 0.25, 0.3)\",\"showlegend\":false,\"textposition\":\"top center\",\"x\":[100,300,500,700,900],\"y\":[0.9040201114518703,0.9359870789913769,0.9427559007936724,0.9451265681430681,0.9471001269222179],\"type\":\"scatter\",\"xaxis\":\"x2\",\"yaxis\":\"y2\"},{\"line\":{\"color\":\"#636EFA\",\"width\":2},\"mode\":\"lines+markers+text\",\"name\":\"(0.1, 0.15, 0.25)\",\"showlegend\":false,\"textposition\":\"top center\",\"x\":[100,300,500,700,900],\"y\":[0.8993915359767292,0.9324436067699112,0.9401504545776431,0.9426622071392385,0.9448906998153364],\"type\":\"scatter\",\"xaxis\":\"x2\",\"yaxis\":\"y2\"},{\"line\":{\"color\":\"#EF553B\",\"width\":2},\"mode\":\"lines+markers+text\",\"name\":\"(0.1, 0.15, 0.2)\",\"showlegend\":false,\"textposition\":\"top center\",\"x\":[100,300,500,700,900],\"y\":[0.8948326860118643,0.9278918383021838,0.936005055099495,0.9388861349733354,0.9412742337003002],\"type\":\"scatter\",\"xaxis\":\"x2\",\"yaxis\":\"y2\"},{\"line\":{\"color\":\"#00CC96\",\"width\":2},\"mode\":\"lines+markers+text\",\"name\":\"(0.1, 0.2, 0.25)\",\"showlegend\":false,\"textposition\":\"top center\",\"x\":[100,300,500,700,900],\"y\":[0.9015524820647467,0.9342640962647826,0.9417721174221172,0.9443002119001835,0.946457889604907],\"type\":\"scatter\",\"xaxis\":\"x2\",\"yaxis\":\"y2\"},{\"line\":{\"color\":\"#AB63FA\",\"width\":2},\"mode\":\"lines+markers+text\",\"name\":\"(0.1, 0.15, 0.3)\",\"showlegend\":false,\"textposition\":\"top center\",\"x\":[100,300,500,700,900],\"y\":[0.904287574151446,0.9367088469688468,0.9437876204535427,0.9460765782205832,0.9481416517319707],\"type\":\"scatter\",\"xaxis\":\"x2\",\"yaxis\":\"y2\"},{\"line\":{\"color\":\"#FFA15A\",\"width\":2},\"mode\":\"lines+markers+text\",\"name\":\"(0, 0, 0.05)\",\"showlegend\":false,\"textposition\":\"top center\",\"x\":[100,300,500,700,900],\"y\":[0.8645206098803226,0.8977546206768822,0.9062758406554198,0.9095365977219368,0.9123000157971859],\"type\":\"scatter\",\"xaxis\":\"x2\",\"yaxis\":\"y2\"},{\"line\":{\"color\":\"#19D3F3\",\"width\":2},\"mode\":\"lines+markers+text\",\"name\":\"(0.1, 0.2, 0.3)\",\"showlegend\":false,\"textposition\":\"top center\",\"x\":[100,300,500,700,900],\"y\":[0.9064485202394635,0.9385293364637182,0.9454092832980167,0.9477145829815282,0.9497088415215413],\"type\":\"scatter\",\"xaxis\":\"x2\",\"yaxis\":\"y2\"},{\"line\":{\"color\":\"#FF6692\",\"width\":2},\"mode\":\"lines+markers+text\",\"name\":\"(0.1, 0.25, 0.3)\",\"showlegend\":false,\"textposition\":\"top center\",\"x\":[100,300,500,700,900],\"y\":[0.908558806386421,0.9403759730249432,0.94707071147257,0.949397800378043,0.9513065362218579],\"type\":\"scatter\",\"xaxis\":\"x2\",\"yaxis\":\"y2\"},{\"line\":{\"color\":\"#B6E880\",\"width\":2},\"mode\":\"lines+markers+text\",\"name\":\"(0.15, 0.2, 0.25)\",\"showlegend\":false,\"textposition\":\"top center\",\"x\":[100,300,500,700,900],\"y\":[0.9058694716658405,0.9384236587372057,0.9457219586331621,0.9482015720923646,0.9502513931483791],\"type\":\"scatter\",\"xaxis\":\"x2\",\"yaxis\":\"y2\"},{\"line\":{\"color\":\"#FF97FF\",\"width\":2},\"mode\":\"lines+markers+text\",\"name\":\"(0.15, 0.2, 0.3)\",\"showlegend\":false,\"textposition\":\"top center\",\"x\":[100,300,500,700,900],\"y\":[0.9107655098405574,0.9426888989361413,0.9493591245090616,0.9516159431737091,0.9535023450650136],\"type\":\"scatter\",\"xaxis\":\"x2\",\"yaxis\":\"y2\"},{\"line\":{\"color\":\"#FECB52\",\"width\":2},\"mode\":\"lines+markers+text\",\"name\":\"(0.15, 0.25, 0.3)\",\"showlegend\":false,\"textposition\":\"top center\",\"x\":[100,300,500,700,900],\"y\":[0.9128757959875148,0.9445355354973662,0.9510205526836151,0.9532991605702239,0.9551000397653301],\"type\":\"scatter\",\"xaxis\":\"x2\",\"yaxis\":\"y2\"},{\"line\":{\"color\":\"#636EFA\",\"width\":2},\"mode\":\"lines+markers+text\",\"name\":\"(0.2, 0.25, 0.3)\",\"showlegend\":false,\"textposition\":\"top center\",\"x\":[100,300,500,700,900],\"y\":[0.917149751875235,0.9482037510145607,0.9543319696911923,0.956448247874189,0.9580748132936043],\"type\":\"scatter\",\"xaxis\":\"x2\",\"yaxis\":\"y2\"},{\"line\":{\"color\":\"black\",\"width\":2},\"mode\":\"lines+markers+text\",\"name\":\"SegCertify\",\"showlegend\":false,\"textposition\":\"top center\",\"x\":[100,300,500,700,900],\"y\":[0.8602515565675438,0.8930993534048383,0.901493106434902,0.9047309848183596,0.9074617190606666],\"type\":\"scatter\",\"xaxis\":\"x2\",\"yaxis\":\"y2\"},{\"line\":{\"color\":\"#636EFA\",\"width\":2},\"mode\":\"lines+markers+text\",\"name\":\"(0, 0, 0.25)\",\"showlegend\":false,\"textposition\":\"top center\",\"x\":[100,300,500,700,900],\"y\":[0.8693648319181997,0.9010970483172396,0.9083405274845561,0.9106891322180962,0.9127262514126423],\"type\":\"scatter\",\"xaxis\":\"x3\",\"yaxis\":\"y3\"},{\"line\":{\"color\":\"#EF553B\",\"width\":2},\"mode\":\"lines+markers+text\",\"name\":\"(0, 0.05, 0.25)\",\"showlegend\":false,\"textposition\":\"top center\",\"x\":[100,300,500,700,900],\"y\":[0.8694643504573997,0.9010767051543653,0.9082936794371237,0.9106379176270314,0.9126671184833818],\"type\":\"scatter\",\"xaxis\":\"x3\",\"yaxis\":\"y3\"},{\"line\":{\"color\":\"#00CC96\",\"width\":2},\"mode\":\"lines+markers+text\",\"name\":\"(0, 0.1, 0.25)\",\"showlegend\":false,\"textposition\":\"top center\",\"x\":[100,300,500,700,900],\"y\":[0.869517479894382,0.9009753856410592,0.9081533222850121,0.9104878750174462,0.9124921773090818],\"type\":\"scatter\",\"xaxis\":\"x3\",\"yaxis\":\"y3\"},{\"line\":{\"color\":\"#AB63FA\",\"width\":2},\"mode\":\"lines+markers+text\",\"name\":\"(0, 0, 0.2)\",\"showlegend\":false,\"textposition\":\"top center\",\"x\":[100,300,500,700,900],\"y\":[0.8676964117368932,0.9004406053394264,0.9083652763045187,0.9111319006332633,0.9134157433640034],\"type\":\"scatter\",\"xaxis\":\"x3\",\"yaxis\":\"y3\"},{\"line\":{\"color\":\"#FFA15A\",\"width\":2},\"mode\":\"lines+markers+text\",\"name\":\"(0, 0.05, 0.2)\",\"showlegend\":false,\"textposition\":\"top center\",\"x\":[100,300,500,700,900],\"y\":[0.8677959302760928,0.9004202621765521,0.9083184282570861,0.9110806860421985,0.9133566104347427],\"type\":\"scatter\",\"xaxis\":\"x3\",\"yaxis\":\"y3\"},{\"line\":{\"color\":\"#19D3F3\",\"width\":2},\"mode\":\"lines+markers+text\",\"name\":\"(0, 0.1, 0.2)\",\"showlegend\":false,\"textposition\":\"top center\",\"x\":[100,300,500,700,900],\"y\":[0.8678490597130755,0.900318942663246,0.9081780711049746,0.9109306434326132,0.9131816692604428],\"type\":\"scatter\",\"xaxis\":\"x3\",\"yaxis\":\"y3\"},{\"line\":{\"color\":\"#FF6692\",\"width\":2},\"mode\":\"lines+markers+text\",\"name\":\"(0, 0.15, 0.25)\",\"showlegend\":false,\"textposition\":\"top center\",\"x\":[100,300,500,700,900],\"y\":[0.8694759667713108,0.9007021473589494,0.9077413627599713,0.9100606882691347,0.9120224690851051],\"type\":\"scatter\",\"xaxis\":\"x3\",\"yaxis\":\"y3\"},{\"line\":{\"color\":\"#B6E880\",\"width\":2},\"mode\":\"lines+markers+text\",\"name\":\"(0, 0, 0.3)\",\"showlegend\":false,\"textposition\":\"top center\",\"x\":[100,300,500,700,900],\"y\":[0.8707768570135946,0.9008678826039515,0.9072292889934791,0.9092724670217425,0.9110922397266451],\"type\":\"scatter\",\"xaxis\":\"x3\",\"yaxis\":\"y3\"},{\"line\":{\"color\":\"#FF97FF\",\"width\":2},\"mode\":\"lines+markers+text\",\"name\":\"(0, 0.05, 0.3)\",\"showlegend\":false,\"textposition\":\"top center\",\"x\":[100,300,500,700,900],\"y\":[0.8708763755527943,0.9008475394410773,0.9071824409460468,0.9092212524306776,0.9110331067973844],\"type\":\"scatter\",\"xaxis\":\"x3\",\"yaxis\":\"y3\"},{\"line\":{\"color\":\"#FECB52\",\"width\":2},\"mode\":\"lines+markers+text\",\"name\":\"(0, 0.15, 0.2)\",\"showlegend\":false,\"textposition\":\"top center\",\"x\":[100,300,500,700,900],\"y\":[0.8678075465900041,0.9000457043811362,0.9077661115799337,0.9105034566843017,0.9127119610364662],\"type\":\"scatter\",\"xaxis\":\"x3\",\"yaxis\":\"y3\"},{\"line\":{\"color\":\"#636EFA\",\"width\":2},\"mode\":\"lines+markers+text\",\"name\":\"(0, 0.1, 0.3)\",\"showlegend\":false,\"textposition\":\"top center\",\"x\":[100,300,500,700,900],\"y\":[0.8709295049897767,0.900746219927771,0.9070420837939351,0.9090712098210925,0.9108581656230844],\"type\":\"scatter\",\"xaxis\":\"x3\",\"yaxis\":\"y3\"},{\"line\":{\"color\":\"#EF553B\",\"width\":2},\"mode\":\"lines+markers+text\",\"name\":\"(0, 0.2, 0.25)\",\"showlegend\":false,\"textposition\":\"top center\",\"x\":[100,300,500,700,900],\"y\":[0.86934502880899,0.9002809742194806,0.9071418324522604,0.9094257077776966,0.9113236102429733],\"type\":\"scatter\",\"xaxis\":\"x3\",\"yaxis\":\"y3\"},{\"line\":{\"color\":\"#00CC96\",\"width\":2},\"mode\":\"lines+markers+text\",\"name\":\"(0, 0.15, 0.3)\",\"showlegend\":false,\"textposition\":\"top center\",\"x\":[100,300,500,700,900],\"y\":[0.8708879918667056,0.9004729816456613,0.9066301242688941,0.9086440230727808,0.9103884573991076],\"type\":\"scatter\",\"xaxis\":\"x3\",\"yaxis\":\"y3\"},{\"line\":{\"color\":\"#AB63FA\",\"width\":2},\"mode\":\"lines+markers+text\",\"name\":\"(0, 0, 0.15)\",\"showlegend\":false,\"textposition\":\"top center\",\"x\":[100,300,500,700,900],\"y\":[0.8659691408237441,0.8990351324018319,0.9073337715779698,0.9104050156844453,0.9129419116848679],\"type\":\"scatter\",\"xaxis\":\"x3\",\"yaxis\":\"y3\"},{\"line\":{\"color\":\"#FFA15A\",\"width\":2},\"mode\":\"lines+markers+text\",\"name\":\"(0, 0.05, 0.15)\",\"showlegend\":false,\"textposition\":\"top center\",\"x\":[100,300,500,700,900],\"y\":[0.866068659362944,0.8990147892389576,0.9072869235305375,0.9103538010933808,0.9128827787556073],\"type\":\"scatter\",\"xaxis\":\"x3\",\"yaxis\":\"y3\"},{\"line\":{\"color\":\"#19D3F3\",\"width\":2},\"mode\":\"lines+markers+text\",\"name\":\"(0, 0.1, 0.15)\",\"showlegend\":false,\"textposition\":\"top center\",\"x\":[100,300,500,700,900],\"y\":[0.8661217887999264,0.8989134697256514,0.9071465663784258,0.9102037584837954,0.9127078375813072],\"type\":\"scatter\",\"xaxis\":\"x3\",\"yaxis\":\"y3\"},{\"line\":{\"color\":\"#FF6692\",\"width\":2},\"mode\":\"lines+markers+text\",\"name\":\"(0, 0.2, 0.3)\",\"showlegend\":false,\"textposition\":\"top center\",\"x\":[100,300,500,700,900],\"y\":[0.8707570539043848,0.9000518085061927,0.9060305939611835,0.9080090425813429,0.9096895985569758],\"type\":\"scatter\",\"xaxis\":\"x3\",\"yaxis\":\"y3\"},{\"line\":{\"color\":\"#B6E880\",\"width\":2},\"mode\":\"lines+markers+text\",\"name\":\"(0.05, 0.1, 0.25)\",\"showlegend\":false,\"textposition\":\"top center\",\"x\":[100,300,500,700,900],\"y\":[0.8677061916475981,0.8991023505447812,0.9062340893354341,0.9085542103711335,0.9105376513113734],\"type\":\"scatter\",\"xaxis\":\"x3\",\"yaxis\":\"y3\"},{\"line\":{\"color\":\"#FF97FF\",\"width\":2},\"mode\":\"lines+markers+text\",\"name\":\"(0, 0.25, 0.3)\",\"showlegend\":false,\"textposition\":\"top center\",\"x\":[100,300,500,700,900],\"y\":[0.8705267028695588,0.8994089784556389,0.9052078295673871,0.9071612250446315,0.908767717497684],\"type\":\"scatter\",\"xaxis\":\"x3\",\"yaxis\":\"y3\"},{\"line\":{\"color\":\"#FECB52\",\"width\":2},\"mode\":\"lines+markers+text\",\"name\":\"(0.05, 0.1, 0.2)\",\"showlegend\":false,\"textposition\":\"top center\",\"x\":[100,300,500,700,900],\"y\":[0.8660377714662915,0.898445907566968,0.9062588381553967,0.9089969787863005,0.9112271432627346],\"type\":\"scatter\",\"xaxis\":\"x3\",\"yaxis\":\"y3\"},{\"line\":{\"color\":\"#636EFA\",\"width\":2},\"mode\":\"lines+markers+text\",\"name\":\"(0.05, 0.15, 0.25)\",\"showlegend\":false,\"textposition\":\"top center\",\"x\":[100,300,500,700,900],\"y\":[0.8676646785245269,0.8988291122626715,0.9058221298103933,0.9081270236228219,0.9100679430873967],\"type\":\"scatter\",\"xaxis\":\"x3\",\"yaxis\":\"y3\"},{\"line\":{\"color\":\"#EF553B\",\"width\":2},\"mode\":\"lines+markers+text\",\"name\":\"(0.05, 0.15, 0.2)\",\"showlegend\":false,\"textposition\":\"top center\",\"x\":[100,300,500,700,900],\"y\":[0.8659962583432202,0.8981726692848583,0.9058468786303557,0.9085697920379889,0.9107574350387578],\"type\":\"scatter\",\"xaxis\":\"x3\",\"yaxis\":\"y3\"},{\"line\":{\"color\":\"#00CC96\",\"width\":2},\"mode\":\"lines+markers+text\",\"name\":\"(0.05, 0.1, 0.3)\",\"showlegend\":false,\"textposition\":\"top center\",\"x\":[100,300,500,700,900],\"y\":[0.8691182167429929,0.898873184831493,0.9051228508443571,0.9071375451747797,0.9089036396253761],\"type\":\"scatter\",\"xaxis\":\"x3\",\"yaxis\":\"y3\"},{\"line\":{\"color\":\"#AB63FA\",\"width\":2},\"mode\":\"lines+markers+text\",\"name\":\"(0.05, 0.2, 0.25)\",\"showlegend\":false,\"textposition\":\"top center\",\"x\":[100,300,500,700,900],\"y\":[0.8675337405622061,0.8984079391232028,0.9052225995026824,0.9074920431313838,0.9093690842452649],\"type\":\"scatter\",\"xaxis\":\"x3\",\"yaxis\":\"y3\"},{\"line\":{\"color\":\"#FFA15A\",\"width\":2},\"mode\":\"lines+markers+text\",\"name\":\"(0.05, 0.15, 0.3)\",\"showlegend\":false,\"textposition\":\"top center\",\"x\":[100,300,500,700,900],\"y\":[0.8690767036199216,0.8985999465493834,0.9047108913193161,0.9067103584264682,0.9084339314013993],\"type\":\"scatter\",\"xaxis\":\"x3\",\"yaxis\":\"y3\"},{\"line\":{\"color\":\"#19D3F3\",\"width\":2},\"mode\":\"lines+markers+text\",\"name\":\"(0, 0, 0.1)\",\"showlegend\":false,\"textposition\":\"top center\",\"x\":[100,300,500,700,900],\"y\":[0.8640650200790643,0.8972076445827186,0.9056226979981986,0.90882816084469,0.9115289925986096],\"type\":\"scatter\",\"xaxis\":\"x3\",\"yaxis\":\"y3\"},{\"line\":{\"color\":\"#FF6692\",\"width\":2},\"mode\":\"lines+markers+text\",\"name\":\"(0, 0.05, 0.1)\",\"showlegend\":false,\"textposition\":\"top center\",\"x\":[100,300,500,700,900],\"y\":[0.8641645386182639,0.8971873014198445,0.9055758499507662,0.9087769462536254,0.911469859669349],\"type\":\"scatter\",\"xaxis\":\"x3\",\"yaxis\":\"y3\"},{\"line\":{\"color\":\"#B6E880\",\"width\":2},\"mode\":\"lines+markers+text\",\"name\":\"(0.05, 0.1, 0.15)\",\"showlegend\":false,\"textposition\":\"top center\",\"x\":[100,300,500,700,900],\"y\":[0.8643105005531426,0.8970404346293734,0.9052273334288479,0.9082700938374827,0.910753311583599],\"type\":\"scatter\",\"xaxis\":\"x3\",\"yaxis\":\"y3\"},{\"line\":{\"color\":\"#FF97FF\",\"width\":2},\"mode\":\"lines+markers+text\",\"name\":\"(0.05, 0.2, 0.3)\",\"showlegend\":false,\"textposition\":\"top center\",\"x\":[100,300,500,700,900],\"y\":[0.868945765657601,0.8981787734099147,0.9041113610116052,0.9060753779350301,0.9077350725592676],\"type\":\"scatter\",\"xaxis\":\"x3\",\"yaxis\":\"y3\"},{\"line\":{\"color\":\"#FECB52\",\"width\":2},\"mode\":\"lines+markers+text\",\"name\":\"(0.05, 0.25, 0.3)\",\"showlegend\":false,\"textposition\":\"top center\",\"x\":[100,300,500,700,900],\"y\":[0.8687154146227748,0.8975359433593609,0.903288596617809,0.9052275603983188,0.9068131914999757],\"type\":\"scatter\",\"xaxis\":\"x3\",\"yaxis\":\"y3\"},{\"line\":{\"color\":\"#636EFA\",\"width\":2},\"mode\":\"lines+markers+text\",\"name\":\"(0.1, 0.15, 0.25)\",\"showlegend\":false,\"textposition\":\"top center\",\"x\":[100,300,500,700,900],\"y\":[0.8659031820257026,0.8969932797585574,0.9039521594563744,0.906233290031648,0.9081444716923606],\"type\":\"scatter\",\"xaxis\":\"x3\",\"yaxis\":\"y3\"},{\"line\":{\"color\":\"#EF553B\",\"width\":2},\"mode\":\"lines+markers+text\",\"name\":\"(0.1, 0.15, 0.2)\",\"showlegend\":false,\"textposition\":\"top center\",\"x\":[100,300,500,700,900],\"y\":[0.8642347618443961,0.8963368367807444,0.9039769082763368,0.9066760584468149,0.9088339636437217],\"type\":\"scatter\",\"xaxis\":\"x3\",\"yaxis\":\"y3\"},{\"line\":{\"color\":\"#00CC96\",\"width\":2},\"mode\":\"lines+markers+text\",\"name\":\"(0.1, 0.2, 0.25)\",\"showlegend\":false,\"textposition\":\"top center\",\"x\":[100,300,500,700,900],\"y\":[0.8657722440633818,0.8965721066190887,0.9033526291486634,0.9055983095402098,0.9074456128502287],\"type\":\"scatter\",\"xaxis\":\"x3\",\"yaxis\":\"y3\"},{\"line\":{\"color\":\"#AB63FA\",\"width\":2},\"mode\":\"lines+markers+text\",\"name\":\"(0.1, 0.15, 0.3)\",\"showlegend\":false,\"textposition\":\"top center\",\"x\":[100,300,500,700,900],\"y\":[0.8673152071210976,0.8967641140452695,0.9028409209652972,0.9048166248352941,0.906510460006363],\"type\":\"scatter\",\"xaxis\":\"x3\",\"yaxis\":\"y3\"},{\"line\":{\"color\":\"#FFA15A\",\"width\":2},\"mode\":\"lines+markers+text\",\"name\":\"(0, 0, 0.05)\",\"showlegend\":false,\"textposition\":\"top center\",\"x\":[100,300,500,700,900],\"y\":[0.8621833531559382,0.8951996758321249,0.9036292999774681,0.9068711442554306,0.9096021175542744],\"type\":\"scatter\",\"xaxis\":\"x3\",\"yaxis\":\"y3\"},{\"line\":{\"color\":\"#19D3F3\",\"width\":2},\"mode\":\"lines+markers+text\",\"name\":\"(0.1, 0.2, 0.3)\",\"showlegend\":false,\"textposition\":\"top center\",\"x\":[100,300,500,700,900],\"y\":[0.8671842691587768,0.8963429409058006,0.9022413906575864,0.9041816443438562,0.9058116011642313],\"type\":\"scatter\",\"xaxis\":\"x3\",\"yaxis\":\"y3\"},{\"line\":{\"color\":\"#FF6692\",\"width\":2},\"mode\":\"lines+markers+text\",\"name\":\"(0.1, 0.25, 0.3)\",\"showlegend\":false,\"textposition\":\"top center\",\"x\":[100,300,500,700,900],\"y\":[0.8669539181239506,0.8957001108552469,0.9014186262637902,0.9033338268071446,0.9048897201049395],\"type\":\"scatter\",\"xaxis\":\"x3\",\"yaxis\":\"y3\"},{\"line\":{\"color\":\"#B6E880\",\"width\":2},\"mode\":\"lines+markers+text\",\"name\":\"(0.15, 0.2, 0.25)\",\"showlegend\":false,\"textposition\":\"top center\",\"x\":[100,300,500,700,900],\"y\":[0.8639205874173391,0.8945290387816875,0.9012113521270039,0.9034317754275659,0.9052340905104561],\"type\":\"scatter\",\"xaxis\":\"x3\",\"yaxis\":\"y3\"},{\"line\":{\"color\":\"#FF97FF\",\"width\":2},\"mode\":\"lines+markers+text\",\"name\":\"(0.15, 0.2, 0.3)\",\"showlegend\":false,\"textposition\":\"top center\",\"x\":[100,300,500,700,900],\"y\":[0.8653326125127341,0.8942998730683994,0.9001001136359268,0.9020151102312123,0.9036000788244589],\"type\":\"scatter\",\"xaxis\":\"x3\",\"yaxis\":\"y3\"},{\"line\":{\"color\":\"#FECB52\",\"width\":2},\"mode\":\"lines+markers+text\",\"name\":\"(0.15, 0.25, 0.3)\",\"showlegend\":false,\"textposition\":\"top center\",\"x\":[100,300,500,700,900],\"y\":[0.8651022614779079,0.8936570430178458,0.8992773492421307,0.9011672926945009,0.9026781977651672],\"type\":\"scatter\",\"xaxis\":\"x3\",\"yaxis\":\"y3\"},{\"line\":{\"color\":\"#636EFA\",\"width\":2},\"mode\":\"lines+markers+text\",\"name\":\"(0.2, 0.25, 0.3)\",\"showlegend\":false,\"textposition\":\"top center\",\"x\":[100,300,500,700,900],\"y\":[0.8631790419464214,0.8913652211453063,0.896832467521418,0.8986566820942893,0.9000900292520079],\"type\":\"scatter\",\"xaxis\":\"x3\",\"yaxis\":\"y3\"},{\"line\":{\"color\":\"black\",\"width\":2},\"mode\":\"lines+markers+text\",\"name\":\"SegCertify\",\"showlegend\":false,\"textposition\":\"top center\",\"x\":[100,300,500,700,900],\"y\":[0.8602515565675413,0.8930993534048355,0.9014931064348991,0.9047309848183567,0.9074617190606638],\"type\":\"scatter\",\"xaxis\":\"x3\",\"yaxis\":\"y3\"}],                        {\"template\":{\"data\":{\"histogram2dcontour\":[{\"type\":\"histogram2dcontour\",\"colorbar\":{\"outlinewidth\":0,\"ticks\":\"\"},\"colorscale\":[[0.0,\"#0d0887\"],[0.1111111111111111,\"#46039f\"],[0.2222222222222222,\"#7201a8\"],[0.3333333333333333,\"#9c179e\"],[0.4444444444444444,\"#bd3786\"],[0.5555555555555556,\"#d8576b\"],[0.6666666666666666,\"#ed7953\"],[0.7777777777777778,\"#fb9f3a\"],[0.8888888888888888,\"#fdca26\"],[1.0,\"#f0f921\"]]}],\"choropleth\":[{\"type\":\"choropleth\",\"colorbar\":{\"outlinewidth\":0,\"ticks\":\"\"}}],\"histogram2d\":[{\"type\":\"histogram2d\",\"colorbar\":{\"outlinewidth\":0,\"ticks\":\"\"},\"colorscale\":[[0.0,\"#0d0887\"],[0.1111111111111111,\"#46039f\"],[0.2222222222222222,\"#7201a8\"],[0.3333333333333333,\"#9c179e\"],[0.4444444444444444,\"#bd3786\"],[0.5555555555555556,\"#d8576b\"],[0.6666666666666666,\"#ed7953\"],[0.7777777777777778,\"#fb9f3a\"],[0.8888888888888888,\"#fdca26\"],[1.0,\"#f0f921\"]]}],\"heatmap\":[{\"type\":\"heatmap\",\"colorbar\":{\"outlinewidth\":0,\"ticks\":\"\"},\"colorscale\":[[0.0,\"#0d0887\"],[0.1111111111111111,\"#46039f\"],[0.2222222222222222,\"#7201a8\"],[0.3333333333333333,\"#9c179e\"],[0.4444444444444444,\"#bd3786\"],[0.5555555555555556,\"#d8576b\"],[0.6666666666666666,\"#ed7953\"],[0.7777777777777778,\"#fb9f3a\"],[0.8888888888888888,\"#fdca26\"],[1.0,\"#f0f921\"]]}],\"heatmapgl\":[{\"type\":\"heatmapgl\",\"colorbar\":{\"outlinewidth\":0,\"ticks\":\"\"},\"colorscale\":[[0.0,\"#0d0887\"],[0.1111111111111111,\"#46039f\"],[0.2222222222222222,\"#7201a8\"],[0.3333333333333333,\"#9c179e\"],[0.4444444444444444,\"#bd3786\"],[0.5555555555555556,\"#d8576b\"],[0.6666666666666666,\"#ed7953\"],[0.7777777777777778,\"#fb9f3a\"],[0.8888888888888888,\"#fdca26\"],[1.0,\"#f0f921\"]]}],\"contourcarpet\":[{\"type\":\"contourcarpet\",\"colorbar\":{\"outlinewidth\":0,\"ticks\":\"\"}}],\"contour\":[{\"type\":\"contour\",\"colorbar\":{\"outlinewidth\":0,\"ticks\":\"\"},\"colorscale\":[[0.0,\"#0d0887\"],[0.1111111111111111,\"#46039f\"],[0.2222222222222222,\"#7201a8\"],[0.3333333333333333,\"#9c179e\"],[0.4444444444444444,\"#bd3786\"],[0.5555555555555556,\"#d8576b\"],[0.6666666666666666,\"#ed7953\"],[0.7777777777777778,\"#fb9f3a\"],[0.8888888888888888,\"#fdca26\"],[1.0,\"#f0f921\"]]}],\"surface\":[{\"type\":\"surface\",\"colorbar\":{\"outlinewidth\":0,\"ticks\":\"\"},\"colorscale\":[[0.0,\"#0d0887\"],[0.1111111111111111,\"#46039f\"],[0.2222222222222222,\"#7201a8\"],[0.3333333333333333,\"#9c179e\"],[0.4444444444444444,\"#bd3786\"],[0.5555555555555556,\"#d8576b\"],[0.6666666666666666,\"#ed7953\"],[0.7777777777777778,\"#fb9f3a\"],[0.8888888888888888,\"#fdca26\"],[1.0,\"#f0f921\"]]}],\"mesh3d\":[{\"type\":\"mesh3d\",\"colorbar\":{\"outlinewidth\":0,\"ticks\":\"\"}}],\"scatter\":[{\"fillpattern\":{\"fillmode\":\"overlay\",\"size\":10,\"solidity\":0.2},\"type\":\"scatter\"}],\"parcoords\":[{\"type\":\"parcoords\",\"line\":{\"colorbar\":{\"outlinewidth\":0,\"ticks\":\"\"}}}],\"scatterpolargl\":[{\"type\":\"scatterpolargl\",\"marker\":{\"colorbar\":{\"outlinewidth\":0,\"ticks\":\"\"}}}],\"bar\":[{\"error_x\":{\"color\":\"#2a3f5f\"},\"error_y\":{\"color\":\"#2a3f5f\"},\"marker\":{\"line\":{\"color\":\"#E5ECF6\",\"width\":0.5},\"pattern\":{\"fillmode\":\"overlay\",\"size\":10,\"solidity\":0.2}},\"type\":\"bar\"}],\"scattergeo\":[{\"type\":\"scattergeo\",\"marker\":{\"colorbar\":{\"outlinewidth\":0,\"ticks\":\"\"}}}],\"scatterpolar\":[{\"type\":\"scatterpolar\",\"marker\":{\"colorbar\":{\"outlinewidth\":0,\"ticks\":\"\"}}}],\"histogram\":[{\"marker\":{\"pattern\":{\"fillmode\":\"overlay\",\"size\":10,\"solidity\":0.2}},\"type\":\"histogram\"}],\"scattergl\":[{\"type\":\"scattergl\",\"marker\":{\"colorbar\":{\"outlinewidth\":0,\"ticks\":\"\"}}}],\"scatter3d\":[{\"type\":\"scatter3d\",\"line\":{\"colorbar\":{\"outlinewidth\":0,\"ticks\":\"\"}},\"marker\":{\"colorbar\":{\"outlinewidth\":0,\"ticks\":\"\"}}}],\"scattermapbox\":[{\"type\":\"scattermapbox\",\"marker\":{\"colorbar\":{\"outlinewidth\":0,\"ticks\":\"\"}}}],\"scatterternary\":[{\"type\":\"scatterternary\",\"marker\":{\"colorbar\":{\"outlinewidth\":0,\"ticks\":\"\"}}}],\"scattercarpet\":[{\"type\":\"scattercarpet\",\"marker\":{\"colorbar\":{\"outlinewidth\":0,\"ticks\":\"\"}}}],\"carpet\":[{\"aaxis\":{\"endlinecolor\":\"#2a3f5f\",\"gridcolor\":\"white\",\"linecolor\":\"white\",\"minorgridcolor\":\"white\",\"startlinecolor\":\"#2a3f5f\"},\"baxis\":{\"endlinecolor\":\"#2a3f5f\",\"gridcolor\":\"white\",\"linecolor\":\"white\",\"minorgridcolor\":\"white\",\"startlinecolor\":\"#2a3f5f\"},\"type\":\"carpet\"}],\"table\":[{\"cells\":{\"fill\":{\"color\":\"#EBF0F8\"},\"line\":{\"color\":\"white\"}},\"header\":{\"fill\":{\"color\":\"#C8D4E3\"},\"line\":{\"color\":\"white\"}},\"type\":\"table\"}],\"barpolar\":[{\"marker\":{\"line\":{\"color\":\"#E5ECF6\",\"width\":0.5},\"pattern\":{\"fillmode\":\"overlay\",\"size\":10,\"solidity\":0.2}},\"type\":\"barpolar\"}],\"pie\":[{\"automargin\":true,\"type\":\"pie\"}]},\"layout\":{\"autotypenumbers\":\"strict\",\"colorway\":[\"#636efa\",\"#EF553B\",\"#00cc96\",\"#ab63fa\",\"#FFA15A\",\"#19d3f3\",\"#FF6692\",\"#B6E880\",\"#FF97FF\",\"#FECB52\"],\"font\":{\"color\":\"#2a3f5f\"},\"hovermode\":\"closest\",\"hoverlabel\":{\"align\":\"left\"},\"paper_bgcolor\":\"white\",\"plot_bgcolor\":\"#E5ECF6\",\"polar\":{\"bgcolor\":\"#E5ECF6\",\"angularaxis\":{\"gridcolor\":\"white\",\"linecolor\":\"white\",\"ticks\":\"\"},\"radialaxis\":{\"gridcolor\":\"white\",\"linecolor\":\"white\",\"ticks\":\"\"}},\"ternary\":{\"bgcolor\":\"#E5ECF6\",\"aaxis\":{\"gridcolor\":\"white\",\"linecolor\":\"white\",\"ticks\":\"\"},\"baxis\":{\"gridcolor\":\"white\",\"linecolor\":\"white\",\"ticks\":\"\"},\"caxis\":{\"gridcolor\":\"white\",\"linecolor\":\"white\",\"ticks\":\"\"}},\"coloraxis\":{\"colorbar\":{\"outlinewidth\":0,\"ticks\":\"\"}},\"colorscale\":{\"sequential\":[[0.0,\"#0d0887\"],[0.1111111111111111,\"#46039f\"],[0.2222222222222222,\"#7201a8\"],[0.3333333333333333,\"#9c179e\"],[0.4444444444444444,\"#bd3786\"],[0.5555555555555556,\"#d8576b\"],[0.6666666666666666,\"#ed7953\"],[0.7777777777777778,\"#fb9f3a\"],[0.8888888888888888,\"#fdca26\"],[1.0,\"#f0f921\"]],\"sequentialminus\":[[0.0,\"#0d0887\"],[0.1111111111111111,\"#46039f\"],[0.2222222222222222,\"#7201a8\"],[0.3333333333333333,\"#9c179e\"],[0.4444444444444444,\"#bd3786\"],[0.5555555555555556,\"#d8576b\"],[0.6666666666666666,\"#ed7953\"],[0.7777777777777778,\"#fb9f3a\"],[0.8888888888888888,\"#fdca26\"],[1.0,\"#f0f921\"]],\"diverging\":[[0,\"#8e0152\"],[0.1,\"#c51b7d\"],[0.2,\"#de77ae\"],[0.3,\"#f1b6da\"],[0.4,\"#fde0ef\"],[0.5,\"#f7f7f7\"],[0.6,\"#e6f5d0\"],[0.7,\"#b8e186\"],[0.8,\"#7fbc41\"],[0.9,\"#4d9221\"],[1,\"#276419\"]]},\"xaxis\":{\"gridcolor\":\"white\",\"linecolor\":\"white\",\"ticks\":\"\",\"title\":{\"standoff\":15},\"zerolinecolor\":\"white\",\"automargin\":true,\"zerolinewidth\":2},\"yaxis\":{\"gridcolor\":\"white\",\"linecolor\":\"white\",\"ticks\":\"\",\"title\":{\"standoff\":15},\"zerolinecolor\":\"white\",\"automargin\":true,\"zerolinewidth\":2},\"scene\":{\"xaxis\":{\"backgroundcolor\":\"#E5ECF6\",\"gridcolor\":\"white\",\"linecolor\":\"white\",\"showbackground\":true,\"ticks\":\"\",\"zerolinecolor\":\"white\",\"gridwidth\":2},\"yaxis\":{\"backgroundcolor\":\"#E5ECF6\",\"gridcolor\":\"white\",\"linecolor\":\"white\",\"showbackground\":true,\"ticks\":\"\",\"zerolinecolor\":\"white\",\"gridwidth\":2},\"zaxis\":{\"backgroundcolor\":\"#E5ECF6\",\"gridcolor\":\"white\",\"linecolor\":\"white\",\"showbackground\":true,\"ticks\":\"\",\"zerolinecolor\":\"white\",\"gridwidth\":2}},\"shapedefaults\":{\"line\":{\"color\":\"#2a3f5f\"}},\"annotationdefaults\":{\"arrowcolor\":\"#2a3f5f\",\"arrowhead\":0,\"arrowwidth\":1},\"geo\":{\"bgcolor\":\"white\",\"landcolor\":\"#E5ECF6\",\"subunitcolor\":\"white\",\"showland\":true,\"showlakes\":true,\"lakecolor\":\"white\"},\"title\":{\"x\":0.05},\"mapbox\":{\"style\":\"light\"}}},\"xaxis\":{\"anchor\":\"y\",\"domain\":[0.0,0.2888888888888889],\"title\":{\"text\":\"Samples budget (N)\"},\"type\":\"category\"},\"yaxis\":{\"anchor\":\"x\",\"domain\":[0.0,1.0],\"title\":{\"text\":\"certified_pixels\"}},\"xaxis2\":{\"anchor\":\"y2\",\"domain\":[0.35555555555555557,0.6444444444444445],\"title\":{\"text\":\"Samples budget (N)\"},\"type\":\"category\"},\"yaxis2\":{\"anchor\":\"x2\",\"domain\":[0.0,1.0],\"matches\":\"y\",\"showticklabels\":false,\"title\":{\"text\":\"certified_pos\"}},\"xaxis3\":{\"anchor\":\"y3\",\"domain\":[0.7111111111111111,1.0],\"title\":{\"text\":\"Samples budget (N)\"},\"type\":\"category\"},\"yaxis3\":{\"anchor\":\"x3\",\"domain\":[0.0,1.0],\"matches\":\"y\",\"showticklabels\":false,\"title\":{\"text\":\"c_info_gain\"}},\"annotations\":[{\"font\":{\"size\":16},\"showarrow\":false,\"text\":\"Mean Percentage of Certified Pixels\",\"x\":0.14444444444444446,\"xanchor\":\"center\",\"xref\":\"paper\",\"y\":1.0,\"yanchor\":\"bottom\",\"yref\":\"paper\"},{\"font\":{\"size\":16},\"showarrow\":false,\"text\":\"Mean Certified Accuracy\",\"x\":0.5,\"xanchor\":\"center\",\"xref\":\"paper\",\"y\":1.0,\"yanchor\":\"bottom\",\"yref\":\"paper\"},{\"font\":{\"size\":16},\"showarrow\":false,\"text\":\"Mean Certified Info. Gain\",\"x\":0.8555555555555556,\"xanchor\":\"center\",\"xref\":\"paper\",\"y\":1.0,\"yanchor\":\"bottom\",\"yref\":\"paper\"}],\"margin\":{\"l\":20,\"r\":20,\"t\":20,\"b\":20},\"font\":{\"family\":\"Serif\",\"size\":14}},                        {\"responsive\": true}                    ).then(function(){\n",
       "                            \n",
       "var gd = document.getElementById('bea97742-cc9e-4667-be24-0b10fb6dd48d');\n",
       "var x = new MutationObserver(function (mutations, observer) {{\n",
       "        var display = window.getComputedStyle(gd).display;\n",
       "        if (!display || display === 'none') {{\n",
       "            console.log([gd, 'removed!']);\n",
       "            Plotly.purge(gd);\n",
       "            observer.disconnect();\n",
       "        }}\n",
       "}});\n",
       "\n",
       "// Listen for the removal of the full notebook cells\n",
       "var notebookContainer = gd.closest('#notebook-container');\n",
       "if (notebookContainer) {{\n",
       "    x.observe(notebookContainer, {childList: true});\n",
       "}}\n",
       "\n",
       "// Listen for the clearing of the current output cell\n",
       "var outputEl = gd.closest('.output');\n",
       "if (outputEl) {{\n",
       "    x.observe(outputEl, {childList: true});\n",
       "}}\n",
       "\n",
       "                        })                };                });            </script>        </div>"
      ]
     },
     "metadata": {},
     "output_type": "display_data"
    }
   ],
   "source": [
    "\n",
    "#  Graph different threshold functions\n",
    "# choice: \n",
    "n0_choice = 20\n",
    "\n",
    "x_axis_title = 'Samples budget (N)'\n",
    "colors = ['#636EFA', '#EF553B', '#00CC96', '#AB63FA', '#FFA15A', '#19D3F3', '#FF6692', '#B6E880', '#FF97FF', '#FECB52']\n",
    "ns = sorted(list(set(np.array(list(graph_dict.keys()))[:, 0])))\n",
    "n0s = list(set(np.array(list(graph_dict.keys()))[:, 1]))\n",
    "fs = list(compare_dict.keys()) + [None]\n",
    "\n",
    "fig = make_subplots(rows=1, cols=3, shared_yaxes=True, subplot_titles=(\"Mean Percentage of Certified Pixels\", 'Mean Certified Accuracy', 'Mean Certified Info. Gain'))\n",
    "show_legend = True\n",
    "row_i = 0\n",
    "for col_i, g in enumerate(['certified_pixels', 'certified_pos', 'c_info_gain']):\n",
    "    for idx, f in enumerate(fs):\n",
    "        if f is None: h = 0; name = 'SegCertify'\n",
    "        else: h=4;  name=f\n",
    "        y_axis = []\n",
    "        x_axis = []\n",
    "        for n in ns:\n",
    "            mean_g = graph_dict[(n, n0_choice, f, h)][g]/graph_dict[(n, n0_choice, f,  h)]['num_pixels']\n",
    "            if g == 'c_info_gain': mean_g /= np.log(19)\n",
    "            y_axis.append(mean_g)\n",
    "            x_axis.append(n)\n",
    "        \n",
    "\n",
    "        fig.add_scatter(x=x_axis, y=y_axis, # text=y_axis, \n",
    "                        row=row_i+1, col=col_i+1, \n",
    "                        name=name, \n",
    "                        line_color=colors[idx%len(colors)] if h == 4 else 'black', \n",
    "                        line = dict( width=2), \n",
    "                        showlegend=show_legend, mode=\"lines+markers+text\", textposition=\"top center\" )\n",
    "\n",
    "\n",
    "    fig.update_yaxes(title_text= g, row=row_i+1, col=col_i+1)\n",
    "    show_legend = False\n",
    "    fig.update_xaxes(title_text=x_axis_title, type='category', row=row_i+1, col=col_i+1)\n",
    "\n",
    "# add SegCertify using n0=0.2\n",
    "\n",
    "fig.update_layout(\n",
    "margin=dict(l=20, r=20, t=20, b=20), font_family=\"Serif\", font_size=14,\n",
    ")\n",
    "fig.show()"
   ]
  },
  {
   "cell_type": "code",
   "execution_count": 74,
   "metadata": {},
   "outputs": [],
   "source": [
    "ns = sorted(list(np.array(list(graph_dict.keys()))[:, 0]))\n",
    "n0s = list(np.array(list(graph_dict.keys()))[:, 1])\n",
    "fs = list(compare_dict.keys())[:40] + [None]\n",
    "n0 = 20\n",
    "col_n = []\n",
    "col_y_infogain = []\n",
    "col_f = []\n",
    "col_y_percentage_certified = []\n",
    "\n",
    "for k in range(0, len(fs), 8):\n",
    "    f = fs[k]\n",
    "    for n in ns:\n",
    "        col_n.append(n)\n",
    "        if f is None: i=0; col_f.append('SegCertify (0, 0, 0)')\n",
    "        else: i = 4; col_f.append('Ours '+ f)\n",
    "        col_y_infogain.append(graph_dict[(n, n0, f, i)]['c_info_gain']/graph_dict[(n, n0, f, i)]['num_pixels']/np.log(19))\n",
    "        col_y_percentage_certified.append(graph_dict[(n, n0, f, i)]['certified_pixels']/graph_dict[(n, n0, f,  i)]['num_pixels'])\n",
    "        \n",
    " \n",
    "data = {\n",
    "    'Samples budget ($N$)': col_n,\n",
    "    'Mean certified info. gain': col_y_infogain,\n",
    "    'Threshold function': col_f,\n",
    "    'Mean percentage of certified pixels': col_y_percentage_certified\n",
    "}\n",
    "\n",
    "import pandas as pd\n",
    "df = pd.DataFrame(data)\n",
    "\n",
    "\n",
    "col_th = []\n",
    "col_th_i = []\n",
    "col_hname = []\n",
    "for k in range(0, len(fs), 1):\n",
    "    f = fs[k]\n",
    "    if f is None: continue\n",
    "    x, y, z = eval(f)\n",
    "    for xx, hh in zip([x, y-x, z-y, (1-(z))], ['H3', 'H2', 'H1', 'H0']):\n",
    "        col_th.append(f)\n",
    "        col_th_i.append(xx)\n",
    "        col_hname.append(hh)\n",
    "\n",
    "\n",
    "data = {\n",
    "    'Heirarchy': col_hname,\n",
    "    'Threshold function': col_th,\n",
    "    'Threshold value for pixel-posterior hierarchy categorization': col_th_i\n",
    "}\n",
    "\n",
    "df_functions = pd.DataFrame(data)"
   ]
  },
  {
   "cell_type": "code",
   "execution_count": 75,
   "metadata": {},
   "outputs": [
    {
     "data": {
      "application/vnd.plotly.v1+json": {
       "config": {
        "plotlyServerURL": "https://plot.ly"
       },
       "data": [
        {
         "alignmentgroup": "True",
         "hovertemplate": "Heirarchy=H3<br>Threshold value for pixel-posterior hierarchy categorization=%{x}<br>Threshold function=%{y}<extra></extra>",
         "legendgroup": "H3",
         "marker": {
          "color": "rgb(76,114,176)",
          "pattern": {
           "shape": ""
          }
         },
         "name": "H3",
         "offsetgroup": "H3",
         "orientation": "h",
         "showlegend": true,
         "textposition": "auto",
         "type": "bar",
         "x": [
          0,
          0,
          0,
          0,
          0,
          0,
          0,
          0,
          0,
          0,
          0,
          0,
          0,
          0,
          0,
          0,
          0,
          0.05,
          0,
          0.05,
          0.05,
          0.05,
          0.05,
          0.05,
          0.05,
          0,
          0,
          0.05,
          0.05,
          0.05,
          0.1,
          0.1,
          0.1,
          0.1,
          0,
          0.1,
          0.1,
          0.15,
          0.15,
          0.15
         ],
         "xaxis": "x",
         "y": [
          "(0, 0, 0.25)",
          "(0, 0.05, 0.25)",
          "(0, 0.1, 0.25)",
          "(0, 0, 0.2)",
          "(0, 0.05, 0.2)",
          "(0, 0.1, 0.2)",
          "(0, 0.15, 0.25)",
          "(0, 0, 0.3)",
          "(0, 0.05, 0.3)",
          "(0, 0.15, 0.2)",
          "(0, 0.1, 0.3)",
          "(0, 0.2, 0.25)",
          "(0, 0.15, 0.3)",
          "(0, 0, 0.15)",
          "(0, 0.05, 0.15)",
          "(0, 0.1, 0.15)",
          "(0, 0.2, 0.3)",
          "(0.05, 0.1, 0.25)",
          "(0, 0.25, 0.3)",
          "(0.05, 0.1, 0.2)",
          "(0.05, 0.15, 0.25)",
          "(0.05, 0.15, 0.2)",
          "(0.05, 0.1, 0.3)",
          "(0.05, 0.2, 0.25)",
          "(0.05, 0.15, 0.3)",
          "(0, 0, 0.1)",
          "(0, 0.05, 0.1)",
          "(0.05, 0.1, 0.15)",
          "(0.05, 0.2, 0.3)",
          "(0.05, 0.25, 0.3)",
          "(0.1, 0.15, 0.25)",
          "(0.1, 0.15, 0.2)",
          "(0.1, 0.2, 0.25)",
          "(0.1, 0.15, 0.3)",
          "(0, 0, 0.05)",
          "(0.1, 0.2, 0.3)",
          "(0.1, 0.25, 0.3)",
          "(0.15, 0.2, 0.25)",
          "(0.15, 0.2, 0.3)",
          "(0.15, 0.25, 0.3)"
         ],
         "yaxis": "y"
        },
        {
         "alignmentgroup": "True",
         "hovertemplate": "Heirarchy=H2<br>Threshold value for pixel-posterior hierarchy categorization=%{x}<br>Threshold function=%{y}<extra></extra>",
         "legendgroup": "H2",
         "marker": {
          "color": "rgb(221,132,82)",
          "pattern": {
           "shape": ""
          }
         },
         "name": "H2",
         "offsetgroup": "H2",
         "orientation": "h",
         "showlegend": true,
         "textposition": "auto",
         "type": "bar",
         "x": [
          0,
          0.05,
          0.1,
          0,
          0.05,
          0.1,
          0.15,
          0,
          0.05,
          0.15,
          0.1,
          0.2,
          0.15,
          0,
          0.05,
          0.1,
          0.2,
          0.05,
          0.25,
          0.05,
          0.09999999999999999,
          0.09999999999999999,
          0.05,
          0.15000000000000002,
          0.09999999999999999,
          0,
          0.05,
          0.05,
          0.15000000000000002,
          0.2,
          0.04999999999999999,
          0.04999999999999999,
          0.1,
          0.04999999999999999,
          0,
          0.1,
          0.15,
          0.05000000000000002,
          0.05000000000000002,
          0.1
         ],
         "xaxis": "x",
         "y": [
          "(0, 0, 0.25)",
          "(0, 0.05, 0.25)",
          "(0, 0.1, 0.25)",
          "(0, 0, 0.2)",
          "(0, 0.05, 0.2)",
          "(0, 0.1, 0.2)",
          "(0, 0.15, 0.25)",
          "(0, 0, 0.3)",
          "(0, 0.05, 0.3)",
          "(0, 0.15, 0.2)",
          "(0, 0.1, 0.3)",
          "(0, 0.2, 0.25)",
          "(0, 0.15, 0.3)",
          "(0, 0, 0.15)",
          "(0, 0.05, 0.15)",
          "(0, 0.1, 0.15)",
          "(0, 0.2, 0.3)",
          "(0.05, 0.1, 0.25)",
          "(0, 0.25, 0.3)",
          "(0.05, 0.1, 0.2)",
          "(0.05, 0.15, 0.25)",
          "(0.05, 0.15, 0.2)",
          "(0.05, 0.1, 0.3)",
          "(0.05, 0.2, 0.25)",
          "(0.05, 0.15, 0.3)",
          "(0, 0, 0.1)",
          "(0, 0.05, 0.1)",
          "(0.05, 0.1, 0.15)",
          "(0.05, 0.2, 0.3)",
          "(0.05, 0.25, 0.3)",
          "(0.1, 0.15, 0.25)",
          "(0.1, 0.15, 0.2)",
          "(0.1, 0.2, 0.25)",
          "(0.1, 0.15, 0.3)",
          "(0, 0, 0.05)",
          "(0.1, 0.2, 0.3)",
          "(0.1, 0.25, 0.3)",
          "(0.15, 0.2, 0.25)",
          "(0.15, 0.2, 0.3)",
          "(0.15, 0.25, 0.3)"
         ],
         "yaxis": "y"
        },
        {
         "alignmentgroup": "True",
         "hovertemplate": "Heirarchy=H1<br>Threshold value for pixel-posterior hierarchy categorization=%{x}<br>Threshold function=%{y}<extra></extra>",
         "legendgroup": "H1",
         "marker": {
          "color": "rgb(85,168,104)",
          "pattern": {
           "shape": ""
          }
         },
         "name": "H1",
         "offsetgroup": "H1",
         "orientation": "h",
         "showlegend": true,
         "textposition": "auto",
         "type": "bar",
         "x": [
          0.25,
          0.2,
          0.15,
          0.2,
          0.15000000000000002,
          0.1,
          0.1,
          0.3,
          0.25,
          0.05000000000000002,
          0.19999999999999998,
          0.04999999999999999,
          0.15,
          0.15,
          0.09999999999999999,
          0.04999999999999999,
          0.09999999999999998,
          0.15,
          0.04999999999999999,
          0.1,
          0.1,
          0.05000000000000002,
          0.19999999999999998,
          0.04999999999999999,
          0.15,
          0.1,
          0.05,
          0.04999999999999999,
          0.09999999999999998,
          0.04999999999999999,
          0.1,
          0.05000000000000002,
          0.04999999999999999,
          0.15,
          0.05,
          0.09999999999999998,
          0.04999999999999999,
          0.04999999999999999,
          0.09999999999999998,
          0.04999999999999999
         ],
         "xaxis": "x",
         "y": [
          "(0, 0, 0.25)",
          "(0, 0.05, 0.25)",
          "(0, 0.1, 0.25)",
          "(0, 0, 0.2)",
          "(0, 0.05, 0.2)",
          "(0, 0.1, 0.2)",
          "(0, 0.15, 0.25)",
          "(0, 0, 0.3)",
          "(0, 0.05, 0.3)",
          "(0, 0.15, 0.2)",
          "(0, 0.1, 0.3)",
          "(0, 0.2, 0.25)",
          "(0, 0.15, 0.3)",
          "(0, 0, 0.15)",
          "(0, 0.05, 0.15)",
          "(0, 0.1, 0.15)",
          "(0, 0.2, 0.3)",
          "(0.05, 0.1, 0.25)",
          "(0, 0.25, 0.3)",
          "(0.05, 0.1, 0.2)",
          "(0.05, 0.15, 0.25)",
          "(0.05, 0.15, 0.2)",
          "(0.05, 0.1, 0.3)",
          "(0.05, 0.2, 0.25)",
          "(0.05, 0.15, 0.3)",
          "(0, 0, 0.1)",
          "(0, 0.05, 0.1)",
          "(0.05, 0.1, 0.15)",
          "(0.05, 0.2, 0.3)",
          "(0.05, 0.25, 0.3)",
          "(0.1, 0.15, 0.25)",
          "(0.1, 0.15, 0.2)",
          "(0.1, 0.2, 0.25)",
          "(0.1, 0.15, 0.3)",
          "(0, 0, 0.05)",
          "(0.1, 0.2, 0.3)",
          "(0.1, 0.25, 0.3)",
          "(0.15, 0.2, 0.25)",
          "(0.15, 0.2, 0.3)",
          "(0.15, 0.25, 0.3)"
         ],
         "yaxis": "y"
        },
        {
         "alignmentgroup": "True",
         "hovertemplate": "Heirarchy=H0<br>Threshold value for pixel-posterior hierarchy categorization=%{x}<br>Threshold function=%{y}<extra></extra>",
         "legendgroup": "H0",
         "marker": {
          "color": "rgb(196,78,82)",
          "pattern": {
           "shape": ""
          }
         },
         "name": "H0",
         "offsetgroup": "H0",
         "orientation": "h",
         "showlegend": true,
         "textposition": "auto",
         "type": "bar",
         "x": [
          0.75,
          0.75,
          0.75,
          0.8,
          0.8,
          0.8,
          0.75,
          0.7,
          0.7,
          0.8,
          0.7,
          0.75,
          0.7,
          0.85,
          0.85,
          0.85,
          0.7,
          0.75,
          0.7,
          0.8,
          0.75,
          0.8,
          0.7,
          0.75,
          0.7,
          0.9,
          0.9,
          0.85,
          0.7,
          0.7,
          0.75,
          0.8,
          0.75,
          0.7,
          0.95,
          0.7,
          0.7,
          0.75,
          0.7,
          0.7
         ],
         "xaxis": "x",
         "y": [
          "(0, 0, 0.25)",
          "(0, 0.05, 0.25)",
          "(0, 0.1, 0.25)",
          "(0, 0, 0.2)",
          "(0, 0.05, 0.2)",
          "(0, 0.1, 0.2)",
          "(0, 0.15, 0.25)",
          "(0, 0, 0.3)",
          "(0, 0.05, 0.3)",
          "(0, 0.15, 0.2)",
          "(0, 0.1, 0.3)",
          "(0, 0.2, 0.25)",
          "(0, 0.15, 0.3)",
          "(0, 0, 0.15)",
          "(0, 0.05, 0.15)",
          "(0, 0.1, 0.15)",
          "(0, 0.2, 0.3)",
          "(0.05, 0.1, 0.25)",
          "(0, 0.25, 0.3)",
          "(0.05, 0.1, 0.2)",
          "(0.05, 0.15, 0.25)",
          "(0.05, 0.15, 0.2)",
          "(0.05, 0.1, 0.3)",
          "(0.05, 0.2, 0.25)",
          "(0.05, 0.15, 0.3)",
          "(0, 0, 0.1)",
          "(0, 0.05, 0.1)",
          "(0.05, 0.1, 0.15)",
          "(0.05, 0.2, 0.3)",
          "(0.05, 0.25, 0.3)",
          "(0.1, 0.15, 0.25)",
          "(0.1, 0.15, 0.2)",
          "(0.1, 0.2, 0.25)",
          "(0.1, 0.15, 0.3)",
          "(0, 0, 0.05)",
          "(0.1, 0.2, 0.3)",
          "(0.1, 0.25, 0.3)",
          "(0.15, 0.2, 0.25)",
          "(0.15, 0.2, 0.3)",
          "(0.15, 0.25, 0.3)"
         ],
         "yaxis": "y"
        }
       ],
       "layout": {
        "barmode": "stack",
        "font": {
         "family": "Serif",
         "size": 14
        },
        "height": 500,
        "legend": {
         "borderwidth": 2,
         "title": {
          "text": "Heirarchy"
         },
         "tracegroupgap": 0,
         "traceorder": "reversed"
        },
        "margin": {
         "b": 20,
         "l": 20,
         "r": 20,
         "t": 20
        },
        "template": {
         "data": {
          "bar": [
           {
            "error_x": {
             "color": "rgb(36,36,36)"
            },
            "error_y": {
             "color": "rgb(36,36,36)"
            },
            "marker": {
             "line": {
              "color": "rgb(234,234,242)",
              "width": 0.5
             },
             "pattern": {
              "fillmode": "overlay",
              "size": 10,
              "solidity": 0.2
             }
            },
            "type": "bar"
           }
          ],
          "barpolar": [
           {
            "marker": {
             "line": {
              "color": "rgb(234,234,242)",
              "width": 0.5
             },
             "pattern": {
              "fillmode": "overlay",
              "size": 10,
              "solidity": 0.2
             }
            },
            "type": "barpolar"
           }
          ],
          "carpet": [
           {
            "aaxis": {
             "endlinecolor": "rgb(36,36,36)",
             "gridcolor": "white",
             "linecolor": "white",
             "minorgridcolor": "white",
             "startlinecolor": "rgb(36,36,36)"
            },
            "baxis": {
             "endlinecolor": "rgb(36,36,36)",
             "gridcolor": "white",
             "linecolor": "white",
             "minorgridcolor": "white",
             "startlinecolor": "rgb(36,36,36)"
            },
            "type": "carpet"
           }
          ],
          "choropleth": [
           {
            "colorbar": {
             "outlinewidth": 0,
             "tickcolor": "rgb(36,36,36)",
             "ticklen": 8,
             "ticks": "outside",
             "tickwidth": 2
            },
            "type": "choropleth"
           }
          ],
          "contour": [
           {
            "colorbar": {
             "outlinewidth": 0,
             "tickcolor": "rgb(36,36,36)",
             "ticklen": 8,
             "ticks": "outside",
             "tickwidth": 2
            },
            "colorscale": [
             [
              0,
              "rgb(2,4,25)"
             ],
             [
              0.06274509803921569,
              "rgb(24,15,41)"
             ],
             [
              0.12549019607843137,
              "rgb(47,23,57)"
             ],
             [
              0.18823529411764706,
              "rgb(71,28,72)"
             ],
             [
              0.25098039215686274,
              "rgb(97,30,82)"
             ],
             [
              0.3137254901960784,
              "rgb(123,30,89)"
             ],
             [
              0.3764705882352941,
              "rgb(150,27,91)"
             ],
             [
              0.4392156862745098,
              "rgb(177,22,88)"
             ],
             [
              0.5019607843137255,
              "rgb(203,26,79)"
             ],
             [
              0.5647058823529412,
              "rgb(223,47,67)"
             ],
             [
              0.6274509803921569,
              "rgb(236,76,61)"
             ],
             [
              0.6901960784313725,
              "rgb(242,107,73)"
             ],
             [
              0.7529411764705882,
              "rgb(244,135,95)"
             ],
             [
              0.8156862745098039,
              "rgb(245,162,122)"
             ],
             [
              0.8784313725490196,
              "rgb(246,188,153)"
             ],
             [
              0.9411764705882353,
              "rgb(247,212,187)"
             ],
             [
              1,
              "rgb(250,234,220)"
             ]
            ],
            "type": "contour"
           }
          ],
          "contourcarpet": [
           {
            "colorbar": {
             "outlinewidth": 0,
             "tickcolor": "rgb(36,36,36)",
             "ticklen": 8,
             "ticks": "outside",
             "tickwidth": 2
            },
            "type": "contourcarpet"
           }
          ],
          "heatmap": [
           {
            "colorbar": {
             "outlinewidth": 0,
             "tickcolor": "rgb(36,36,36)",
             "ticklen": 8,
             "ticks": "outside",
             "tickwidth": 2
            },
            "colorscale": [
             [
              0,
              "rgb(2,4,25)"
             ],
             [
              0.06274509803921569,
              "rgb(24,15,41)"
             ],
             [
              0.12549019607843137,
              "rgb(47,23,57)"
             ],
             [
              0.18823529411764706,
              "rgb(71,28,72)"
             ],
             [
              0.25098039215686274,
              "rgb(97,30,82)"
             ],
             [
              0.3137254901960784,
              "rgb(123,30,89)"
             ],
             [
              0.3764705882352941,
              "rgb(150,27,91)"
             ],
             [
              0.4392156862745098,
              "rgb(177,22,88)"
             ],
             [
              0.5019607843137255,
              "rgb(203,26,79)"
             ],
             [
              0.5647058823529412,
              "rgb(223,47,67)"
             ],
             [
              0.6274509803921569,
              "rgb(236,76,61)"
             ],
             [
              0.6901960784313725,
              "rgb(242,107,73)"
             ],
             [
              0.7529411764705882,
              "rgb(244,135,95)"
             ],
             [
              0.8156862745098039,
              "rgb(245,162,122)"
             ],
             [
              0.8784313725490196,
              "rgb(246,188,153)"
             ],
             [
              0.9411764705882353,
              "rgb(247,212,187)"
             ],
             [
              1,
              "rgb(250,234,220)"
             ]
            ],
            "type": "heatmap"
           }
          ],
          "heatmapgl": [
           {
            "colorbar": {
             "outlinewidth": 0,
             "tickcolor": "rgb(36,36,36)",
             "ticklen": 8,
             "ticks": "outside",
             "tickwidth": 2
            },
            "colorscale": [
             [
              0,
              "rgb(2,4,25)"
             ],
             [
              0.06274509803921569,
              "rgb(24,15,41)"
             ],
             [
              0.12549019607843137,
              "rgb(47,23,57)"
             ],
             [
              0.18823529411764706,
              "rgb(71,28,72)"
             ],
             [
              0.25098039215686274,
              "rgb(97,30,82)"
             ],
             [
              0.3137254901960784,
              "rgb(123,30,89)"
             ],
             [
              0.3764705882352941,
              "rgb(150,27,91)"
             ],
             [
              0.4392156862745098,
              "rgb(177,22,88)"
             ],
             [
              0.5019607843137255,
              "rgb(203,26,79)"
             ],
             [
              0.5647058823529412,
              "rgb(223,47,67)"
             ],
             [
              0.6274509803921569,
              "rgb(236,76,61)"
             ],
             [
              0.6901960784313725,
              "rgb(242,107,73)"
             ],
             [
              0.7529411764705882,
              "rgb(244,135,95)"
             ],
             [
              0.8156862745098039,
              "rgb(245,162,122)"
             ],
             [
              0.8784313725490196,
              "rgb(246,188,153)"
             ],
             [
              0.9411764705882353,
              "rgb(247,212,187)"
             ],
             [
              1,
              "rgb(250,234,220)"
             ]
            ],
            "type": "heatmapgl"
           }
          ],
          "histogram": [
           {
            "marker": {
             "pattern": {
              "fillmode": "overlay",
              "size": 10,
              "solidity": 0.2
             }
            },
            "type": "histogram"
           }
          ],
          "histogram2d": [
           {
            "colorbar": {
             "outlinewidth": 0,
             "tickcolor": "rgb(36,36,36)",
             "ticklen": 8,
             "ticks": "outside",
             "tickwidth": 2
            },
            "colorscale": [
             [
              0,
              "rgb(2,4,25)"
             ],
             [
              0.06274509803921569,
              "rgb(24,15,41)"
             ],
             [
              0.12549019607843137,
              "rgb(47,23,57)"
             ],
             [
              0.18823529411764706,
              "rgb(71,28,72)"
             ],
             [
              0.25098039215686274,
              "rgb(97,30,82)"
             ],
             [
              0.3137254901960784,
              "rgb(123,30,89)"
             ],
             [
              0.3764705882352941,
              "rgb(150,27,91)"
             ],
             [
              0.4392156862745098,
              "rgb(177,22,88)"
             ],
             [
              0.5019607843137255,
              "rgb(203,26,79)"
             ],
             [
              0.5647058823529412,
              "rgb(223,47,67)"
             ],
             [
              0.6274509803921569,
              "rgb(236,76,61)"
             ],
             [
              0.6901960784313725,
              "rgb(242,107,73)"
             ],
             [
              0.7529411764705882,
              "rgb(244,135,95)"
             ],
             [
              0.8156862745098039,
              "rgb(245,162,122)"
             ],
             [
              0.8784313725490196,
              "rgb(246,188,153)"
             ],
             [
              0.9411764705882353,
              "rgb(247,212,187)"
             ],
             [
              1,
              "rgb(250,234,220)"
             ]
            ],
            "type": "histogram2d"
           }
          ],
          "histogram2dcontour": [
           {
            "colorbar": {
             "outlinewidth": 0,
             "tickcolor": "rgb(36,36,36)",
             "ticklen": 8,
             "ticks": "outside",
             "tickwidth": 2
            },
            "colorscale": [
             [
              0,
              "rgb(2,4,25)"
             ],
             [
              0.06274509803921569,
              "rgb(24,15,41)"
             ],
             [
              0.12549019607843137,
              "rgb(47,23,57)"
             ],
             [
              0.18823529411764706,
              "rgb(71,28,72)"
             ],
             [
              0.25098039215686274,
              "rgb(97,30,82)"
             ],
             [
              0.3137254901960784,
              "rgb(123,30,89)"
             ],
             [
              0.3764705882352941,
              "rgb(150,27,91)"
             ],
             [
              0.4392156862745098,
              "rgb(177,22,88)"
             ],
             [
              0.5019607843137255,
              "rgb(203,26,79)"
             ],
             [
              0.5647058823529412,
              "rgb(223,47,67)"
             ],
             [
              0.6274509803921569,
              "rgb(236,76,61)"
             ],
             [
              0.6901960784313725,
              "rgb(242,107,73)"
             ],
             [
              0.7529411764705882,
              "rgb(244,135,95)"
             ],
             [
              0.8156862745098039,
              "rgb(245,162,122)"
             ],
             [
              0.8784313725490196,
              "rgb(246,188,153)"
             ],
             [
              0.9411764705882353,
              "rgb(247,212,187)"
             ],
             [
              1,
              "rgb(250,234,220)"
             ]
            ],
            "type": "histogram2dcontour"
           }
          ],
          "mesh3d": [
           {
            "colorbar": {
             "outlinewidth": 0,
             "tickcolor": "rgb(36,36,36)",
             "ticklen": 8,
             "ticks": "outside",
             "tickwidth": 2
            },
            "type": "mesh3d"
           }
          ],
          "parcoords": [
           {
            "line": {
             "colorbar": {
              "outlinewidth": 0,
              "tickcolor": "rgb(36,36,36)",
              "ticklen": 8,
              "ticks": "outside",
              "tickwidth": 2
             }
            },
            "type": "parcoords"
           }
          ],
          "pie": [
           {
            "automargin": true,
            "type": "pie"
           }
          ],
          "scatter": [
           {
            "fillpattern": {
             "fillmode": "overlay",
             "size": 10,
             "solidity": 0.2
            },
            "type": "scatter"
           }
          ],
          "scatter3d": [
           {
            "line": {
             "colorbar": {
              "outlinewidth": 0,
              "tickcolor": "rgb(36,36,36)",
              "ticklen": 8,
              "ticks": "outside",
              "tickwidth": 2
             }
            },
            "marker": {
             "colorbar": {
              "outlinewidth": 0,
              "tickcolor": "rgb(36,36,36)",
              "ticklen": 8,
              "ticks": "outside",
              "tickwidth": 2
             }
            },
            "type": "scatter3d"
           }
          ],
          "scattercarpet": [
           {
            "marker": {
             "colorbar": {
              "outlinewidth": 0,
              "tickcolor": "rgb(36,36,36)",
              "ticklen": 8,
              "ticks": "outside",
              "tickwidth": 2
             }
            },
            "type": "scattercarpet"
           }
          ],
          "scattergeo": [
           {
            "marker": {
             "colorbar": {
              "outlinewidth": 0,
              "tickcolor": "rgb(36,36,36)",
              "ticklen": 8,
              "ticks": "outside",
              "tickwidth": 2
             }
            },
            "type": "scattergeo"
           }
          ],
          "scattergl": [
           {
            "marker": {
             "colorbar": {
              "outlinewidth": 0,
              "tickcolor": "rgb(36,36,36)",
              "ticklen": 8,
              "ticks": "outside",
              "tickwidth": 2
             }
            },
            "type": "scattergl"
           }
          ],
          "scattermapbox": [
           {
            "marker": {
             "colorbar": {
              "outlinewidth": 0,
              "tickcolor": "rgb(36,36,36)",
              "ticklen": 8,
              "ticks": "outside",
              "tickwidth": 2
             }
            },
            "type": "scattermapbox"
           }
          ],
          "scatterpolar": [
           {
            "marker": {
             "colorbar": {
              "outlinewidth": 0,
              "tickcolor": "rgb(36,36,36)",
              "ticklen": 8,
              "ticks": "outside",
              "tickwidth": 2
             }
            },
            "type": "scatterpolar"
           }
          ],
          "scatterpolargl": [
           {
            "marker": {
             "colorbar": {
              "outlinewidth": 0,
              "tickcolor": "rgb(36,36,36)",
              "ticklen": 8,
              "ticks": "outside",
              "tickwidth": 2
             }
            },
            "type": "scatterpolargl"
           }
          ],
          "scatterternary": [
           {
            "marker": {
             "colorbar": {
              "outlinewidth": 0,
              "tickcolor": "rgb(36,36,36)",
              "ticklen": 8,
              "ticks": "outside",
              "tickwidth": 2
             }
            },
            "type": "scatterternary"
           }
          ],
          "surface": [
           {
            "colorbar": {
             "outlinewidth": 0,
             "tickcolor": "rgb(36,36,36)",
             "ticklen": 8,
             "ticks": "outside",
             "tickwidth": 2
            },
            "colorscale": [
             [
              0,
              "rgb(2,4,25)"
             ],
             [
              0.06274509803921569,
              "rgb(24,15,41)"
             ],
             [
              0.12549019607843137,
              "rgb(47,23,57)"
             ],
             [
              0.18823529411764706,
              "rgb(71,28,72)"
             ],
             [
              0.25098039215686274,
              "rgb(97,30,82)"
             ],
             [
              0.3137254901960784,
              "rgb(123,30,89)"
             ],
             [
              0.3764705882352941,
              "rgb(150,27,91)"
             ],
             [
              0.4392156862745098,
              "rgb(177,22,88)"
             ],
             [
              0.5019607843137255,
              "rgb(203,26,79)"
             ],
             [
              0.5647058823529412,
              "rgb(223,47,67)"
             ],
             [
              0.6274509803921569,
              "rgb(236,76,61)"
             ],
             [
              0.6901960784313725,
              "rgb(242,107,73)"
             ],
             [
              0.7529411764705882,
              "rgb(244,135,95)"
             ],
             [
              0.8156862745098039,
              "rgb(245,162,122)"
             ],
             [
              0.8784313725490196,
              "rgb(246,188,153)"
             ],
             [
              0.9411764705882353,
              "rgb(247,212,187)"
             ],
             [
              1,
              "rgb(250,234,220)"
             ]
            ],
            "type": "surface"
           }
          ],
          "table": [
           {
            "cells": {
             "fill": {
              "color": "rgb(231,231,240)"
             },
             "line": {
              "color": "white"
             }
            },
            "header": {
             "fill": {
              "color": "rgb(183,183,191)"
             },
             "line": {
              "color": "white"
             }
            },
            "type": "table"
           }
          ]
         },
         "layout": {
          "annotationdefaults": {
           "arrowcolor": "rgb(67,103,167)"
          },
          "autotypenumbers": "strict",
          "coloraxis": {
           "colorbar": {
            "outlinewidth": 0,
            "tickcolor": "rgb(36,36,36)",
            "ticklen": 8,
            "ticks": "outside",
            "tickwidth": 2
           }
          },
          "colorscale": {
           "sequential": [
            [
             0,
             "rgb(2,4,25)"
            ],
            [
             0.06274509803921569,
             "rgb(24,15,41)"
            ],
            [
             0.12549019607843137,
             "rgb(47,23,57)"
            ],
            [
             0.18823529411764706,
             "rgb(71,28,72)"
            ],
            [
             0.25098039215686274,
             "rgb(97,30,82)"
            ],
            [
             0.3137254901960784,
             "rgb(123,30,89)"
            ],
            [
             0.3764705882352941,
             "rgb(150,27,91)"
            ],
            [
             0.4392156862745098,
             "rgb(177,22,88)"
            ],
            [
             0.5019607843137255,
             "rgb(203,26,79)"
            ],
            [
             0.5647058823529412,
             "rgb(223,47,67)"
            ],
            [
             0.6274509803921569,
             "rgb(236,76,61)"
            ],
            [
             0.6901960784313725,
             "rgb(242,107,73)"
            ],
            [
             0.7529411764705882,
             "rgb(244,135,95)"
            ],
            [
             0.8156862745098039,
             "rgb(245,162,122)"
            ],
            [
             0.8784313725490196,
             "rgb(246,188,153)"
            ],
            [
             0.9411764705882353,
             "rgb(247,212,187)"
            ],
            [
             1,
             "rgb(250,234,220)"
            ]
           ],
           "sequentialminus": [
            [
             0,
             "rgb(2,4,25)"
            ],
            [
             0.06274509803921569,
             "rgb(24,15,41)"
            ],
            [
             0.12549019607843137,
             "rgb(47,23,57)"
            ],
            [
             0.18823529411764706,
             "rgb(71,28,72)"
            ],
            [
             0.25098039215686274,
             "rgb(97,30,82)"
            ],
            [
             0.3137254901960784,
             "rgb(123,30,89)"
            ],
            [
             0.3764705882352941,
             "rgb(150,27,91)"
            ],
            [
             0.4392156862745098,
             "rgb(177,22,88)"
            ],
            [
             0.5019607843137255,
             "rgb(203,26,79)"
            ],
            [
             0.5647058823529412,
             "rgb(223,47,67)"
            ],
            [
             0.6274509803921569,
             "rgb(236,76,61)"
            ],
            [
             0.6901960784313725,
             "rgb(242,107,73)"
            ],
            [
             0.7529411764705882,
             "rgb(244,135,95)"
            ],
            [
             0.8156862745098039,
             "rgb(245,162,122)"
            ],
            [
             0.8784313725490196,
             "rgb(246,188,153)"
            ],
            [
             0.9411764705882353,
             "rgb(247,212,187)"
            ],
            [
             1,
             "rgb(250,234,220)"
            ]
           ]
          },
          "colorway": [
           "rgb(76,114,176)",
           "rgb(221,132,82)",
           "rgb(85,168,104)",
           "rgb(196,78,82)",
           "rgb(129,114,179)",
           "rgb(147,120,96)",
           "rgb(218,139,195)",
           "rgb(140,140,140)",
           "rgb(204,185,116)",
           "rgb(100,181,205)"
          ],
          "font": {
           "color": "rgb(36,36,36)"
          },
          "geo": {
           "bgcolor": "white",
           "lakecolor": "white",
           "landcolor": "rgb(234,234,242)",
           "showlakes": true,
           "showland": true,
           "subunitcolor": "white"
          },
          "hoverlabel": {
           "align": "left"
          },
          "hovermode": "closest",
          "paper_bgcolor": "white",
          "plot_bgcolor": "rgb(234,234,242)",
          "polar": {
           "angularaxis": {
            "gridcolor": "white",
            "linecolor": "white",
            "showgrid": true,
            "ticks": ""
           },
           "bgcolor": "rgb(234,234,242)",
           "radialaxis": {
            "gridcolor": "white",
            "linecolor": "white",
            "showgrid": true,
            "ticks": ""
           }
          },
          "scene": {
           "xaxis": {
            "backgroundcolor": "rgb(234,234,242)",
            "gridcolor": "white",
            "gridwidth": 2,
            "linecolor": "white",
            "showbackground": true,
            "showgrid": true,
            "ticks": "",
            "zerolinecolor": "white"
           },
           "yaxis": {
            "backgroundcolor": "rgb(234,234,242)",
            "gridcolor": "white",
            "gridwidth": 2,
            "linecolor": "white",
            "showbackground": true,
            "showgrid": true,
            "ticks": "",
            "zerolinecolor": "white"
           },
           "zaxis": {
            "backgroundcolor": "rgb(234,234,242)",
            "gridcolor": "white",
            "gridwidth": 2,
            "linecolor": "white",
            "showbackground": true,
            "showgrid": true,
            "ticks": "",
            "zerolinecolor": "white"
           }
          },
          "shapedefaults": {
           "fillcolor": "rgb(67,103,167)",
           "line": {
            "width": 0
           },
           "opacity": 0.5
          },
          "ternary": {
           "aaxis": {
            "gridcolor": "white",
            "linecolor": "white",
            "showgrid": true,
            "ticks": ""
           },
           "baxis": {
            "gridcolor": "white",
            "linecolor": "white",
            "showgrid": true,
            "ticks": ""
           },
           "bgcolor": "rgb(234,234,242)",
           "caxis": {
            "gridcolor": "white",
            "linecolor": "white",
            "showgrid": true,
            "ticks": ""
           }
          },
          "xaxis": {
           "automargin": true,
           "gridcolor": "white",
           "linecolor": "white",
           "showgrid": true,
           "ticks": "",
           "title": {
            "standoff": 15
           },
           "zerolinecolor": "white"
          },
          "yaxis": {
           "automargin": true,
           "gridcolor": "white",
           "linecolor": "white",
           "showgrid": true,
           "ticks": "",
           "title": {
            "standoff": 15
           },
           "zerolinecolor": "white"
          }
         }
        },
        "width": 1000,
        "xaxis": {
         "anchor": "y",
         "domain": [
          0,
          1
         ],
         "title": {
          "text": "Threshold value for pixel-posterior hierarchy categorization"
         }
        },
        "yaxis": {
         "anchor": "x",
         "domain": [
          0,
          1
         ],
         "title": {
          "text": "Threshold function"
         }
        }
       }
      },
      "text/html": [
       "<div>                            <div id=\"582bb4e4-5658-4e15-9fd8-13c606c19916\" class=\"plotly-graph-div\" style=\"height:500px; width:1000px;\"></div>            <script type=\"text/javascript\">                require([\"plotly\"], function(Plotly) {                    window.PLOTLYENV=window.PLOTLYENV || {};                                    if (document.getElementById(\"582bb4e4-5658-4e15-9fd8-13c606c19916\")) {                    Plotly.newPlot(                        \"582bb4e4-5658-4e15-9fd8-13c606c19916\",                        [{\"alignmentgroup\":\"True\",\"hovertemplate\":\"Heirarchy=H3\\u003cbr\\u003eThreshold value for pixel-posterior hierarchy categorization=%{x}\\u003cbr\\u003eThreshold function=%{y}\\u003cextra\\u003e\\u003c\\u002fextra\\u003e\",\"legendgroup\":\"H3\",\"marker\":{\"color\":\"rgb(76,114,176)\",\"pattern\":{\"shape\":\"\"}},\"name\":\"H3\",\"offsetgroup\":\"H3\",\"orientation\":\"h\",\"showlegend\":true,\"textposition\":\"auto\",\"x\":[0.0,0.0,0.0,0.0,0.0,0.0,0.0,0.0,0.0,0.0,0.0,0.0,0.0,0.0,0.0,0.0,0.0,0.05,0.0,0.05,0.05,0.05,0.05,0.05,0.05,0.0,0.0,0.05,0.05,0.05,0.1,0.1,0.1,0.1,0.0,0.1,0.1,0.15,0.15,0.15],\"xaxis\":\"x\",\"y\":[\"(0, 0, 0.25)\",\"(0, 0.05, 0.25)\",\"(0, 0.1, 0.25)\",\"(0, 0, 0.2)\",\"(0, 0.05, 0.2)\",\"(0, 0.1, 0.2)\",\"(0, 0.15, 0.25)\",\"(0, 0, 0.3)\",\"(0, 0.05, 0.3)\",\"(0, 0.15, 0.2)\",\"(0, 0.1, 0.3)\",\"(0, 0.2, 0.25)\",\"(0, 0.15, 0.3)\",\"(0, 0, 0.15)\",\"(0, 0.05, 0.15)\",\"(0, 0.1, 0.15)\",\"(0, 0.2, 0.3)\",\"(0.05, 0.1, 0.25)\",\"(0, 0.25, 0.3)\",\"(0.05, 0.1, 0.2)\",\"(0.05, 0.15, 0.25)\",\"(0.05, 0.15, 0.2)\",\"(0.05, 0.1, 0.3)\",\"(0.05, 0.2, 0.25)\",\"(0.05, 0.15, 0.3)\",\"(0, 0, 0.1)\",\"(0, 0.05, 0.1)\",\"(0.05, 0.1, 0.15)\",\"(0.05, 0.2, 0.3)\",\"(0.05, 0.25, 0.3)\",\"(0.1, 0.15, 0.25)\",\"(0.1, 0.15, 0.2)\",\"(0.1, 0.2, 0.25)\",\"(0.1, 0.15, 0.3)\",\"(0, 0, 0.05)\",\"(0.1, 0.2, 0.3)\",\"(0.1, 0.25, 0.3)\",\"(0.15, 0.2, 0.25)\",\"(0.15, 0.2, 0.3)\",\"(0.15, 0.25, 0.3)\"],\"yaxis\":\"y\",\"type\":\"bar\"},{\"alignmentgroup\":\"True\",\"hovertemplate\":\"Heirarchy=H2\\u003cbr\\u003eThreshold value for pixel-posterior hierarchy categorization=%{x}\\u003cbr\\u003eThreshold function=%{y}\\u003cextra\\u003e\\u003c\\u002fextra\\u003e\",\"legendgroup\":\"H2\",\"marker\":{\"color\":\"rgb(221,132,82)\",\"pattern\":{\"shape\":\"\"}},\"name\":\"H2\",\"offsetgroup\":\"H2\",\"orientation\":\"h\",\"showlegend\":true,\"textposition\":\"auto\",\"x\":[0.0,0.05,0.1,0.0,0.05,0.1,0.15,0.0,0.05,0.15,0.1,0.2,0.15,0.0,0.05,0.1,0.2,0.05,0.25,0.05,0.09999999999999999,0.09999999999999999,0.05,0.15000000000000002,0.09999999999999999,0.0,0.05,0.05,0.15000000000000002,0.2,0.04999999999999999,0.04999999999999999,0.1,0.04999999999999999,0.0,0.1,0.15,0.05000000000000002,0.05000000000000002,0.1],\"xaxis\":\"x\",\"y\":[\"(0, 0, 0.25)\",\"(0, 0.05, 0.25)\",\"(0, 0.1, 0.25)\",\"(0, 0, 0.2)\",\"(0, 0.05, 0.2)\",\"(0, 0.1, 0.2)\",\"(0, 0.15, 0.25)\",\"(0, 0, 0.3)\",\"(0, 0.05, 0.3)\",\"(0, 0.15, 0.2)\",\"(0, 0.1, 0.3)\",\"(0, 0.2, 0.25)\",\"(0, 0.15, 0.3)\",\"(0, 0, 0.15)\",\"(0, 0.05, 0.15)\",\"(0, 0.1, 0.15)\",\"(0, 0.2, 0.3)\",\"(0.05, 0.1, 0.25)\",\"(0, 0.25, 0.3)\",\"(0.05, 0.1, 0.2)\",\"(0.05, 0.15, 0.25)\",\"(0.05, 0.15, 0.2)\",\"(0.05, 0.1, 0.3)\",\"(0.05, 0.2, 0.25)\",\"(0.05, 0.15, 0.3)\",\"(0, 0, 0.1)\",\"(0, 0.05, 0.1)\",\"(0.05, 0.1, 0.15)\",\"(0.05, 0.2, 0.3)\",\"(0.05, 0.25, 0.3)\",\"(0.1, 0.15, 0.25)\",\"(0.1, 0.15, 0.2)\",\"(0.1, 0.2, 0.25)\",\"(0.1, 0.15, 0.3)\",\"(0, 0, 0.05)\",\"(0.1, 0.2, 0.3)\",\"(0.1, 0.25, 0.3)\",\"(0.15, 0.2, 0.25)\",\"(0.15, 0.2, 0.3)\",\"(0.15, 0.25, 0.3)\"],\"yaxis\":\"y\",\"type\":\"bar\"},{\"alignmentgroup\":\"True\",\"hovertemplate\":\"Heirarchy=H1\\u003cbr\\u003eThreshold value for pixel-posterior hierarchy categorization=%{x}\\u003cbr\\u003eThreshold function=%{y}\\u003cextra\\u003e\\u003c\\u002fextra\\u003e\",\"legendgroup\":\"H1\",\"marker\":{\"color\":\"rgb(85,168,104)\",\"pattern\":{\"shape\":\"\"}},\"name\":\"H1\",\"offsetgroup\":\"H1\",\"orientation\":\"h\",\"showlegend\":true,\"textposition\":\"auto\",\"x\":[0.25,0.2,0.15,0.2,0.15000000000000002,0.1,0.1,0.3,0.25,0.05000000000000002,0.19999999999999998,0.04999999999999999,0.15,0.15,0.09999999999999999,0.04999999999999999,0.09999999999999998,0.15,0.04999999999999999,0.1,0.1,0.05000000000000002,0.19999999999999998,0.04999999999999999,0.15,0.1,0.05,0.04999999999999999,0.09999999999999998,0.04999999999999999,0.1,0.05000000000000002,0.04999999999999999,0.15,0.05,0.09999999999999998,0.04999999999999999,0.04999999999999999,0.09999999999999998,0.04999999999999999],\"xaxis\":\"x\",\"y\":[\"(0, 0, 0.25)\",\"(0, 0.05, 0.25)\",\"(0, 0.1, 0.25)\",\"(0, 0, 0.2)\",\"(0, 0.05, 0.2)\",\"(0, 0.1, 0.2)\",\"(0, 0.15, 0.25)\",\"(0, 0, 0.3)\",\"(0, 0.05, 0.3)\",\"(0, 0.15, 0.2)\",\"(0, 0.1, 0.3)\",\"(0, 0.2, 0.25)\",\"(0, 0.15, 0.3)\",\"(0, 0, 0.15)\",\"(0, 0.05, 0.15)\",\"(0, 0.1, 0.15)\",\"(0, 0.2, 0.3)\",\"(0.05, 0.1, 0.25)\",\"(0, 0.25, 0.3)\",\"(0.05, 0.1, 0.2)\",\"(0.05, 0.15, 0.25)\",\"(0.05, 0.15, 0.2)\",\"(0.05, 0.1, 0.3)\",\"(0.05, 0.2, 0.25)\",\"(0.05, 0.15, 0.3)\",\"(0, 0, 0.1)\",\"(0, 0.05, 0.1)\",\"(0.05, 0.1, 0.15)\",\"(0.05, 0.2, 0.3)\",\"(0.05, 0.25, 0.3)\",\"(0.1, 0.15, 0.25)\",\"(0.1, 0.15, 0.2)\",\"(0.1, 0.2, 0.25)\",\"(0.1, 0.15, 0.3)\",\"(0, 0, 0.05)\",\"(0.1, 0.2, 0.3)\",\"(0.1, 0.25, 0.3)\",\"(0.15, 0.2, 0.25)\",\"(0.15, 0.2, 0.3)\",\"(0.15, 0.25, 0.3)\"],\"yaxis\":\"y\",\"type\":\"bar\"},{\"alignmentgroup\":\"True\",\"hovertemplate\":\"Heirarchy=H0\\u003cbr\\u003eThreshold value for pixel-posterior hierarchy categorization=%{x}\\u003cbr\\u003eThreshold function=%{y}\\u003cextra\\u003e\\u003c\\u002fextra\\u003e\",\"legendgroup\":\"H0\",\"marker\":{\"color\":\"rgb(196,78,82)\",\"pattern\":{\"shape\":\"\"}},\"name\":\"H0\",\"offsetgroup\":\"H0\",\"orientation\":\"h\",\"showlegend\":true,\"textposition\":\"auto\",\"x\":[0.75,0.75,0.75,0.8,0.8,0.8,0.75,0.7,0.7,0.8,0.7,0.75,0.7,0.85,0.85,0.85,0.7,0.75,0.7,0.8,0.75,0.8,0.7,0.75,0.7,0.9,0.9,0.85,0.7,0.7,0.75,0.8,0.75,0.7,0.95,0.7,0.7,0.75,0.7,0.7],\"xaxis\":\"x\",\"y\":[\"(0, 0, 0.25)\",\"(0, 0.05, 0.25)\",\"(0, 0.1, 0.25)\",\"(0, 0, 0.2)\",\"(0, 0.05, 0.2)\",\"(0, 0.1, 0.2)\",\"(0, 0.15, 0.25)\",\"(0, 0, 0.3)\",\"(0, 0.05, 0.3)\",\"(0, 0.15, 0.2)\",\"(0, 0.1, 0.3)\",\"(0, 0.2, 0.25)\",\"(0, 0.15, 0.3)\",\"(0, 0, 0.15)\",\"(0, 0.05, 0.15)\",\"(0, 0.1, 0.15)\",\"(0, 0.2, 0.3)\",\"(0.05, 0.1, 0.25)\",\"(0, 0.25, 0.3)\",\"(0.05, 0.1, 0.2)\",\"(0.05, 0.15, 0.25)\",\"(0.05, 0.15, 0.2)\",\"(0.05, 0.1, 0.3)\",\"(0.05, 0.2, 0.25)\",\"(0.05, 0.15, 0.3)\",\"(0, 0, 0.1)\",\"(0, 0.05, 0.1)\",\"(0.05, 0.1, 0.15)\",\"(0.05, 0.2, 0.3)\",\"(0.05, 0.25, 0.3)\",\"(0.1, 0.15, 0.25)\",\"(0.1, 0.15, 0.2)\",\"(0.1, 0.2, 0.25)\",\"(0.1, 0.15, 0.3)\",\"(0, 0, 0.05)\",\"(0.1, 0.2, 0.3)\",\"(0.1, 0.25, 0.3)\",\"(0.15, 0.2, 0.25)\",\"(0.15, 0.2, 0.3)\",\"(0.15, 0.25, 0.3)\"],\"yaxis\":\"y\",\"type\":\"bar\"}],                        {\"template\":{\"data\":{\"barpolar\":[{\"marker\":{\"line\":{\"color\":\"rgb(234,234,242)\",\"width\":0.5},\"pattern\":{\"fillmode\":\"overlay\",\"size\":10,\"solidity\":0.2}},\"type\":\"barpolar\"}],\"bar\":[{\"error_x\":{\"color\":\"rgb(36,36,36)\"},\"error_y\":{\"color\":\"rgb(36,36,36)\"},\"marker\":{\"line\":{\"color\":\"rgb(234,234,242)\",\"width\":0.5},\"pattern\":{\"fillmode\":\"overlay\",\"size\":10,\"solidity\":0.2}},\"type\":\"bar\"}],\"carpet\":[{\"aaxis\":{\"endlinecolor\":\"rgb(36,36,36)\",\"gridcolor\":\"white\",\"linecolor\":\"white\",\"minorgridcolor\":\"white\",\"startlinecolor\":\"rgb(36,36,36)\"},\"baxis\":{\"endlinecolor\":\"rgb(36,36,36)\",\"gridcolor\":\"white\",\"linecolor\":\"white\",\"minorgridcolor\":\"white\",\"startlinecolor\":\"rgb(36,36,36)\"},\"type\":\"carpet\"}],\"choropleth\":[{\"colorbar\":{\"outlinewidth\":0,\"tickcolor\":\"rgb(36,36,36)\",\"ticklen\":8,\"ticks\":\"outside\",\"tickwidth\":2},\"type\":\"choropleth\"}],\"contourcarpet\":[{\"colorbar\":{\"outlinewidth\":0,\"tickcolor\":\"rgb(36,36,36)\",\"ticklen\":8,\"ticks\":\"outside\",\"tickwidth\":2},\"type\":\"contourcarpet\"}],\"contour\":[{\"colorbar\":{\"outlinewidth\":0,\"tickcolor\":\"rgb(36,36,36)\",\"ticklen\":8,\"ticks\":\"outside\",\"tickwidth\":2},\"colorscale\":[[0.0,\"rgb(2,4,25)\"],[0.06274509803921569,\"rgb(24,15,41)\"],[0.12549019607843137,\"rgb(47,23,57)\"],[0.18823529411764706,\"rgb(71,28,72)\"],[0.25098039215686274,\"rgb(97,30,82)\"],[0.3137254901960784,\"rgb(123,30,89)\"],[0.3764705882352941,\"rgb(150,27,91)\"],[0.4392156862745098,\"rgb(177,22,88)\"],[0.5019607843137255,\"rgb(203,26,79)\"],[0.5647058823529412,\"rgb(223,47,67)\"],[0.6274509803921569,\"rgb(236,76,61)\"],[0.6901960784313725,\"rgb(242,107,73)\"],[0.7529411764705882,\"rgb(244,135,95)\"],[0.8156862745098039,\"rgb(245,162,122)\"],[0.8784313725490196,\"rgb(246,188,153)\"],[0.9411764705882353,\"rgb(247,212,187)\"],[1.0,\"rgb(250,234,220)\"]],\"type\":\"contour\"}],\"heatmapgl\":[{\"colorbar\":{\"outlinewidth\":0,\"tickcolor\":\"rgb(36,36,36)\",\"ticklen\":8,\"ticks\":\"outside\",\"tickwidth\":2},\"colorscale\":[[0.0,\"rgb(2,4,25)\"],[0.06274509803921569,\"rgb(24,15,41)\"],[0.12549019607843137,\"rgb(47,23,57)\"],[0.18823529411764706,\"rgb(71,28,72)\"],[0.25098039215686274,\"rgb(97,30,82)\"],[0.3137254901960784,\"rgb(123,30,89)\"],[0.3764705882352941,\"rgb(150,27,91)\"],[0.4392156862745098,\"rgb(177,22,88)\"],[0.5019607843137255,\"rgb(203,26,79)\"],[0.5647058823529412,\"rgb(223,47,67)\"],[0.6274509803921569,\"rgb(236,76,61)\"],[0.6901960784313725,\"rgb(242,107,73)\"],[0.7529411764705882,\"rgb(244,135,95)\"],[0.8156862745098039,\"rgb(245,162,122)\"],[0.8784313725490196,\"rgb(246,188,153)\"],[0.9411764705882353,\"rgb(247,212,187)\"],[1.0,\"rgb(250,234,220)\"]],\"type\":\"heatmapgl\"}],\"heatmap\":[{\"colorbar\":{\"outlinewidth\":0,\"tickcolor\":\"rgb(36,36,36)\",\"ticklen\":8,\"ticks\":\"outside\",\"tickwidth\":2},\"colorscale\":[[0.0,\"rgb(2,4,25)\"],[0.06274509803921569,\"rgb(24,15,41)\"],[0.12549019607843137,\"rgb(47,23,57)\"],[0.18823529411764706,\"rgb(71,28,72)\"],[0.25098039215686274,\"rgb(97,30,82)\"],[0.3137254901960784,\"rgb(123,30,89)\"],[0.3764705882352941,\"rgb(150,27,91)\"],[0.4392156862745098,\"rgb(177,22,88)\"],[0.5019607843137255,\"rgb(203,26,79)\"],[0.5647058823529412,\"rgb(223,47,67)\"],[0.6274509803921569,\"rgb(236,76,61)\"],[0.6901960784313725,\"rgb(242,107,73)\"],[0.7529411764705882,\"rgb(244,135,95)\"],[0.8156862745098039,\"rgb(245,162,122)\"],[0.8784313725490196,\"rgb(246,188,153)\"],[0.9411764705882353,\"rgb(247,212,187)\"],[1.0,\"rgb(250,234,220)\"]],\"type\":\"heatmap\"}],\"histogram2dcontour\":[{\"colorbar\":{\"outlinewidth\":0,\"tickcolor\":\"rgb(36,36,36)\",\"ticklen\":8,\"ticks\":\"outside\",\"tickwidth\":2},\"colorscale\":[[0.0,\"rgb(2,4,25)\"],[0.06274509803921569,\"rgb(24,15,41)\"],[0.12549019607843137,\"rgb(47,23,57)\"],[0.18823529411764706,\"rgb(71,28,72)\"],[0.25098039215686274,\"rgb(97,30,82)\"],[0.3137254901960784,\"rgb(123,30,89)\"],[0.3764705882352941,\"rgb(150,27,91)\"],[0.4392156862745098,\"rgb(177,22,88)\"],[0.5019607843137255,\"rgb(203,26,79)\"],[0.5647058823529412,\"rgb(223,47,67)\"],[0.6274509803921569,\"rgb(236,76,61)\"],[0.6901960784313725,\"rgb(242,107,73)\"],[0.7529411764705882,\"rgb(244,135,95)\"],[0.8156862745098039,\"rgb(245,162,122)\"],[0.8784313725490196,\"rgb(246,188,153)\"],[0.9411764705882353,\"rgb(247,212,187)\"],[1.0,\"rgb(250,234,220)\"]],\"type\":\"histogram2dcontour\"}],\"histogram2d\":[{\"colorbar\":{\"outlinewidth\":0,\"tickcolor\":\"rgb(36,36,36)\",\"ticklen\":8,\"ticks\":\"outside\",\"tickwidth\":2},\"colorscale\":[[0.0,\"rgb(2,4,25)\"],[0.06274509803921569,\"rgb(24,15,41)\"],[0.12549019607843137,\"rgb(47,23,57)\"],[0.18823529411764706,\"rgb(71,28,72)\"],[0.25098039215686274,\"rgb(97,30,82)\"],[0.3137254901960784,\"rgb(123,30,89)\"],[0.3764705882352941,\"rgb(150,27,91)\"],[0.4392156862745098,\"rgb(177,22,88)\"],[0.5019607843137255,\"rgb(203,26,79)\"],[0.5647058823529412,\"rgb(223,47,67)\"],[0.6274509803921569,\"rgb(236,76,61)\"],[0.6901960784313725,\"rgb(242,107,73)\"],[0.7529411764705882,\"rgb(244,135,95)\"],[0.8156862745098039,\"rgb(245,162,122)\"],[0.8784313725490196,\"rgb(246,188,153)\"],[0.9411764705882353,\"rgb(247,212,187)\"],[1.0,\"rgb(250,234,220)\"]],\"type\":\"histogram2d\"}],\"histogram\":[{\"marker\":{\"pattern\":{\"fillmode\":\"overlay\",\"size\":10,\"solidity\":0.2}},\"type\":\"histogram\"}],\"mesh3d\":[{\"colorbar\":{\"outlinewidth\":0,\"tickcolor\":\"rgb(36,36,36)\",\"ticklen\":8,\"ticks\":\"outside\",\"tickwidth\":2},\"type\":\"mesh3d\"}],\"parcoords\":[{\"line\":{\"colorbar\":{\"outlinewidth\":0,\"tickcolor\":\"rgb(36,36,36)\",\"ticklen\":8,\"ticks\":\"outside\",\"tickwidth\":2}},\"type\":\"parcoords\"}],\"pie\":[{\"automargin\":true,\"type\":\"pie\"}],\"scatter3d\":[{\"line\":{\"colorbar\":{\"outlinewidth\":0,\"tickcolor\":\"rgb(36,36,36)\",\"ticklen\":8,\"ticks\":\"outside\",\"tickwidth\":2}},\"marker\":{\"colorbar\":{\"outlinewidth\":0,\"tickcolor\":\"rgb(36,36,36)\",\"ticklen\":8,\"ticks\":\"outside\",\"tickwidth\":2}},\"type\":\"scatter3d\"}],\"scattercarpet\":[{\"marker\":{\"colorbar\":{\"outlinewidth\":0,\"tickcolor\":\"rgb(36,36,36)\",\"ticklen\":8,\"ticks\":\"outside\",\"tickwidth\":2}},\"type\":\"scattercarpet\"}],\"scattergeo\":[{\"marker\":{\"colorbar\":{\"outlinewidth\":0,\"tickcolor\":\"rgb(36,36,36)\",\"ticklen\":8,\"ticks\":\"outside\",\"tickwidth\":2}},\"type\":\"scattergeo\"}],\"scattergl\":[{\"marker\":{\"colorbar\":{\"outlinewidth\":0,\"tickcolor\":\"rgb(36,36,36)\",\"ticklen\":8,\"ticks\":\"outside\",\"tickwidth\":2}},\"type\":\"scattergl\"}],\"scattermapbox\":[{\"marker\":{\"colorbar\":{\"outlinewidth\":0,\"tickcolor\":\"rgb(36,36,36)\",\"ticklen\":8,\"ticks\":\"outside\",\"tickwidth\":2}},\"type\":\"scattermapbox\"}],\"scatterpolargl\":[{\"marker\":{\"colorbar\":{\"outlinewidth\":0,\"tickcolor\":\"rgb(36,36,36)\",\"ticklen\":8,\"ticks\":\"outside\",\"tickwidth\":2}},\"type\":\"scatterpolargl\"}],\"scatterpolar\":[{\"marker\":{\"colorbar\":{\"outlinewidth\":0,\"tickcolor\":\"rgb(36,36,36)\",\"ticklen\":8,\"ticks\":\"outside\",\"tickwidth\":2}},\"type\":\"scatterpolar\"}],\"scatter\":[{\"fillpattern\":{\"fillmode\":\"overlay\",\"size\":10,\"solidity\":0.2},\"type\":\"scatter\"}],\"scatterternary\":[{\"marker\":{\"colorbar\":{\"outlinewidth\":0,\"tickcolor\":\"rgb(36,36,36)\",\"ticklen\":8,\"ticks\":\"outside\",\"tickwidth\":2}},\"type\":\"scatterternary\"}],\"surface\":[{\"colorbar\":{\"outlinewidth\":0,\"tickcolor\":\"rgb(36,36,36)\",\"ticklen\":8,\"ticks\":\"outside\",\"tickwidth\":2},\"colorscale\":[[0.0,\"rgb(2,4,25)\"],[0.06274509803921569,\"rgb(24,15,41)\"],[0.12549019607843137,\"rgb(47,23,57)\"],[0.18823529411764706,\"rgb(71,28,72)\"],[0.25098039215686274,\"rgb(97,30,82)\"],[0.3137254901960784,\"rgb(123,30,89)\"],[0.3764705882352941,\"rgb(150,27,91)\"],[0.4392156862745098,\"rgb(177,22,88)\"],[0.5019607843137255,\"rgb(203,26,79)\"],[0.5647058823529412,\"rgb(223,47,67)\"],[0.6274509803921569,\"rgb(236,76,61)\"],[0.6901960784313725,\"rgb(242,107,73)\"],[0.7529411764705882,\"rgb(244,135,95)\"],[0.8156862745098039,\"rgb(245,162,122)\"],[0.8784313725490196,\"rgb(246,188,153)\"],[0.9411764705882353,\"rgb(247,212,187)\"],[1.0,\"rgb(250,234,220)\"]],\"type\":\"surface\"}],\"table\":[{\"cells\":{\"fill\":{\"color\":\"rgb(231,231,240)\"},\"line\":{\"color\":\"white\"}},\"header\":{\"fill\":{\"color\":\"rgb(183,183,191)\"},\"line\":{\"color\":\"white\"}},\"type\":\"table\"}]},\"layout\":{\"annotationdefaults\":{\"arrowcolor\":\"rgb(67,103,167)\"},\"autotypenumbers\":\"strict\",\"coloraxis\":{\"colorbar\":{\"outlinewidth\":0,\"tickcolor\":\"rgb(36,36,36)\",\"ticklen\":8,\"ticks\":\"outside\",\"tickwidth\":2}},\"colorscale\":{\"sequential\":[[0.0,\"rgb(2,4,25)\"],[0.06274509803921569,\"rgb(24,15,41)\"],[0.12549019607843137,\"rgb(47,23,57)\"],[0.18823529411764706,\"rgb(71,28,72)\"],[0.25098039215686274,\"rgb(97,30,82)\"],[0.3137254901960784,\"rgb(123,30,89)\"],[0.3764705882352941,\"rgb(150,27,91)\"],[0.4392156862745098,\"rgb(177,22,88)\"],[0.5019607843137255,\"rgb(203,26,79)\"],[0.5647058823529412,\"rgb(223,47,67)\"],[0.6274509803921569,\"rgb(236,76,61)\"],[0.6901960784313725,\"rgb(242,107,73)\"],[0.7529411764705882,\"rgb(244,135,95)\"],[0.8156862745098039,\"rgb(245,162,122)\"],[0.8784313725490196,\"rgb(246,188,153)\"],[0.9411764705882353,\"rgb(247,212,187)\"],[1.0,\"rgb(250,234,220)\"]],\"sequentialminus\":[[0.0,\"rgb(2,4,25)\"],[0.06274509803921569,\"rgb(24,15,41)\"],[0.12549019607843137,\"rgb(47,23,57)\"],[0.18823529411764706,\"rgb(71,28,72)\"],[0.25098039215686274,\"rgb(97,30,82)\"],[0.3137254901960784,\"rgb(123,30,89)\"],[0.3764705882352941,\"rgb(150,27,91)\"],[0.4392156862745098,\"rgb(177,22,88)\"],[0.5019607843137255,\"rgb(203,26,79)\"],[0.5647058823529412,\"rgb(223,47,67)\"],[0.6274509803921569,\"rgb(236,76,61)\"],[0.6901960784313725,\"rgb(242,107,73)\"],[0.7529411764705882,\"rgb(244,135,95)\"],[0.8156862745098039,\"rgb(245,162,122)\"],[0.8784313725490196,\"rgb(246,188,153)\"],[0.9411764705882353,\"rgb(247,212,187)\"],[1.0,\"rgb(250,234,220)\"]]},\"colorway\":[\"rgb(76,114,176)\",\"rgb(221,132,82)\",\"rgb(85,168,104)\",\"rgb(196,78,82)\",\"rgb(129,114,179)\",\"rgb(147,120,96)\",\"rgb(218,139,195)\",\"rgb(140,140,140)\",\"rgb(204,185,116)\",\"rgb(100,181,205)\"],\"font\":{\"color\":\"rgb(36,36,36)\"},\"geo\":{\"bgcolor\":\"white\",\"lakecolor\":\"white\",\"landcolor\":\"rgb(234,234,242)\",\"showlakes\":true,\"showland\":true,\"subunitcolor\":\"white\"},\"hoverlabel\":{\"align\":\"left\"},\"hovermode\":\"closest\",\"paper_bgcolor\":\"white\",\"plot_bgcolor\":\"rgb(234,234,242)\",\"polar\":{\"angularaxis\":{\"gridcolor\":\"white\",\"linecolor\":\"white\",\"showgrid\":true,\"ticks\":\"\"},\"bgcolor\":\"rgb(234,234,242)\",\"radialaxis\":{\"gridcolor\":\"white\",\"linecolor\":\"white\",\"showgrid\":true,\"ticks\":\"\"}},\"scene\":{\"xaxis\":{\"backgroundcolor\":\"rgb(234,234,242)\",\"gridcolor\":\"white\",\"gridwidth\":2,\"linecolor\":\"white\",\"showbackground\":true,\"showgrid\":true,\"ticks\":\"\",\"zerolinecolor\":\"white\"},\"yaxis\":{\"backgroundcolor\":\"rgb(234,234,242)\",\"gridcolor\":\"white\",\"gridwidth\":2,\"linecolor\":\"white\",\"showbackground\":true,\"showgrid\":true,\"ticks\":\"\",\"zerolinecolor\":\"white\"},\"zaxis\":{\"backgroundcolor\":\"rgb(234,234,242)\",\"gridcolor\":\"white\",\"gridwidth\":2,\"linecolor\":\"white\",\"showbackground\":true,\"showgrid\":true,\"ticks\":\"\",\"zerolinecolor\":\"white\"}},\"shapedefaults\":{\"fillcolor\":\"rgb(67,103,167)\",\"line\":{\"width\":0},\"opacity\":0.5},\"ternary\":{\"aaxis\":{\"gridcolor\":\"white\",\"linecolor\":\"white\",\"showgrid\":true,\"ticks\":\"\"},\"baxis\":{\"gridcolor\":\"white\",\"linecolor\":\"white\",\"showgrid\":true,\"ticks\":\"\"},\"bgcolor\":\"rgb(234,234,242)\",\"caxis\":{\"gridcolor\":\"white\",\"linecolor\":\"white\",\"showgrid\":true,\"ticks\":\"\"}},\"xaxis\":{\"automargin\":true,\"gridcolor\":\"white\",\"linecolor\":\"white\",\"showgrid\":true,\"ticks\":\"\",\"title\":{\"standoff\":15},\"zerolinecolor\":\"white\"},\"yaxis\":{\"automargin\":true,\"gridcolor\":\"white\",\"linecolor\":\"white\",\"showgrid\":true,\"ticks\":\"\",\"title\":{\"standoff\":15},\"zerolinecolor\":\"white\"}}},\"xaxis\":{\"anchor\":\"y\",\"domain\":[0.0,1.0],\"title\":{\"text\":\"Threshold value for pixel-posterior hierarchy categorization\"}},\"yaxis\":{\"anchor\":\"x\",\"domain\":[0.0,1.0],\"title\":{\"text\":\"Threshold function\"}},\"legend\":{\"title\":{\"text\":\"Heirarchy\"},\"tracegroupgap\":0,\"traceorder\":\"reversed\",\"borderwidth\":2},\"margin\":{\"t\":20,\"l\":20,\"r\":20,\"b\":20},\"barmode\":\"stack\",\"font\":{\"family\":\"Serif\",\"size\":14},\"width\":1000,\"height\":500},                        {\"responsive\": true}                    ).then(function(){\n",
       "                            \n",
       "var gd = document.getElementById('582bb4e4-5658-4e15-9fd8-13c606c19916');\n",
       "var x = new MutationObserver(function (mutations, observer) {{\n",
       "        var display = window.getComputedStyle(gd).display;\n",
       "        if (!display || display === 'none') {{\n",
       "            console.log([gd, 'removed!']);\n",
       "            Plotly.purge(gd);\n",
       "            observer.disconnect();\n",
       "        }}\n",
       "}});\n",
       "\n",
       "// Listen for the removal of the full notebook cells\n",
       "var notebookContainer = gd.closest('#notebook-container');\n",
       "if (notebookContainer) {{\n",
       "    x.observe(notebookContainer, {childList: true});\n",
       "}}\n",
       "\n",
       "// Listen for the clearing of the current output cell\n",
       "var outputEl = gd.closest('.output');\n",
       "if (outputEl) {{\n",
       "    x.observe(outputEl, {childList: true});\n",
       "}}\n",
       "\n",
       "                        })                };                });            </script>        </div>"
      ]
     },
     "metadata": {},
     "output_type": "display_data"
    }
   ],
   "source": [
    "#sns.barplot(data=df_functions, x='Threshold function', y='Threshold value for which a pesterior should be $\\geq$ to fall within $H_i$', hue='Heirarchy index',  )\n",
    "import plotly.express as px\n",
    "fig = px.bar(df_functions, y='Threshold function', \n",
    "             x='Threshold value for pixel-posterior hierarchy categorization', \n",
    "            color='Heirarchy', template='seaborn',\n",
    "            barmode = 'stack')\n",
    "fig.update_layout(\n",
    "margin=dict(l=20, r=20, t=20, b=20), font_family=\"Serif\", font_size=14,\n",
    "    width=1000,\n",
    "    height=500,\n",
    "    \n",
    "    \n",
    "    legend=dict(\n",
    "        traceorder=\"reversed\",\n",
    "        #bordercolor=\"Black\",\n",
    "        borderwidth=2\n",
    "    )\n",
    ")\n",
    "fig.show()"
   ]
  },
  {
   "cell_type": "code",
   "execution_count": 9,
   "metadata": {},
   "outputs": [
    {
     "data": {
      "image/png": "[encoded data removed]",
      "text/plain": [
       "<Figure size 720x360 with 2 Axes>"
      ]
     },
     "metadata": {
      "needs_background": "light"
     },
     "output_type": "display_data"
    }
   ],
   "source": [
    "import seaborn as sns\n",
    "from matplotlib import pyplot as plt\n",
    "import matplotlib\n",
    "p = 'Paired'\n",
    "fig, axes = plt.subplots(1, 2, figsize=(10,5))\n",
    "axes[0].set_title('Mean Percentage of Certified Pixels')\n",
    "axes[1].set_title('Mean Certified Info. Gain')\n",
    "\n",
    "# sns.displot(ax=axes[0], \n",
    "#             data=df_functions, \n",
    "#             x='Threshold function', \n",
    "#             y='Threshold value for which a pesterior should be $\\geq$ to fall within $H_i$', \n",
    "#             hue='Heirarchy index',  \n",
    "#             palette=p,)\n",
    "#[axes[0].axvline(x+.5,color='k') for x in axes[0].get_xticks()]\n",
    "sns.lineplot(data=df, x=\"Samples budget ($N$)\", y='Mean percentage of certified pixels', ax=axes[0], legend=False,  \n",
    "             hue=\"Threshold function\", \n",
    "             marker='o',\n",
    "             palette=p, size= \"Threshold function\", \n",
    "             sizes=[2]*(len(set(col_f))-1)+[2],\n",
    "             style=\"Threshold function\", dashes=[[3,0]]+[[6, 1]]*(len(set(col_f))-2)+[[3,0]])\n",
    "sns.lineplot(data=df, x=\"Samples budget ($N$)\", y=\"Mean certified info. gain\",ax=axes[1],  \n",
    "             hue=\"Threshold function\", \n",
    "             marker='o',\n",
    "             palette=p, size= \"Threshold function\", \n",
    "             sizes=[2]*(len(set(col_f))-1)+[2],\n",
    "             style=\"Threshold function\", dashes=[[3,0]]+[[6, 1]]*(len(set(col_f))-2)+[[3,0]])\n",
    "# leg= axes[1].legend()\n",
    "# for line in leg.get_lines()[:-1]:\n",
    "#     line.set_linewidth(4.0)   \n",
    "fig.tight_layout()\n",
    "fig.savefig('graph_images/threshold.pgf')\n"
   ]
  },
  {
   "cell_type": "code",
   "execution_count": 98,
   "metadata": {},
   "outputs": [
    {
     "data": {
      "text/plain": [
       "(0.12375803, 0.07174938, 0.18228425)"
      ]
     },
     "execution_count": 98,
     "metadata": {},
     "output_type": "execute_result"
    }
   ],
   "source": [
    "sns.color_palette(\"rocket\", 11)[0]"
   ]
  }
 ],
 "metadata": {
  "kernelspec": {
   "display_name": "hrnet",
   "language": "python",
   "name": "python3"
  },
  "language_info": {
   "codemirror_mode": {
    "name": "ipython",
    "version": 3
   },
   "file_extension": ".py",
   "mimetype": "text/x-python",
   "name": "python",
   "nbconvert_exporter": "python",
   "pygments_lexer": "ipython3",
   "version": "3.6.13"
  },
  "orig_nbformat": 4
 },
 "nbformat": 4,
 "nbformat_minor": 2
}
