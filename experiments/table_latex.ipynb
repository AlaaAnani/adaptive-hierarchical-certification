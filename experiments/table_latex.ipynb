{
 "cells": [
  {
   "cell_type": "code",
   "execution_count": 131,
   "metadata": {},
   "outputs": [],
   "source": [
    "table = r\"\"\"\n",
    "% Please add the following required packages to your document preamble:\n",
    "% \\usepackage{multirow}\n",
    "\\begin{table}[]\n",
    "\\caption{caption here}\n",
    "\\label{tab:my-table}\n",
    "\\begin{tabular}{llrrlllllll}\n",
    "\\hline\n",
    "\\multicolumn{5}{l}{\\multirow{2}{*}{}} & \\multicolumn{2}{c}{\\multirow{2}{*}{CityScapes}} & \\multicolumn{2}{l}{\\multirow{2}{*}{}} & \\multicolumn{2}{c}{\\multirow{2}{*}{ACDC}} \\\\\n",
    "\\multicolumn{5}{l}{} & \\multicolumn{2}{c}{} & \\multicolumn{2}{l}{} & \\multicolumn{2}{c}{} \\\\ \\cline{6-7} \\cline{10-11} \n",
    " &  & \\multicolumn{1}{l}{$\\sigma$} & \\multicolumn{1}{l}{R} &  & info. gain & $\\%\\oslash$ &  &  & info. gain & $\\%\\oslash$ \\\\ \\hline\n",
    "\\multirow{2}{*}{} & \\multirow{2}{*}{Uncertified HrNet} & \\multicolumn{1}{l}{\\multirow{2}{*}{-}} & \\multicolumn{1}{l}{\\multirow{2}{*}{-}} & \\multirow{2}{*}{} & \\multirow{2}{*}{valuehere1} & \\multirow{2}{*}{valuehere14} & \\multirow{2}{*}{} & \\multirow{2}{*}{} & \\multirow{2}{*}{valuehere27} & \\multirow{2}{*}{valuehere40} \\\\\n",
    " &  & \\multicolumn{1}{l}{} & \\multicolumn{1}{l}{} &  &  &  &  &  &  &  \\\\\n",
    "\\multirow{7}{*}{$n = 100$} & \\multirow{3}{*}{\\begin{tabular}[c]{@{}l@{}}SegCertify\\\\ $\\tau=0.75$\\end{tabular}} & 0.25 & 0.17 &  & valuehere2 & valuehere15 &  &  & valuehere28 & valuehere41 \\\\\n",
    " &  & 0.33 & 0.22 &  & valuehere3 & valuehere16 &  &  & valuehere29 & valuehere42 \\\\\n",
    " &  & 0.5 & 0.34 &  & valuehere4 & valuehere17 &  &  & valuehere30 & valuehere43 \\\\\n",
    " & \\multicolumn{10}{l}{} \\\\\n",
    " & \\multirow{3}{*}{\\begin{tabular}[c]{@{}l@{}}AdaptiveCertify\\\\ $\\tau=0.75$\\end{tabular}} & 0.25 & 0.17 &  & valuehere5 & valuehere18 &  &  & valuehere31 & valuehere44 \\\\\n",
    " &  & 0.33 & 0.22 &  & valuehere6 & valuehere19 &  &  & valuehere32 & valuehere45 \\\\\n",
    " &  & 0.5 & 0.34 &  & valuehere7 & valuehere20 &  &  & valuehere33 & valuehere46 \\\\ \\hline\n",
    "\\multirow{7}{*}{$n=500$} & \\multirow{3}{*}{\\begin{tabular}[c]{@{}l@{}}SegCertify\\\\ $\\tau=0.95$\\end{tabular}} & 0.25 & 0.41 &  & valuehere8 & valuehere21 &  &  & valuehere34 & valuehere47 \\\\\n",
    " &  & 0.33 & 0.52 &  & valuehere9 & valuehere22 &  &  & valuehere35 & valuehere48 \\\\\n",
    " &  & 0.5 & 0.82 &  & valuehere10 & valuehere23 &  &  & valuehere36 & valuehere49 \\\\\n",
    " & \\multicolumn{10}{l}{} \\\\\n",
    " & \\multirow{3}{*}{\\begin{tabular}[c]{@{}l@{}}AdaptiveCertify\\\\ $\\tau=0.95$\\end{tabular}} & 0.25 & 0.41 &  & valuehere11 & valuehere24 &  &  & valuehere37 & valuehere50 \\\\\n",
    " &  & 0.33 & 0.52 &  & valuehere12 & valuehere25 &  &  & valuehere38 & valuehere51 \\\\\n",
    " &  & 0.5 & 0.82 &  & valuehere13 & valuehere26 &  &  & valuehere39 & valuehere52 \\\\ \\hline\n",
    "\\end{tabular}\n",
    "\\end{table}\n",
    "\"\"\" "
   ]
  },
  {
   "cell_type": "code",
   "execution_count": 132,
   "metadata": {},
   "outputs": [
    {
     "name": "stdout",
     "output_type": "stream",
     "text": [
      "base\n"
     ]
    }
   ],
   "source": [
    "import pickle\n",
    "import os\n",
    "from os.path import dirname, abspath\n",
    "import glob\n",
    "import numpy as np\n",
    "from plotly.subplots import make_subplots\n",
    "\n",
    "os.chdir('/BS/mlcysec2/work/adaptive-hierarchical-certification/')\n",
    "\n",
    "experiment_name = 'table'\n",
    "dicts = glob.glob(f'cityscapes_logs/slurm_logs/{experiment_name}/frankfurt_000000_020321.pkl')\n",
    "\n",
    "overall_d = dict()\n",
    "for im_dict in dicts:\n",
    "    d = pickle.load(open(im_dict, 'rb'))\n",
    "    for im_name_k in d.keys():\n",
    "        overall_d[im_name_k] = d[im_name_k]\n",
    "graph_dict = {} # should have (n, n0, th_func, i) as keys, values: sum\n",
    "for name, name_dict in overall_d.items():\n",
    "    for k in name_dict.keys():\n",
    "        if k not in graph_dict:\n",
    "            graph_dict[k] = {'num_pixels':0, \n",
    "                            'certified_pixels':0, \n",
    "                            'uncertified_pos':0,\n",
    "                            'c_info_gain':0, \n",
    "                            'certified_pos':0, \n",
    "                            'boundary_pixels':0, \n",
    "                            'nonboundary_pixels':0, \n",
    "                            'pos_certified_boundary_pixels':0, \n",
    "                            'pos_certified_nonboundary_pixels':0,\n",
    "                            'num_h_pixels':{}, 'pos_h_pixels':{},\n",
    "                            'ig_per_class_dict': {i:{'ig': np.zeros(19), 'pixels_count': np.zeros(19)} for i in range(4)}}\n",
    "        if k == (None, None, None, 0, None, None):\n",
    "            graph_dict[k]['uncertified_pos'] += name_dict[k]['uncertified_pos']\n",
    "            print('base')\n",
    "            continue\n",
    "        graph_dict[k]['num_pixels'] += name_dict[k]['num_pixels']\n",
    "        graph_dict[k]['certified_pixels'] += name_dict[k]['certified_pixels']\n",
    "        graph_dict[k]['certified_pos'] += name_dict[k]['certified_pos']\n",
    "        graph_dict[k]['c_info_gain'] += name_dict[k]['c_info_gain']\n",
    "        for i in name_dict[k]['ig_per_class_dict'].keys():\n",
    "            graph_dict[k]['ig_per_class_dict'][i]['ig'] += name_dict[k]['ig_per_class_dict'][i]['ig']\n",
    "            graph_dict[k]['ig_per_class_dict'][i]['pixels_count'] += name_dict[k]['ig_per_class_dict'][i]['pixels_count']"
   ]
  },
  {
   "cell_type": "code",
   "execution_count": 129,
   "metadata": {},
   "outputs": [
    {
     "name": "stdout",
     "output_type": "stream",
     "text": [
      "here\n"
     ]
    }
   ],
   "source": [
    "k = (500, 10, '(0, 0, 0.25)', 4, 0.5, 0.95)\n",
    "\n",
    "sub_k = ['uncertified_pos'] + ['c_info_gain']*12 + ['certified_pixels']*12\n",
    "num_pixels = graph_dict[k]['num_pixels']\n",
    "t_d = {\n",
    "    # cityscapes info gain\n",
    "    'valuehere1': (None, None, None, 0, None, None),\n",
    "    'valuehere2': (100, 10, None, 0, 0.25, 0.75),\n",
    "    'valuehere3': (100, 10, None, 0, 0.33, 0.75),\n",
    "    'valuehere4': (100, 10, None, 0, 0.5, 0.75),\n",
    "\n",
    "    'valuehere5': (100, 10, '(0, 0, 0.25)', 4, 0.25, 0.75),\n",
    "    'valuehere6': (100, 10, '(0, 0, 0.25)', 4, 0.33, 0.75),\n",
    "    'valuehere7': (100, 10, '(0, 0, 0.25)', 4, 0.5, 0.75),\n",
    "    \n",
    "    'valuehere8': (500, 10, None, 0, 0.25, 0.95),\n",
    "    'valuehere9': (500, 10, None, 0, 0.33, 0.95),\n",
    "    'valuehere10': (500, 10, None, 0, 0.5, 0.95),\n",
    "\n",
    "    'valuehere11': (500, 10, '(0, 0, 0.25)', 4, 0.25, 0.95),\n",
    "    'valuehere12': (500, 10, '(0, 0, 0.25)', 4, 0.33, 0.95),\n",
    "    'valuehere13': (500, 10, '(0, 0, 0.25)', 4, 0.5, 0.95),\n",
    "    # start of abstain\n",
    "    'valuehere15': (100, 10, None, 0, 0.25, 0.75),\n",
    "    'valuehere16': (100, 10, None, 0, 0.33, 0.75),\n",
    "    'valuehere17': (100, 10, None, 0, 0.5, 0.75),\n",
    "\n",
    "    'valuehere18': (100, 10, '(0, 0, 0.25)', 4, 0.25, 0.75),\n",
    "    'valuehere19': (100, 10, '(0, 0, 0.25)', 4, 0.33, 0.75),\n",
    "    'valuehere20': (100, 10, '(0, 0, 0.25)', 4, 0.5, 0.75),\n",
    "    \n",
    "    'valuehere21': (500, 10, None, 0, 0.25, 0.95),\n",
    "    'valuehere22': (500, 10, None, 0, 0.33, 0.95),\n",
    "    'valuehere23': (500, 10, None, 0, 0.5, 0.95),\n",
    "\n",
    "    'valuehere24': (500, 10, '(0, 0, 0.25)', 4, 0.25, 0.95),\n",
    "    'valuehere25': (500, 10, '(0, 0, 0.25)', 4, 0.33, 0.95),\n",
    "    'valuehere26': (500, 10, '(0, 0, 0.25)', 4, 0.5, 0.95),\n",
    "\n",
    "    }\n",
    "for str_to_replace, model_k, sub_k in zip(t_d.keys(), t_d.values(), sub_k):\n",
    "    val = graph_dict[model_k][sub_k]\n",
    "    if sub_k == 'c_info_gain': val = str(round(val/num_pixels/np.log(19), 2))\n",
    "    elif sub_k == 'certified_pixels': val = str(round((num_pixels - val)/num_pixels, 2))\n",
    "    elif sub_k == 'uncertified_pos':  val = str(round(val/num_pixels, 2)); print('here')\n",
    "    table = table.replace(f'{str_to_replace} &', f'${val}$ &')\n",
    "    table = table.replace(str_to_replace+'}', '$'+val+'$}')"
   ]
  },
  {
   "cell_type": "code",
   "execution_count": 130,
   "metadata": {},
   "outputs": [],
   "source": [
    "text_file = open(f\"cityscapes_logs/slurm_logs/{experiment_name}/table.txt\", \"w\")\n",
    " \n",
    "#write string to file\n",
    "text_file.write(table)\n",
    " \n",
    "#close file\n",
    "text_file.close()"
   ]
  },
  {
   "cell_type": "code",
   "execution_count": 31,
   "metadata": {},
   "outputs": [],
   "source": [
    "import json\n",
    "json.dump({'table': table}, open(f'cityscapes_logs/slurm_logs/{experiment_name}/table.txt', 'w'))"
   ]
  }
 ],
 "metadata": {
  "kernelspec": {
   "display_name": "hrnet",
   "language": "python",
   "name": "python3"
  },
  "language_info": {
   "codemirror_mode": {
    "name": "ipython",
    "version": 3
   },
   "file_extension": ".py",
   "mimetype": "text/x-python",
   "name": "python",
   "nbconvert_exporter": "python",
   "pygments_lexer": "ipython3",
   "version": "3.6.13"
  },
  "orig_nbformat": 4
 },
 "nbformat": 4,
 "nbformat_minor": 2
}
